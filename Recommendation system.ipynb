{
 "cells": [
  {
   "cell_type": "markdown",
   "id": "a5b30131",
   "metadata": {},
   "source": [
    "## Построение рекомендательной системы"
   ]
  },
  {
   "cell_type": "markdown",
   "id": "2c9f055f",
   "metadata": {},
   "source": [
    "1. [Weghted Popular Recommender](#1)\n",
    "2. [Collaborative Filtering](#2) \n",
    "    - [Content Based Recommender](#2.1)\n",
    "    - [User-Based Recommender](#2.2)\n",
    "    - [Model-Based Recommender System](#2.3)\n",
    "3. [Сравнение моделей](#3)"
   ]
  },
  {
   "cell_type": "markdown",
   "id": "df856136",
   "metadata": {},
   "source": [
    "<b>Импорт библиотек и скриптов</b>"
   ]
  },
  {
   "cell_type": "code",
   "execution_count": 1,
   "id": "18933418",
   "metadata": {},
   "outputs": [],
   "source": [
    "import pandas as pd\n",
    "import numpy as np\n",
    "from datetime import datetime\n",
    "from datetime import timedelta\n",
    "import pickle\n",
    "\n",
    "import matplotlib\n",
    "import matplotlib.pyplot as plt\n",
    "import seaborn as sns\n",
    "from scipy import stats\n",
    "from ast import literal_eval\n",
    "\n",
    "matplotlib.rcParams.update({'font.size': 12})\n",
    "%matplotlib inline\n",
    "\n",
    "from sklearn.feature_extraction.text import TfidfVectorizer, CountVectorizer\n",
    "from sklearn.metrics.pairwise import linear_kernel, cosine_similarity\n",
    "from nltk.stem.snowball import SnowballStemmer\n",
    "from nltk.stem.wordnet import WordNetLemmatizer\n",
    "from nltk.corpus import wordnet\n",
    "from surprise import Reader, SVD, Dataset, accuracy\n",
    "from surprise.model_selection import GridSearchCV, train_test_split, cross_validate\n",
    "\n",
    "from sklearn.metrics import r2_score, mean_squared_error\n",
    "\n",
    "import warnings\n",
    "warnings.filterwarnings(\"ignore\")\n",
    "\n",
    "sns.set_style('whitegrid')\n",
    "sns.set(font_scale=1.25)\n",
    "pd.set_option('display.max_colwidth', 50)"
   ]
  },
  {
   "cell_type": "markdown",
   "id": "0c956238",
   "metadata": {},
   "source": [
    "<b>Загрузка данных</b>"
   ]
  },
  {
   "cell_type": "code",
   "execution_count": 2,
   "id": "fde9710f",
   "metadata": {},
   "outputs": [],
   "source": [
    "movies_metadata = pd.read_csv('prepared_data/movies_metadata.csv')\n",
    "credits = pd.read_csv('prepared_data/credits.csv')\n",
    "keywords = pd.read_csv('prepared_data/keywords.csv')\n",
    "links = pd.read_csv('full_data/links.csv')\n",
    "ratings = pd.read_csv('full_data/ratings.csv')"
   ]
  },
  {
   "cell_type": "code",
   "execution_count": 3,
   "id": "31a20161",
   "metadata": {},
   "outputs": [],
   "source": [
    "genome_scores = pd.read_csv('full_data/genome-scores.csv')\n",
    "genome_tags = pd.read_csv('full_data/genome-tags.csv')"
   ]
  },
  {
   "cell_type": "code",
   "execution_count": 4,
   "id": "de89a3ff",
   "metadata": {},
   "outputs": [
    {
     "name": "stdout",
     "output_type": "stream",
     "text": [
      "<class 'pandas.core.frame.DataFrame'>\n",
      "RangeIndex: 84851 entries, 0 to 84850\n",
      "Data columns (total 36 columns):\n",
      " #   Column                     Non-Null Count  Dtype  \n",
      "---  ------                     --------------  -----  \n",
      " 0   tmdbId                     84851 non-null  int64  \n",
      " 1   belongs_to_collection      84851 non-null  object \n",
      " 2   budget                     84851 non-null  int64  \n",
      " 3   genres                     84851 non-null  object \n",
      " 4   original_language          84851 non-null  object \n",
      " 5   overview                   84077 non-null  object \n",
      " 6   popularity                 84851 non-null  int64  \n",
      " 7   production_companies       84851 non-null  object \n",
      " 8   production_countries       84851 non-null  object \n",
      " 9   release_date               84851 non-null  object \n",
      " 10  revenue                    84851 non-null  int64  \n",
      " 11  runtime                    84851 non-null  int64  \n",
      " 12  spoken_languages           84851 non-null  object \n",
      " 13  status                     84851 non-null  object \n",
      " 14  tagline                    39336 non-null  object \n",
      " 15  title                      84851 non-null  object \n",
      " 16  vote_average               84851 non-null  float64\n",
      " 17  vote_count                 84851 non-null  int64  \n",
      " 18  production_countries_name  84851 non-null  object \n",
      " 19  spoken_languages_code      84851 non-null  object \n",
      " 20  genre_name                 84851 non-null  object \n",
      " 21  collection_name            8363 non-null   object \n",
      " 22  production_companies_name  84851 non-null  object \n",
      " 23  production_countries_size  84851 non-null  int64  \n",
      " 24  has_collection             84851 non-null  int64  \n",
      " 25  genre_nan                  84851 non-null  int64  \n",
      " 26  budget_nan                 84851 non-null  int64  \n",
      " 27  revenue_nan                84851 non-null  int64  \n",
      " 28  spoken_languages_size      84851 non-null  int64  \n",
      " 29  year                       84851 non-null  int64  \n",
      " 30  day                        84851 non-null  object \n",
      " 31  month                      84851 non-null  object \n",
      " 32  past_days                  84851 non-null  object \n",
      " 33  countries_num              84851 non-null  int64  \n",
      " 34  return                     84851 non-null  float64\n",
      " 35  return_nan                 84851 non-null  bool   \n",
      "dtypes: bool(1), float64(2), int64(14), object(19)\n",
      "memory usage: 22.7+ MB\n"
     ]
    }
   ],
   "source": [
    "movies_metadata.info()"
   ]
  },
  {
   "cell_type": "code",
   "execution_count": 4,
   "id": "4c38bc96",
   "metadata": {},
   "outputs": [],
   "source": [
    "def memory_usage(df):\n",
    "    return df.memory_usage(deep=True).sum()/1024**2\n",
    "    \n",
    "def downcast_numbers(df):\n",
    "    selected_col_int = df.select_dtypes(include=['int']).columns\n",
    "    selected_col_float = df.select_dtypes(include=['float']).columns\n",
    "    \n",
    "    memory_before = memory_usage(df[selected_col_int])+ memory_usage(df[selected_col_float])\n",
    "    \n",
    "    for col in selected_col_int:\n",
    "        mx_col = df[col].max()\n",
    "        mn_col = df[col].min()\n",
    "        if mn_col > np.iinfo(np.int8).min and mx_col < np.iinfo(np.int8).max:\n",
    "            df[col] = df[col].astype(np.int8)\n",
    "        elif mn_col > np.iinfo(np.int16).min and mx_col < np.iinfo(np.int16).max:\n",
    "            df[col] = df[col].astype(np.int16)\n",
    "        elif mn_col > np.iinfo(np.int32).min and mx_col < np.iinfo(np.int32).max:\n",
    "            df[col] = df[col].astype(np.int32)\n",
    "        else:\n",
    "            df[col] = df[col].astype(np.int64)\n",
    "    for col in selected_col_float:\n",
    "        mx_col = df[col].max()\n",
    "        mn_col = df[col].min()\n",
    "        \n",
    "        if mn_col > np.finfo(np.float16).min and mx_col < np.finfo(np.float16).max:\n",
    "            df[col] = df[col].astype(np.float16)\n",
    "        elif mn_col > np.finfo(np.float32).min and mx_col < np.finfo(np.float32).max:\n",
    "            df[col] = df[col].astype(np.float32)\n",
    "        else:\n",
    "            df[col] = df[col].astype(np.float64)\n",
    "    memory_after = memory_usage(df[selected_col_int])+ memory_usage(df[selected_col_float])\n",
    "    print(f'before the number downcast:{memory_before:.2f} MB')\n",
    "    print(f'after the number downcast:{memory_after:.2f} MB')\n",
    "    return df\n",
    "\n",
    "def downcast_object(df, columns:list):\n",
    "    selected_col = columns\n",
    "    print(f'before the object downcast:{memory_usage(df[columns]):.2f} MB')\n",
    "    for col in selected_col:\n",
    "        numbr_of_unique = df[col].nunique()\n",
    "        numbr_total = df[col].shape[0]\n",
    "        if numbr_of_unique / numbr_total < 0.5:\n",
    "            df[col] = df[col].astype('category')\n",
    "    print(f'before the object downcast:{memory_usage(df[columns]):.2f} MB')\n",
    "    return df"
   ]
  },
  {
   "cell_type": "code",
   "execution_count": 5,
   "id": "71c33b37",
   "metadata": {},
   "outputs": [
    {
     "name": "stdout",
     "output_type": "stream",
     "text": [
      "--Ratings--\n",
      "before the number downcast:1032.48 MB\n",
      "after the number downcast:451.71 MB\n",
      "--Keywords--\n",
      "before the number downcast:0.65 MB\n",
      "after the number downcast:0.33 MB\n",
      "--Links--\n",
      "before the number downcast:1.98 MB\n",
      "after the number downcast:0.99 MB\n",
      "--Credits--\n",
      "before the number downcast:1.96 MB\n",
      "after the number downcast:0.65 MB\n",
      "--Movies_metadata--\n",
      "before the number downcast:10.36 MB\n",
      "after the number downcast:3.24 MB\n"
     ]
    }
   ],
   "source": [
    "print('--Ratings--')\n",
    "ratings = downcast_numbers(ratings)\n",
    "ratings.timestamp = [datetime.fromtimestamp(x) for x in ratings['timestamp']]\n",
    "\n",
    "print('--Keywords--')\n",
    "keywords = downcast_numbers(keywords)\n",
    "\n",
    "print('--Links--')\n",
    "links = downcast_numbers(links)\n",
    "\n",
    "print('--Credits--')\n",
    "credits = downcast_numbers(credits)\n",
    "credits.actors = credits.actors.apply(literal_eval)\n",
    "\n",
    "print('--Movies_metadata--')\n",
    "movies_metadata = downcast_numbers(movies_metadata)\n",
    "movies_metadata.release_date = pd.to_datetime(movies_metadata.release_date)"
   ]
  },
  {
   "cell_type": "code",
   "execution_count": 6,
   "id": "8e02e599",
   "metadata": {},
   "outputs": [],
   "source": [
    "movies_metadata.past_days = movies_metadata.past_days.apply(lambda x : int(x.replace(' days', '')))"
   ]
  },
  {
   "cell_type": "code",
   "execution_count": 7,
   "id": "a8bec5aa",
   "metadata": {},
   "outputs": [],
   "source": [
    "def clean_numeric(x):\n",
    "    try:\n",
    "        return float(x)\n",
    "    except:\n",
    "        return np.nan\n",
    "    \n",
    "movies_metadata.vote_average = movies_metadata.vote_average.apply(clean_numeric)"
   ]
  },
  {
   "cell_type": "markdown",
   "id": "d84abadd",
   "metadata": {},
   "source": [
    "### Test train split"
   ]
  },
  {
   "cell_type": "code",
   "execution_count": 8,
   "id": "71912a9c",
   "metadata": {},
   "outputs": [],
   "source": [
    "ratings = ratings.merge(links[['movieId', 'tmdbId']], on='movieId')\n",
    "ratings.drop(ratings[ratings.tmdbId.isna()].index, inplace=True)"
   ]
  },
  {
   "cell_type": "code",
   "execution_count": 9,
   "id": "58d10102",
   "metadata": {},
   "outputs": [],
   "source": [
    "ratings.tmdbId = ratings.tmdbId.astype('int')"
   ]
  },
  {
   "cell_type": "markdown",
   "id": "5f67d036",
   "metadata": {},
   "source": [
    "По данным на 2018 год, в среднем жители России тратят 13 часов в месяц на просмотр фильмов и сериалов, как дома, так и в кинотеатрах. С 2020 года это число стало увеличиваться. За тестовую часть я взяла 60 последних дней. Каждый алгоритм будет рекомендовать 10 фильмов. "
   ]
  },
  {
   "cell_type": "code",
   "execution_count": 10,
   "id": "de6ef793",
   "metadata": {},
   "outputs": [
    {
     "data": {
      "text/plain": [
       "((33669213, 5), (158000, 5))"
      ]
     },
     "execution_count": 10,
     "metadata": {},
     "output_type": "execute_result"
    }
   ],
   "source": [
    "val_size = timedelta(days=60)\n",
    "data_train = ratings[ratings['timestamp'] < ratings['timestamp'].max() - val_size]\n",
    "data_test = ratings[ratings['timestamp'] > ratings['timestamp'].max() - val_size]\n",
    "data_train.shape, data_test.shape"
   ]
  },
  {
   "cell_type": "code",
   "execution_count": 13,
   "id": "bf393c8b",
   "metadata": {},
   "outputs": [
    {
     "name": "stdout",
     "output_type": "stream",
     "text": [
      "Процент новых пользователей в трейне\n"
     ]
    },
    {
     "data": {
      "text/plain": [
       "0.28667595171773447"
      ]
     },
     "execution_count": 13,
     "metadata": {},
     "output_type": "execute_result"
    }
   ],
   "source": [
    "print('Процент новых пользователей в трейне')\n",
    "len(set(data_test.userId.unique()) - set(data_train.userId.unique())) / len(data_test.userId.unique())"
   ]
  },
  {
   "cell_type": "code",
   "execution_count": 14,
   "id": "1218374d",
   "metadata": {},
   "outputs": [
    {
     "name": "stdout",
     "output_type": "stream",
     "text": [
      "Процент новых фильмов в трейне\n"
     ]
    },
    {
     "data": {
      "text/plain": [
       "0.04160501864236255"
      ]
     },
     "execution_count": 14,
     "metadata": {},
     "output_type": "execute_result"
    }
   ],
   "source": [
    "print('Процент новых фильмов в трейне')\n",
    "len(set(data_test.tmdbId.unique()) - set(data_train.tmdbId.unique())) / len(data_test.tmdbId.unique())"
   ]
  },
  {
   "cell_type": "markdown",
   "id": "6d3aaf1d",
   "metadata": {},
   "source": [
    "В тесте больше 28% юзеров нет в трейн датафрейме. То есть мы столкнемся с проблемой холодного старта. Чтобы правильно оценить работу алгоритмов, нужно будет учесть этот момент и расчитать метрики отдельно на всем тесте и только на \"теплых\" пользователях."
   ]
  },
  {
   "cell_type": "code",
   "execution_count": 11,
   "id": "15d15597",
   "metadata": {},
   "outputs": [],
   "source": [
    "cold_users = list(set(data_test.userId.unique()) - set(data_train.userId.unique()))"
   ]
  },
  {
   "cell_type": "code",
   "execution_count": 12,
   "id": "4248c278",
   "metadata": {},
   "outputs": [
    {
     "data": {
      "text/html": [
       "<div>\n",
       "<style scoped>\n",
       "    .dataframe tbody tr th:only-of-type {\n",
       "        vertical-align: middle;\n",
       "    }\n",
       "\n",
       "    .dataframe tbody tr th {\n",
       "        vertical-align: top;\n",
       "    }\n",
       "\n",
       "    .dataframe thead th {\n",
       "        text-align: right;\n",
       "    }\n",
       "</style>\n",
       "<table border=\"1\" class=\"dataframe\">\n",
       "  <thead>\n",
       "    <tr style=\"text-align: right;\">\n",
       "      <th></th>\n",
       "      <th>userId</th>\n",
       "      <th>actual</th>\n",
       "    </tr>\n",
       "  </thead>\n",
       "  <tbody>\n",
       "    <tr>\n",
       "      <th>0</th>\n",
       "      <td>22</td>\n",
       "      <td>[11, 562, 1891, 603, 120, 2048, 1572, 241, 207...</td>\n",
       "    </tr>\n",
       "    <tr>\n",
       "      <th>1</th>\n",
       "      <td>33</td>\n",
       "      <td>[103, 500, 10315, 10243]</td>\n",
       "    </tr>\n",
       "    <tr>\n",
       "      <th>2</th>\n",
       "      <td>203</td>\n",
       "      <td>[13, 238, 27205, 335984]</td>\n",
       "    </tr>\n",
       "    <tr>\n",
       "      <th>3</th>\n",
       "      <td>237</td>\n",
       "      <td>[496243, 587792, 242582]</td>\n",
       "    </tr>\n",
       "    <tr>\n",
       "      <th>4</th>\n",
       "      <td>251</td>\n",
       "      <td>[857, 807, 680, 278, 238, 550, 27205, 68718, 1...</td>\n",
       "    </tr>\n",
       "  </tbody>\n",
       "</table>\n",
       "</div>"
      ],
      "text/plain": [
       "   userId                                             actual\n",
       "0      22  [11, 562, 1891, 603, 120, 2048, 1572, 241, 207...\n",
       "1      33                           [103, 500, 10315, 10243]\n",
       "2     203                           [13, 238, 27205, 335984]\n",
       "3     237                           [496243, 587792, 242582]\n",
       "4     251  [857, 807, 680, 278, 238, 550, 27205, 68718, 1..."
      ]
     },
     "execution_count": 12,
     "metadata": {},
     "output_type": "execute_result"
    }
   ],
   "source": [
    "result = data_test.groupby('userId')['tmdbId'].unique().reset_index()\n",
    "result.columns=['userId', 'actual']\n",
    "result.head()"
   ]
  },
  {
   "cell_type": "markdown",
   "id": "d501950d",
   "metadata": {},
   "source": [
    "### <a id=\"1\">Weghted Popular Recommender</a>"
   ]
  },
  {
   "cell_type": "markdown",
   "id": "dee84631",
   "metadata": {},
   "source": [
    "Используется IMDB's weighted rating formula\n",
    "\n",
    "Weighted Rating (WR) = $(\\frac{v}{v + m} . R) + (\\frac{m}{v + m} . C)$\n",
    "\n",
    "where,\n",
    "* *v* is the number of votes for the movie\n",
    "* *m* is the minimum votes required to be listed in the chart\n",
    "* *R* is the average rating of the movie\n",
    "* *C* is the mean vote across the whole report\n",
    "\n",
    "Следующий шаг — определить подходящее значение для *m*, минимального количества голосов, которое необходимо указать в таблице. В качестве порогового значения мы будем использовать **95-й процентиль**. Другими словами, чтобы фильм попал в чарты, он должен набрать больше голосов, чем как минимум 95% фильмов в списке."
   ]
  },
  {
   "cell_type": "code",
   "execution_count": 64,
   "id": "6232bdae",
   "metadata": {},
   "outputs": [
    {
     "data": {
      "text/plain": [
       "(5.850294330281906, 896.0)"
      ]
     },
     "execution_count": 64,
     "metadata": {},
     "output_type": "execute_result"
    }
   ],
   "source": [
    "vote_counts = movies_metadata['vote_count']\n",
    "vote_averages = movies_metadata['vote_average']\n",
    "C = vote_averages.mean()\n",
    "m = vote_counts.quantile(0.95)\n",
    "C, m"
   ]
  },
  {
   "cell_type": "code",
   "execution_count": 65,
   "id": "cadd69fb",
   "metadata": {},
   "outputs": [
    {
     "data": {
      "text/plain": [
       "(4246, 8)"
      ]
     },
     "execution_count": 65,
     "metadata": {},
     "output_type": "execute_result"
    }
   ],
   "source": [
    "qualified = movies_metadata[(movies_metadata['vote_count'] >= m)][['tmdbId', 'title', 'year', 'vote_count', \n",
    "                                                                   'vote_average', 'popularity', 'genre_name',\n",
    "                                                                  'past_days']]\n",
    "qualified.shape"
   ]
  },
  {
   "cell_type": "markdown",
   "id": "185be060",
   "metadata": {},
   "source": [
    "Существует 4239 фильмов, у которых количество голосов превышает 893. Также, средненное количество среднего рейтинга составило 5.8 из 10"
   ]
  },
  {
   "cell_type": "code",
   "execution_count": 66,
   "id": "4ba286f1",
   "metadata": {},
   "outputs": [],
   "source": [
    "def imdb_weighted_rating(x):\n",
    "    v = x['vote_count']\n",
    "    R = x['vote_average']\n",
    "    return (v/(v+m) * R) + (m/(m+v) * C)"
   ]
  },
  {
   "cell_type": "code",
   "execution_count": 67,
   "id": "1fb7ad15",
   "metadata": {},
   "outputs": [],
   "source": [
    "qualified['imdb_weight'] = qualified.apply(imdb_weighted_rating, axis=1)"
   ]
  },
  {
   "cell_type": "code",
   "execution_count": 68,
   "id": "940c62c0",
   "metadata": {},
   "outputs": [
    {
     "data": {
      "text/html": [
       "<div>\n",
       "<style scoped>\n",
       "    .dataframe tbody tr th:only-of-type {\n",
       "        vertical-align: middle;\n",
       "    }\n",
       "\n",
       "    .dataframe tbody tr th {\n",
       "        vertical-align: top;\n",
       "    }\n",
       "\n",
       "    .dataframe thead th {\n",
       "        text-align: right;\n",
       "    }\n",
       "</style>\n",
       "<table border=\"1\" class=\"dataframe\">\n",
       "  <thead>\n",
       "    <tr style=\"text-align: right;\">\n",
       "      <th></th>\n",
       "      <th>tmdbId</th>\n",
       "      <th>title</th>\n",
       "      <th>year</th>\n",
       "      <th>vote_count</th>\n",
       "      <th>vote_average</th>\n",
       "      <th>popularity</th>\n",
       "      <th>genre_name</th>\n",
       "      <th>past_days</th>\n",
       "      <th>imdb_weight</th>\n",
       "    </tr>\n",
       "  </thead>\n",
       "  <tbody>\n",
       "    <tr>\n",
       "      <th>314</th>\n",
       "      <td>278</td>\n",
       "      <td>The Shawshank Redemption</td>\n",
       "      <td>1994</td>\n",
       "      <td>24976</td>\n",
       "      <td>8.703125</td>\n",
       "      <td>199</td>\n",
       "      <td>Unknown_genre</td>\n",
       "      <td>10539</td>\n",
       "      <td>8.604326</td>\n",
       "    </tr>\n",
       "    <tr>\n",
       "      <th>837</th>\n",
       "      <td>238</td>\n",
       "      <td>The Godfather</td>\n",
       "      <td>1972</td>\n",
       "      <td>18992</td>\n",
       "      <td>8.710938</td>\n",
       "      <td>141</td>\n",
       "      <td>['Drama', 'Crime']</td>\n",
       "      <td>18767</td>\n",
       "      <td>8.582059</td>\n",
       "    </tr>\n",
       "    <tr>\n",
       "      <th>12168</th>\n",
       "      <td>155</td>\n",
       "      <td>The Dark Knight</td>\n",
       "      <td>2008</td>\n",
       "      <td>30960</td>\n",
       "      <td>8.515625</td>\n",
       "      <td>127</td>\n",
       "      <td>['Drama', 'Action', 'Crime', 'Thriller']</td>\n",
       "      <td>5494</td>\n",
       "      <td>8.440658</td>\n",
       "    </tr>\n",
       "    <tr>\n",
       "      <th>522</th>\n",
       "      <td>424</td>\n",
       "      <td>Schindler's List</td>\n",
       "      <td>1993</td>\n",
       "      <td>14816</td>\n",
       "      <td>8.570312</td>\n",
       "      <td>81</td>\n",
       "      <td>Unknown_genre</td>\n",
       "      <td>10821</td>\n",
       "      <td>8.415199</td>\n",
       "    </tr>\n",
       "    <tr>\n",
       "      <th>1186</th>\n",
       "      <td>240</td>\n",
       "      <td>The Godfather Part II</td>\n",
       "      <td>1974</td>\n",
       "      <td>11464</td>\n",
       "      <td>8.601562</td>\n",
       "      <td>89</td>\n",
       "      <td>['Drama', 'Crime']</td>\n",
       "      <td>17756</td>\n",
       "      <td>8.402118</td>\n",
       "    </tr>\n",
       "    <tr>\n",
       "      <th>292</th>\n",
       "      <td>680</td>\n",
       "      <td>Pulp Fiction</td>\n",
       "      <td>1994</td>\n",
       "      <td>26176</td>\n",
       "      <td>8.484375</td>\n",
       "      <td>78</td>\n",
       "      <td>Unknown_genre</td>\n",
       "      <td>10552</td>\n",
       "      <td>8.397195</td>\n",
       "    </tr>\n",
       "    <tr>\n",
       "      <th>5493</th>\n",
       "      <td>129</td>\n",
       "      <td>Spirited Away</td>\n",
       "      <td>2001</td>\n",
       "      <td>15128</td>\n",
       "      <td>8.539062</td>\n",
       "      <td>102</td>\n",
       "      <td>Unknown_genre</td>\n",
       "      <td>8047</td>\n",
       "      <td>8.388717</td>\n",
       "    </tr>\n",
       "    <tr>\n",
       "      <th>351</th>\n",
       "      <td>13</td>\n",
       "      <td>Forrest Gump</td>\n",
       "      <td>1994</td>\n",
       "      <td>25696</td>\n",
       "      <td>8.476562</td>\n",
       "      <td>98</td>\n",
       "      <td>Unknown_genre</td>\n",
       "      <td>10631</td>\n",
       "      <td>8.388072</td>\n",
       "    </tr>\n",
       "    <tr>\n",
       "      <th>59972</th>\n",
       "      <td>496243</td>\n",
       "      <td>Parasite</td>\n",
       "      <td>2019</td>\n",
       "      <td>16672</td>\n",
       "      <td>8.515625</td>\n",
       "      <td>92</td>\n",
       "      <td>Unknown_genre</td>\n",
       "      <td>1524</td>\n",
       "      <td>8.379688</td>\n",
       "    </tr>\n",
       "    <tr>\n",
       "      <th>7010</th>\n",
       "      <td>122</td>\n",
       "      <td>The Lord of the Rings: The Return of the King</td>\n",
       "      <td>2003</td>\n",
       "      <td>22608</td>\n",
       "      <td>8.476562</td>\n",
       "      <td>129</td>\n",
       "      <td>['Adventure', 'Fantasy', 'Action']</td>\n",
       "      <td>7183</td>\n",
       "      <td>8.376446</td>\n",
       "    </tr>\n",
       "    <tr>\n",
       "      <th>3042</th>\n",
       "      <td>497</td>\n",
       "      <td>The Green Mile</td>\n",
       "      <td>1999</td>\n",
       "      <td>16160</td>\n",
       "      <td>8.507812</td>\n",
       "      <td>74</td>\n",
       "      <td>Unknown_genre</td>\n",
       "      <td>8635</td>\n",
       "      <td>8.368206</td>\n",
       "    </tr>\n",
       "    <tr>\n",
       "      <th>2855</th>\n",
       "      <td>550</td>\n",
       "      <td>Fight Club</td>\n",
       "      <td>1999</td>\n",
       "      <td>27552</td>\n",
       "      <td>8.437500</td>\n",
       "      <td>90</td>\n",
       "      <td>Unknown_genre</td>\n",
       "      <td>8691</td>\n",
       "      <td>8.356013</td>\n",
       "    </tr>\n",
       "    <tr>\n",
       "      <th>20996</th>\n",
       "      <td>157336</td>\n",
       "      <td>Interstellar</td>\n",
       "      <td>2014</td>\n",
       "      <td>32960</td>\n",
       "      <td>8.421875</td>\n",
       "      <td>170</td>\n",
       "      <td>Unknown_genre</td>\n",
       "      <td>3191</td>\n",
       "      <td>8.353818</td>\n",
       "    </tr>\n",
       "    <tr>\n",
       "      <th>1178</th>\n",
       "      <td>769</td>\n",
       "      <td>GoodFellas</td>\n",
       "      <td>1990</td>\n",
       "      <td>11904</td>\n",
       "      <td>8.500000</td>\n",
       "      <td>85</td>\n",
       "      <td>Unknown_genre</td>\n",
       "      <td>12011</td>\n",
       "      <td>8.314521</td>\n",
       "    </tr>\n",
       "    <tr>\n",
       "      <th>4873</th>\n",
       "      <td>120</td>\n",
       "      <td>The Lord of the Rings: The Fellowship of the Ring</td>\n",
       "      <td>2001</td>\n",
       "      <td>23568</td>\n",
       "      <td>8.406250</td>\n",
       "      <td>106</td>\n",
       "      <td>['Adventure', 'Fantasy', 'Action']</td>\n",
       "      <td>7896</td>\n",
       "      <td>8.312637</td>\n",
       "    </tr>\n",
       "  </tbody>\n",
       "</table>\n",
       "</div>"
      ],
      "text/plain": [
       "       tmdbId                                              title  year  \\\n",
       "314       278                           The Shawshank Redemption  1994   \n",
       "837       238                                      The Godfather  1972   \n",
       "12168     155                                    The Dark Knight  2008   \n",
       "522       424                                   Schindler's List  1993   \n",
       "1186      240                              The Godfather Part II  1974   \n",
       "292       680                                       Pulp Fiction  1994   \n",
       "5493      129                                      Spirited Away  2001   \n",
       "351        13                                       Forrest Gump  1994   \n",
       "59972  496243                                           Parasite  2019   \n",
       "7010      122      The Lord of the Rings: The Return of the King  2003   \n",
       "3042      497                                     The Green Mile  1999   \n",
       "2855      550                                         Fight Club  1999   \n",
       "20996  157336                                       Interstellar  2014   \n",
       "1178      769                                         GoodFellas  1990   \n",
       "4873      120  The Lord of the Rings: The Fellowship of the Ring  2001   \n",
       "\n",
       "       vote_count  vote_average  popularity  \\\n",
       "314         24976      8.703125         199   \n",
       "837         18992      8.710938         141   \n",
       "12168       30960      8.515625         127   \n",
       "522         14816      8.570312          81   \n",
       "1186        11464      8.601562          89   \n",
       "292         26176      8.484375          78   \n",
       "5493        15128      8.539062         102   \n",
       "351         25696      8.476562          98   \n",
       "59972       16672      8.515625          92   \n",
       "7010        22608      8.476562         129   \n",
       "3042        16160      8.507812          74   \n",
       "2855        27552      8.437500          90   \n",
       "20996       32960      8.421875         170   \n",
       "1178        11904      8.500000          85   \n",
       "4873        23568      8.406250         106   \n",
       "\n",
       "                                     genre_name  past_days  imdb_weight  \n",
       "314                               Unknown_genre      10539     8.604326  \n",
       "837                          ['Drama', 'Crime']      18767     8.582059  \n",
       "12168  ['Drama', 'Action', 'Crime', 'Thriller']       5494     8.440658  \n",
       "522                               Unknown_genre      10821     8.415199  \n",
       "1186                         ['Drama', 'Crime']      17756     8.402118  \n",
       "292                               Unknown_genre      10552     8.397195  \n",
       "5493                              Unknown_genre       8047     8.388717  \n",
       "351                               Unknown_genre      10631     8.388072  \n",
       "59972                             Unknown_genre       1524     8.379688  \n",
       "7010         ['Adventure', 'Fantasy', 'Action']       7183     8.376446  \n",
       "3042                              Unknown_genre       8635     8.368206  \n",
       "2855                              Unknown_genre       8691     8.356013  \n",
       "20996                             Unknown_genre       3191     8.353818  \n",
       "1178                              Unknown_genre      12011     8.314521  \n",
       "4873         ['Adventure', 'Fantasy', 'Action']       7896     8.312637  "
      ]
     },
     "execution_count": 68,
     "metadata": {},
     "output_type": "execute_result"
    }
   ],
   "source": [
    "qualified.sort_values('imdb_weight', ascending=False).head(15)"
   ]
  },
  {
   "cell_type": "markdown",
   "id": "e4509177",
   "metadata": {},
   "source": [
    "В топ 15 больше всего входят такие фильмы, которые заработали свою популярность за многие года. Топовый фильм - \"Побег уз Шоушенка\" вообще снят практически 20 лет назад. Это признанные и, можно сказать, эталонные фильмы. Такой топ тоже имеет место быть, но совсем не дает шанса более новым достойным фильмам, которые в силу своего сравнитено короткого периода жизни на экранах, еще не получили достаточное количество голосов.\n",
    "\n",
    "Поэтому сбалансируем веса с помощью признака past_days, который содержит количество дней, прошедших с момента релиза."
   ]
  },
  {
   "cell_type": "code",
   "execution_count": 69,
   "id": "d1a320f4",
   "metadata": {},
   "outputs": [
    {
     "data": {
      "text/plain": [
       "54291"
      ]
     },
     "execution_count": 69,
     "metadata": {},
     "output_type": "execute_result"
    }
   ],
   "source": [
    "T = movies_metadata.past_days.max()\n",
    "T"
   ]
  },
  {
   "cell_type": "code",
   "execution_count": 70,
   "id": "66bd1804",
   "metadata": {},
   "outputs": [],
   "source": [
    "def imdb_weighted_rating_improved(x):\n",
    "    v = x['vote_count']\n",
    "    R = x['vote_average']\n",
    "    t = x['past_days']\n",
    "    p = x['popularity']\n",
    "    return (v/(v+m) * R) + (m/(m+v) * C) + ((T-t)/T)"
   ]
  },
  {
   "cell_type": "code",
   "execution_count": 71,
   "id": "bb51f533",
   "metadata": {},
   "outputs": [],
   "source": [
    "qualified['imdb_weight_impr'] = qualified.apply(imdb_weighted_rating_improved, axis=1)"
   ]
  },
  {
   "cell_type": "code",
   "execution_count": 72,
   "id": "af991bfd",
   "metadata": {},
   "outputs": [
    {
     "data": {
      "text/html": [
       "<div>\n",
       "<style scoped>\n",
       "    .dataframe tbody tr th:only-of-type {\n",
       "        vertical-align: middle;\n",
       "    }\n",
       "\n",
       "    .dataframe tbody tr th {\n",
       "        vertical-align: top;\n",
       "    }\n",
       "\n",
       "    .dataframe thead th {\n",
       "        text-align: right;\n",
       "    }\n",
       "</style>\n",
       "<table border=\"1\" class=\"dataframe\">\n",
       "  <thead>\n",
       "    <tr style=\"text-align: right;\">\n",
       "      <th></th>\n",
       "      <th>tmdbId</th>\n",
       "      <th>title</th>\n",
       "      <th>year</th>\n",
       "      <th>vote_count</th>\n",
       "      <th>vote_average</th>\n",
       "      <th>popularity</th>\n",
       "      <th>genre_name</th>\n",
       "      <th>past_days</th>\n",
       "      <th>imdb_weight</th>\n",
       "      <th>imdb_weight_impr</th>\n",
       "    </tr>\n",
       "  </thead>\n",
       "  <tbody>\n",
       "    <tr>\n",
       "      <th>314</th>\n",
       "      <td>278</td>\n",
       "      <td>The Shawshank Redemption</td>\n",
       "      <td>1994</td>\n",
       "      <td>24976</td>\n",
       "      <td>8.703125</td>\n",
       "      <td>199</td>\n",
       "      <td>Unknown_genre</td>\n",
       "      <td>10539</td>\n",
       "      <td>8.604326</td>\n",
       "      <td>9.410205</td>\n",
       "    </tr>\n",
       "    <tr>\n",
       "      <th>59972</th>\n",
       "      <td>496243</td>\n",
       "      <td>Parasite</td>\n",
       "      <td>2019</td>\n",
       "      <td>16672</td>\n",
       "      <td>8.515625</td>\n",
       "      <td>92</td>\n",
       "      <td>Unknown_genre</td>\n",
       "      <td>1524</td>\n",
       "      <td>8.379688</td>\n",
       "      <td>9.351617</td>\n",
       "    </tr>\n",
       "    <tr>\n",
       "      <th>12168</th>\n",
       "      <td>155</td>\n",
       "      <td>The Dark Knight</td>\n",
       "      <td>2008</td>\n",
       "      <td>30960</td>\n",
       "      <td>8.515625</td>\n",
       "      <td>127</td>\n",
       "      <td>['Drama', 'Action', 'Crime', 'Thriller']</td>\n",
       "      <td>5494</td>\n",
       "      <td>8.440658</td>\n",
       "      <td>9.339463</td>\n",
       "    </tr>\n",
       "    <tr>\n",
       "      <th>20996</th>\n",
       "      <td>157336</td>\n",
       "      <td>Interstellar</td>\n",
       "      <td>2014</td>\n",
       "      <td>32960</td>\n",
       "      <td>8.421875</td>\n",
       "      <td>170</td>\n",
       "      <td>Unknown_genre</td>\n",
       "      <td>3191</td>\n",
       "      <td>8.353818</td>\n",
       "      <td>9.295042</td>\n",
       "    </tr>\n",
       "    <tr>\n",
       "      <th>41866</th>\n",
       "      <td>372058</td>\n",
       "      <td>Your Name.</td>\n",
       "      <td>2016</td>\n",
       "      <td>10528</td>\n",
       "      <td>8.507812</td>\n",
       "      <td>116</td>\n",
       "      <td>Unknown_genre</td>\n",
       "      <td>2531</td>\n",
       "      <td>8.299380</td>\n",
       "      <td>9.252761</td>\n",
       "    </tr>\n",
       "    <tr>\n",
       "      <th>7010</th>\n",
       "      <td>122</td>\n",
       "      <td>The Lord of the Rings: The Return of the King</td>\n",
       "      <td>2003</td>\n",
       "      <td>22608</td>\n",
       "      <td>8.476562</td>\n",
       "      <td>129</td>\n",
       "      <td>['Adventure', 'Fantasy', 'Action']</td>\n",
       "      <td>7183</td>\n",
       "      <td>8.376446</td>\n",
       "      <td>9.244141</td>\n",
       "    </tr>\n",
       "    <tr>\n",
       "      <th>5493</th>\n",
       "      <td>129</td>\n",
       "      <td>Spirited Away</td>\n",
       "      <td>2001</td>\n",
       "      <td>15128</td>\n",
       "      <td>8.539062</td>\n",
       "      <td>102</td>\n",
       "      <td>Unknown_genre</td>\n",
       "      <td>8047</td>\n",
       "      <td>8.388717</td>\n",
       "      <td>9.240497</td>\n",
       "    </tr>\n",
       "    <tr>\n",
       "      <th>837</th>\n",
       "      <td>238</td>\n",
       "      <td>The Godfather</td>\n",
       "      <td>1972</td>\n",
       "      <td>18992</td>\n",
       "      <td>8.710938</td>\n",
       "      <td>141</td>\n",
       "      <td>['Drama', 'Crime']</td>\n",
       "      <td>18767</td>\n",
       "      <td>8.582059</td>\n",
       "      <td>9.236385</td>\n",
       "    </tr>\n",
       "    <tr>\n",
       "      <th>56654</th>\n",
       "      <td>324857</td>\n",
       "      <td>Spider-Man: Into the Spider-Verse</td>\n",
       "      <td>2018</td>\n",
       "      <td>14256</td>\n",
       "      <td>8.406250</td>\n",
       "      <td>110</td>\n",
       "      <td>['Action', 'Adventure', 'Animation', 'Science ...</td>\n",
       "      <td>1699</td>\n",
       "      <td>8.255106</td>\n",
       "      <td>9.223812</td>\n",
       "    </tr>\n",
       "    <tr>\n",
       "      <th>14849</th>\n",
       "      <td>27205</td>\n",
       "      <td>Inception</td>\n",
       "      <td>2010</td>\n",
       "      <td>34784</td>\n",
       "      <td>8.367188</td>\n",
       "      <td>154</td>\n",
       "      <td>Unknown_genre</td>\n",
       "      <td>4765</td>\n",
       "      <td>8.303983</td>\n",
       "      <td>9.216215</td>\n",
       "    </tr>\n",
       "    <tr>\n",
       "      <th>522</th>\n",
       "      <td>424</td>\n",
       "      <td>Schindler's List</td>\n",
       "      <td>1993</td>\n",
       "      <td>14816</td>\n",
       "      <td>8.570312</td>\n",
       "      <td>81</td>\n",
       "      <td>Unknown_genre</td>\n",
       "      <td>10821</td>\n",
       "      <td>8.415199</td>\n",
       "      <td>9.215885</td>\n",
       "    </tr>\n",
       "    <tr>\n",
       "      <th>3042</th>\n",
       "      <td>497</td>\n",
       "      <td>The Green Mile</td>\n",
       "      <td>1999</td>\n",
       "      <td>16160</td>\n",
       "      <td>8.507812</td>\n",
       "      <td>74</td>\n",
       "      <td>Unknown_genre</td>\n",
       "      <td>8635</td>\n",
       "      <td>8.368206</td>\n",
       "      <td>9.209155</td>\n",
       "    </tr>\n",
       "    <tr>\n",
       "      <th>292</th>\n",
       "      <td>680</td>\n",
       "      <td>Pulp Fiction</td>\n",
       "      <td>1994</td>\n",
       "      <td>26176</td>\n",
       "      <td>8.484375</td>\n",
       "      <td>78</td>\n",
       "      <td>Unknown_genre</td>\n",
       "      <td>10552</td>\n",
       "      <td>8.397195</td>\n",
       "      <td>9.202835</td>\n",
       "    </tr>\n",
       "    <tr>\n",
       "      <th>2855</th>\n",
       "      <td>550</td>\n",
       "      <td>Fight Club</td>\n",
       "      <td>1999</td>\n",
       "      <td>27552</td>\n",
       "      <td>8.437500</td>\n",
       "      <td>90</td>\n",
       "      <td>Unknown_genre</td>\n",
       "      <td>8691</td>\n",
       "      <td>8.356013</td>\n",
       "      <td>9.195931</td>\n",
       "    </tr>\n",
       "    <tr>\n",
       "      <th>351</th>\n",
       "      <td>13</td>\n",
       "      <td>Forrest Gump</td>\n",
       "      <td>1994</td>\n",
       "      <td>25696</td>\n",
       "      <td>8.476562</td>\n",
       "      <td>98</td>\n",
       "      <td>Unknown_genre</td>\n",
       "      <td>10631</td>\n",
       "      <td>8.388072</td>\n",
       "      <td>9.192257</td>\n",
       "    </tr>\n",
       "  </tbody>\n",
       "</table>\n",
       "</div>"
      ],
      "text/plain": [
       "       tmdbId                                          title  year  \\\n",
       "314       278                       The Shawshank Redemption  1994   \n",
       "59972  496243                                       Parasite  2019   \n",
       "12168     155                                The Dark Knight  2008   \n",
       "20996  157336                                   Interstellar  2014   \n",
       "41866  372058                                     Your Name.  2016   \n",
       "7010      122  The Lord of the Rings: The Return of the King  2003   \n",
       "5493      129                                  Spirited Away  2001   \n",
       "837       238                                  The Godfather  1972   \n",
       "56654  324857              Spider-Man: Into the Spider-Verse  2018   \n",
       "14849   27205                                      Inception  2010   \n",
       "522       424                               Schindler's List  1993   \n",
       "3042      497                                 The Green Mile  1999   \n",
       "292       680                                   Pulp Fiction  1994   \n",
       "2855      550                                     Fight Club  1999   \n",
       "351        13                                   Forrest Gump  1994   \n",
       "\n",
       "       vote_count  vote_average  popularity  \\\n",
       "314         24976      8.703125         199   \n",
       "59972       16672      8.515625          92   \n",
       "12168       30960      8.515625         127   \n",
       "20996       32960      8.421875         170   \n",
       "41866       10528      8.507812         116   \n",
       "7010        22608      8.476562         129   \n",
       "5493        15128      8.539062         102   \n",
       "837         18992      8.710938         141   \n",
       "56654       14256      8.406250         110   \n",
       "14849       34784      8.367188         154   \n",
       "522         14816      8.570312          81   \n",
       "3042        16160      8.507812          74   \n",
       "292         26176      8.484375          78   \n",
       "2855        27552      8.437500          90   \n",
       "351         25696      8.476562          98   \n",
       "\n",
       "                                              genre_name  past_days  \\\n",
       "314                                        Unknown_genre      10539   \n",
       "59972                                      Unknown_genre       1524   \n",
       "12168           ['Drama', 'Action', 'Crime', 'Thriller']       5494   \n",
       "20996                                      Unknown_genre       3191   \n",
       "41866                                      Unknown_genre       2531   \n",
       "7010                  ['Adventure', 'Fantasy', 'Action']       7183   \n",
       "5493                                       Unknown_genre       8047   \n",
       "837                                   ['Drama', 'Crime']      18767   \n",
       "56654  ['Action', 'Adventure', 'Animation', 'Science ...       1699   \n",
       "14849                                      Unknown_genre       4765   \n",
       "522                                        Unknown_genre      10821   \n",
       "3042                                       Unknown_genre       8635   \n",
       "292                                        Unknown_genre      10552   \n",
       "2855                                       Unknown_genre       8691   \n",
       "351                                        Unknown_genre      10631   \n",
       "\n",
       "       imdb_weight  imdb_weight_impr  \n",
       "314       8.604326          9.410205  \n",
       "59972     8.379688          9.351617  \n",
       "12168     8.440658          9.339463  \n",
       "20996     8.353818          9.295042  \n",
       "41866     8.299380          9.252761  \n",
       "7010      8.376446          9.244141  \n",
       "5493      8.388717          9.240497  \n",
       "837       8.582059          9.236385  \n",
       "56654     8.255106          9.223812  \n",
       "14849     8.303983          9.216215  \n",
       "522       8.415199          9.215885  \n",
       "3042      8.368206          9.209155  \n",
       "292       8.397195          9.202835  \n",
       "2855      8.356013          9.195931  \n",
       "351       8.388072          9.192257  "
      ]
     },
     "execution_count": 72,
     "metadata": {},
     "output_type": "execute_result"
    }
   ],
   "source": [
    "qualified.sort_values('imdb_weight_impr', ascending=False).head(15)"
   ]
  },
  {
   "cell_type": "markdown",
   "id": "707e8acb",
   "metadata": {},
   "source": [
    "Мы добились желаемого эффекта, в топе появилось больше \"свежих\" фильмов.\n",
    "\n",
    "Такой подход можно применить к фильмам конкретных жанров, то есть, например, получить топ популярных фильмов жанра комедии или ужасов"
   ]
  },
  {
   "cell_type": "code",
   "execution_count": 73,
   "id": "02d8b398",
   "metadata": {},
   "outputs": [],
   "source": [
    "movies_metadata['genre_name'] = movies_metadata['genre_name'].replace(\"Unknown_genre\", \"[]\").apply(literal_eval)\n",
    "s = movies_metadata.apply(lambda x: pd.Series(x['genre_name']),axis=1).stack().reset_index(level=1, drop=True)\n",
    "s.name = 'genre'\n",
    "gen_md = movies_metadata.drop('genres', axis=1).join(s)"
   ]
  },
  {
   "cell_type": "code",
   "execution_count": 74,
   "id": "05461d0d",
   "metadata": {},
   "outputs": [],
   "source": [
    "def get_top_by_genre(genre, percentile=0.85, N=15):\n",
    "    df = gen_md[gen_md['genre'] == genre]\n",
    "    vote_counts = df['vote_count']\n",
    "    vote_averages = df['vote_average']\n",
    "    C = vote_averages.mean()\n",
    "    m = vote_counts.quantile(percentile)\n",
    "    T = df.past_days.max()\n",
    "    \n",
    "    qualified = df[(df['vote_count'] >= m)][['title', 'year', 'vote_count', 'vote_average', 'popularity', 'past_days']]\n",
    "    \n",
    "    qualified['weight'] = qualified.apply(lambda x: (x['vote_count']/(x['vote_count']+m) * x['vote_average']) + (m/(m+x['vote_count']) * C) + ((T - x['past_days'])/ T), \n",
    "                                          axis=1)\n",
    "    qualified = qualified.sort_values('weight', ascending=False).head(N)\n",
    "    return qualified"
   ]
  },
  {
   "cell_type": "markdown",
   "id": "89d61376",
   "metadata": {},
   "source": [
    "Давайте посмотрим топ фильмов жанра фэнтези"
   ]
  },
  {
   "cell_type": "code",
   "execution_count": 75,
   "id": "7a4ffbf3",
   "metadata": {},
   "outputs": [
    {
     "data": {
      "text/html": [
       "<div>\n",
       "<style scoped>\n",
       "    .dataframe tbody tr th:only-of-type {\n",
       "        vertical-align: middle;\n",
       "    }\n",
       "\n",
       "    .dataframe tbody tr th {\n",
       "        vertical-align: top;\n",
       "    }\n",
       "\n",
       "    .dataframe thead th {\n",
       "        text-align: right;\n",
       "    }\n",
       "</style>\n",
       "<table border=\"1\" class=\"dataframe\">\n",
       "  <thead>\n",
       "    <tr style=\"text-align: right;\">\n",
       "      <th></th>\n",
       "      <th>title</th>\n",
       "      <th>year</th>\n",
       "      <th>vote_count</th>\n",
       "      <th>vote_average</th>\n",
       "      <th>popularity</th>\n",
       "      <th>past_days</th>\n",
       "      <th>weight</th>\n",
       "    </tr>\n",
       "  </thead>\n",
       "  <tbody>\n",
       "    <tr>\n",
       "      <th>7010</th>\n",
       "      <td>The Lord of the Rings: The Return of the King</td>\n",
       "      <td>2003</td>\n",
       "      <td>22608</td>\n",
       "      <td>8.476562</td>\n",
       "      <td>129</td>\n",
       "      <td>7183</td>\n",
       "      <td>9.008490</td>\n",
       "    </tr>\n",
       "    <tr>\n",
       "      <th>4873</th>\n",
       "      <td>The Lord of the Rings: The Fellowship of the Ring</td>\n",
       "      <td>2001</td>\n",
       "      <td>23568</td>\n",
       "      <td>8.406250</td>\n",
       "      <td>106</td>\n",
       "      <td>7896</td>\n",
       "      <td>8.939361</td>\n",
       "    </tr>\n",
       "    <tr>\n",
       "      <th>5824</th>\n",
       "      <td>The Lord of the Rings: The Two Towers</td>\n",
       "      <td>2002</td>\n",
       "      <td>20496</td>\n",
       "      <td>8.398438</td>\n",
       "      <td>109</td>\n",
       "      <td>7531</td>\n",
       "      <td>8.907375</td>\n",
       "    </tr>\n",
       "    <tr>\n",
       "      <th>16613</th>\n",
       "      <td>Harry Potter and the Deathly Hallows: Part 2</td>\n",
       "      <td>2011</td>\n",
       "      <td>19376</td>\n",
       "      <td>8.101562</td>\n",
       "      <td>154</td>\n",
       "      <td>4403</td>\n",
       "      <td>8.718815</td>\n",
       "    </tr>\n",
       "    <tr>\n",
       "      <th>7719</th>\n",
       "      <td>Harry Potter and the Prisoner of Azkaban</td>\n",
       "      <td>2004</td>\n",
       "      <td>20240</td>\n",
       "      <td>8.015625</td>\n",
       "      <td>204</td>\n",
       "      <td>7001</td>\n",
       "      <td>8.589860</td>\n",
       "    </tr>\n",
       "    <tr>\n",
       "      <th>82466</th>\n",
       "      <td>Puss in Boots: The Last Wish</td>\n",
       "      <td>2022</td>\n",
       "      <td>6636</td>\n",
       "      <td>8.257812</td>\n",
       "      <td>232</td>\n",
       "      <td>237</td>\n",
       "      <td>8.581949</td>\n",
       "    </tr>\n",
       "    <tr>\n",
       "      <th>4776</th>\n",
       "      <td>Harry Potter and the Philosopher's Stone</td>\n",
       "      <td>2001</td>\n",
       "      <td>25648</td>\n",
       "      <td>7.914062</td>\n",
       "      <td>181</td>\n",
       "      <td>7928</td>\n",
       "      <td>8.523365</td>\n",
       "    </tr>\n",
       "    <tr>\n",
       "      <th>15442</th>\n",
       "      <td>Harry Potter and the Deathly Hallows: Part 1</td>\n",
       "      <td>2010</td>\n",
       "      <td>17952</td>\n",
       "      <td>7.800781</td>\n",
       "      <td>147</td>\n",
       "      <td>4640</td>\n",
       "      <td>8.441985</td>\n",
       "    </tr>\n",
       "    <tr>\n",
       "      <th>10367</th>\n",
       "      <td>Harry Potter and the Goblet of Fire</td>\n",
       "      <td>2005</td>\n",
       "      <td>19472</td>\n",
       "      <td>7.816406</td>\n",
       "      <td>161</td>\n",
       "      <td>6467</td>\n",
       "      <td>8.425401</td>\n",
       "    </tr>\n",
       "    <tr>\n",
       "      <th>6400</th>\n",
       "      <td>Pirates of the Caribbean: The Curse of the Bla...</td>\n",
       "      <td>2003</td>\n",
       "      <td>19424</td>\n",
       "      <td>7.796875</td>\n",
       "      <td>118</td>\n",
       "      <td>7328</td>\n",
       "      <td>8.386650</td>\n",
       "    </tr>\n",
       "    <tr>\n",
       "      <th>14397</th>\n",
       "      <td>How to Train Your Dragon</td>\n",
       "      <td>2010</td>\n",
       "      <td>12208</td>\n",
       "      <td>7.816406</td>\n",
       "      <td>62</td>\n",
       "      <td>4884</td>\n",
       "      <td>8.359041</td>\n",
       "    </tr>\n",
       "    <tr>\n",
       "      <th>13445</th>\n",
       "      <td>Harry Potter and the Half-Blood Prince</td>\n",
       "      <td>2009</td>\n",
       "      <td>18288</td>\n",
       "      <td>7.695312</td>\n",
       "      <td>137</td>\n",
       "      <td>5130</td>\n",
       "      <td>8.344524</td>\n",
       "    </tr>\n",
       "    <tr>\n",
       "      <th>5688</th>\n",
       "      <td>Harry Potter and the Chamber of Secrets</td>\n",
       "      <td>2002</td>\n",
       "      <td>20608</td>\n",
       "      <td>7.718750</td>\n",
       "      <td>160</td>\n",
       "      <td>7566</td>\n",
       "      <td>8.324772</td>\n",
       "    </tr>\n",
       "    <tr>\n",
       "      <th>14027</th>\n",
       "      <td>Avatar</td>\n",
       "      <td>2009</td>\n",
       "      <td>30048</td>\n",
       "      <td>7.574219</td>\n",
       "      <td>151</td>\n",
       "      <td>4977</td>\n",
       "      <td>8.317563</td>\n",
       "    </tr>\n",
       "    <tr>\n",
       "      <th>11650</th>\n",
       "      <td>Harry Potter and the Order of the Phoenix</td>\n",
       "      <td>2007</td>\n",
       "      <td>18336</td>\n",
       "      <td>7.683594</td>\n",
       "      <td>133</td>\n",
       "      <td>5868</td>\n",
       "      <td>8.316569</td>\n",
       "    </tr>\n",
       "  </tbody>\n",
       "</table>\n",
       "</div>"
      ],
      "text/plain": [
       "                                                   title  year  vote_count  \\\n",
       "7010       The Lord of the Rings: The Return of the King  2003       22608   \n",
       "4873   The Lord of the Rings: The Fellowship of the Ring  2001       23568   \n",
       "5824               The Lord of the Rings: The Two Towers  2002       20496   \n",
       "16613       Harry Potter and the Deathly Hallows: Part 2  2011       19376   \n",
       "7719            Harry Potter and the Prisoner of Azkaban  2004       20240   \n",
       "82466                       Puss in Boots: The Last Wish  2022        6636   \n",
       "4776            Harry Potter and the Philosopher's Stone  2001       25648   \n",
       "15442       Harry Potter and the Deathly Hallows: Part 1  2010       17952   \n",
       "10367                Harry Potter and the Goblet of Fire  2005       19472   \n",
       "6400   Pirates of the Caribbean: The Curse of the Bla...  2003       19424   \n",
       "14397                           How to Train Your Dragon  2010       12208   \n",
       "13445             Harry Potter and the Half-Blood Prince  2009       18288   \n",
       "5688             Harry Potter and the Chamber of Secrets  2002       20608   \n",
       "14027                                             Avatar  2009       30048   \n",
       "11650          Harry Potter and the Order of the Phoenix  2007       18336   \n",
       "\n",
       "       vote_average  popularity  past_days    weight  \n",
       "7010       8.476562         129       7183  9.008490  \n",
       "4873       8.406250         106       7896  8.939361  \n",
       "5824       8.398438         109       7531  8.907375  \n",
       "16613      8.101562         154       4403  8.718815  \n",
       "7719       8.015625         204       7001  8.589860  \n",
       "82466      8.257812         232        237  8.581949  \n",
       "4776       7.914062         181       7928  8.523365  \n",
       "15442      7.800781         147       4640  8.441985  \n",
       "10367      7.816406         161       6467  8.425401  \n",
       "6400       7.796875         118       7328  8.386650  \n",
       "14397      7.816406          62       4884  8.359041  \n",
       "13445      7.695312         137       5130  8.344524  \n",
       "5688       7.718750         160       7566  8.324772  \n",
       "14027      7.574219         151       4977  8.317563  \n",
       "11650      7.683594         133       5868  8.316569  "
      ]
     },
     "execution_count": 75,
     "metadata": {},
     "output_type": "execute_result"
    }
   ],
   "source": [
    "get_top_by_genre('Fantasy')"
   ]
  },
  {
   "cell_type": "markdown",
   "id": "00fa37e5",
   "metadata": {},
   "source": [
    "Напишем функцию рекомендаций"
   ]
  },
  {
   "cell_type": "code",
   "execution_count": 76,
   "id": "cb299db5",
   "metadata": {},
   "outputs": [],
   "source": [
    "popular_df = qualified[['tmdbId', 'imdb_weight_impr']]\n",
    "popular_df = popular_df.sort_values('imdb_weight_impr', ascending=False)"
   ]
  },
  {
   "cell_type": "code",
   "execution_count": 77,
   "id": "4e4243d4",
   "metadata": {},
   "outputs": [],
   "source": [
    "def weighted_popular_recommender(userId, N=5):\n",
    "    return popular_df.head(N)['tmdbId'].to_list()"
   ]
  },
  {
   "cell_type": "code",
   "execution_count": 78,
   "id": "88ab7e3d",
   "metadata": {},
   "outputs": [
    {
     "data": {
      "text/html": [
       "<div>\n",
       "<style scoped>\n",
       "    .dataframe tbody tr th:only-of-type {\n",
       "        vertical-align: middle;\n",
       "    }\n",
       "\n",
       "    .dataframe tbody tr th {\n",
       "        vertical-align: top;\n",
       "    }\n",
       "\n",
       "    .dataframe thead th {\n",
       "        text-align: right;\n",
       "    }\n",
       "</style>\n",
       "<table border=\"1\" class=\"dataframe\">\n",
       "  <thead>\n",
       "    <tr style=\"text-align: right;\">\n",
       "      <th></th>\n",
       "      <th>userId</th>\n",
       "      <th>actual</th>\n",
       "      <th>svd_recommender</th>\n",
       "      <th>svd_genome_recommender</th>\n",
       "      <th>popular_recommendation</th>\n",
       "    </tr>\n",
       "  </thead>\n",
       "  <tbody>\n",
       "    <tr>\n",
       "      <th>0</th>\n",
       "      <td>22</td>\n",
       "      <td>[11, 562, 1891, 603, 120, 2048, 1572, 241, 207...</td>\n",
       "      <td>[238, 14, 583, 670, 499556, 409926, 762, 240, ...</td>\n",
       "      <td>[670, 629, 14, 600, 515042, 496243, 20871, 77,...</td>\n",
       "      <td>[278, 496243, 155, 157336, 372058, 122, 129, 2...</td>\n",
       "    </tr>\n",
       "    <tr>\n",
       "      <th>1</th>\n",
       "      <td>33</td>\n",
       "      <td>[103, 500, 10315, 10243]</td>\n",
       "      <td>[192040, 367647, 122, 420714, 240, 200813, 325...</td>\n",
       "      <td>[240, 452830, 423, 489, 438631, 613, 269981, 3...</td>\n",
       "      <td>[278, 496243, 155, 157336, 372058, 122, 129, 2...</td>\n",
       "    </tr>\n",
       "    <tr>\n",
       "      <th>2</th>\n",
       "      <td>203</td>\n",
       "      <td>[13, 238, 27205, 335984]</td>\n",
       "      <td>[756498, 299536, 299534, 438449, 412098, 13477...</td>\n",
       "      <td>[497, 197, 857, 157336, 10191, 520594, 629, 49...</td>\n",
       "      <td>[278, 496243, 155, 157336, 372058, 122, 129, 2...</td>\n",
       "    </tr>\n",
       "    <tr>\n",
       "      <th>3</th>\n",
       "      <td>237</td>\n",
       "      <td>[496243, 587792, 242582]</td>\n",
       "      <td>[152044, 123778, 550416, 140465, 208988, 42071...</td>\n",
       "      <td>[520594, 367412, 10193, 146233, 496243, 324552...</td>\n",
       "      <td>[278, 496243, 155, 157336, 372058, 122, 129, 2...</td>\n",
       "    </tr>\n",
       "    <tr>\n",
       "      <th>4</th>\n",
       "      <td>251</td>\n",
       "      <td>[857, 807, 680, 278, 238, 550, 27205, 68718, 1...</td>\n",
       "      <td>[278, 32534, 192040, 496243, 420714, 238, 129,...</td>\n",
       "      <td>[278, 32534, 192040, 496243, 420714, 238, 129,...</td>\n",
       "      <td>[278, 496243, 155, 157336, 372058, 122, 129, 2...</td>\n",
       "    </tr>\n",
       "  </tbody>\n",
       "</table>\n",
       "</div>"
      ],
      "text/plain": [
       "   userId                                             actual  \\\n",
       "0      22  [11, 562, 1891, 603, 120, 2048, 1572, 241, 207...   \n",
       "1      33                           [103, 500, 10315, 10243]   \n",
       "2     203                           [13, 238, 27205, 335984]   \n",
       "3     237                           [496243, 587792, 242582]   \n",
       "4     251  [857, 807, 680, 278, 238, 550, 27205, 68718, 1...   \n",
       "\n",
       "                                     svd_recommender  \\\n",
       "0  [238, 14, 583, 670, 499556, 409926, 762, 240, ...   \n",
       "1  [192040, 367647, 122, 420714, 240, 200813, 325...   \n",
       "2  [756498, 299536, 299534, 438449, 412098, 13477...   \n",
       "3  [152044, 123778, 550416, 140465, 208988, 42071...   \n",
       "4  [278, 32534, 192040, 496243, 420714, 238, 129,...   \n",
       "\n",
       "                              svd_genome_recommender  \\\n",
       "0  [670, 629, 14, 600, 515042, 496243, 20871, 77,...   \n",
       "1  [240, 452830, 423, 489, 438631, 613, 269981, 3...   \n",
       "2  [497, 197, 857, 157336, 10191, 520594, 629, 49...   \n",
       "3  [520594, 367412, 10193, 146233, 496243, 324552...   \n",
       "4  [278, 32534, 192040, 496243, 420714, 238, 129,...   \n",
       "\n",
       "                              popular_recommendation  \n",
       "0  [278, 496243, 155, 157336, 372058, 122, 129, 2...  \n",
       "1  [278, 496243, 155, 157336, 372058, 122, 129, 2...  \n",
       "2  [278, 496243, 155, 157336, 372058, 122, 129, 2...  \n",
       "3  [278, 496243, 155, 157336, 372058, 122, 129, 2...  \n",
       "4  [278, 496243, 155, 157336, 372058, 122, 129, 2...  "
      ]
     },
     "execution_count": 78,
     "metadata": {},
     "output_type": "execute_result"
    }
   ],
   "source": [
    "result['popular_recommendation'] = result.apply(lambda x: weighted_popular_recommender(x[0], 10), 1)\n",
    "result.head()"
   ]
  },
  {
   "cell_type": "markdown",
   "id": "77f89b67",
   "metadata": {},
   "source": [
    "Расчитаем точность. Для этого напишем функцию precision_at_k"
   ]
  },
  {
   "cell_type": "code",
   "execution_count": 38,
   "id": "68126c33",
   "metadata": {},
   "outputs": [],
   "source": [
    "def precision_at_k(recommended_list, real_list, k=5):\n",
    "    real_list = np.array(real_list)\n",
    "    recommended_list = np.array(recommended_list)[:k]\n",
    "    if len(recommended_list) ==0:\n",
    "        return 0\n",
    "    \n",
    "    flags = np.isin(real_list, recommended_list)\n",
    "    precision = flags.sum() / len(recommended_list)\n",
    "\n",
    "    return precision"
   ]
  },
  {
   "cell_type": "code",
   "execution_count": 33,
   "id": "e838c714",
   "metadata": {},
   "outputs": [
    {
     "data": {
      "text/plain": [
       "0.09020427112349118"
      ]
     },
     "execution_count": 33,
     "metadata": {},
     "output_type": "execute_result"
    }
   ],
   "source": [
    "result.apply(lambda x: precision_at_k(x[2], x[1], 10), 1).mean()"
   ]
  },
  {
   "cell_type": "code",
   "execution_count": 34,
   "id": "fa101dfc",
   "metadata": {},
   "outputs": [
    {
     "data": {
      "text/plain": [
       "0.01753986332574032"
      ]
     },
     "execution_count": 34,
     "metadata": {},
     "output_type": "execute_result"
    }
   ],
   "source": [
    "result.loc[~result.userId.isin(cold_users)].apply(lambda x: precision_at_k(x[2], x[1], 10), 1).mean()"
   ]
  },
  {
   "cell_type": "code",
   "execution_count": 35,
   "id": "eb2d56e2",
   "metadata": {},
   "outputs": [
    {
     "data": {
      "text/plain": [
       "0.2710121457489879"
      ]
     },
     "execution_count": 35,
     "metadata": {},
     "output_type": "execute_result"
    }
   ],
   "source": [
    "result.loc[result.userId.isin(cold_users)].apply(lambda x: precision_at_k(x[2], x[1], 10), 1).mean()"
   ]
  },
  {
   "cell_type": "markdown",
   "id": "6894ee04",
   "metadata": {},
   "source": [
    "Все метрики будем записывать в отдельный датафрейм"
   ]
  },
  {
   "cell_type": "code",
   "execution_count": 19,
   "id": "c39785df",
   "metadata": {},
   "outputs": [
    {
     "data": {
      "text/html": [
       "<div>\n",
       "<style scoped>\n",
       "    .dataframe tbody tr th:only-of-type {\n",
       "        vertical-align: middle;\n",
       "    }\n",
       "\n",
       "    .dataframe tbody tr th {\n",
       "        vertical-align: top;\n",
       "    }\n",
       "\n",
       "    .dataframe thead th {\n",
       "        text-align: right;\n",
       "    }\n",
       "</style>\n",
       "<table border=\"1\" class=\"dataframe\">\n",
       "  <thead>\n",
       "    <tr style=\"text-align: right;\">\n",
       "      <th></th>\n",
       "      <th>full_precision</th>\n",
       "      <th>warm_precision</th>\n",
       "      <th>cold_precision</th>\n",
       "    </tr>\n",
       "  </thead>\n",
       "  <tbody>\n",
       "    <tr>\n",
       "      <th>popular_recommender</th>\n",
       "      <td>0.090204</td>\n",
       "      <td>0.01754</td>\n",
       "      <td>0.271012</td>\n",
       "    </tr>\n",
       "  </tbody>\n",
       "</table>\n",
       "</div>"
      ],
      "text/plain": [
       "                     full_precision  warm_precision  cold_precision\n",
       "popular_recommender        0.090204         0.01754        0.271012"
      ]
     },
     "execution_count": 19,
     "metadata": {},
     "output_type": "execute_result"
    }
   ],
   "source": [
    "metrics = pd.DataFrame({'full_precision': 0.09020427112349118, \n",
    "              'warm_precision': 0.01753986332574032, 'cold_precision': 0.2710121457489879}, index=['popular_recommender'])\n",
    "metrics"
   ]
  },
  {
   "cell_type": "markdown",
   "id": "f7f399de",
   "metadata": {},
   "source": [
    "Рекомендательная система, построеная на поиске топ популярных фильмов имеет свои плюсы и минусы. Из плюсов можно выделить следующие:\n",
    "- простота расчета\n",
    "- не имеет проблем с холодным стартом, а в данном случае показывает на них достаточно высокую метрику\n",
    "\n",
    "Из минусов:\n",
    "- обычно уступает другим алгоритмам на \"теплых\" пользователях\n",
    "- для всех рекомендует одно и то же, не учитывая личные предпочтения пользователя\n",
    "- не видит взаимосвязи между фильмами, если не произведен предпроцессинг (как жанр в примере выше)\n",
    "\n",
    "Так как у данного подхода минусы достаточно критичны для нас, пойдем дальше и воспользуемся другим подходом построения рекомендательных систем, а именно - Коллаборативная фильтрация."
   ]
  },
  {
   "cell_type": "markdown",
   "id": "049b96b4",
   "metadata": {},
   "source": [
    "### <a id=\"2\">Collaborative Filtering</a>"
   ]
  },
  {
   "cell_type": "markdown",
   "id": "22cc74c8",
   "metadata": {},
   "source": [
    "Решим вопрос взаимосвязи между фильмами и построем рекомендательную систему, основанную на метаданных фильма. \n",
    "\n",
    "Сначала подготовим выборку, так как мощности машины не хватит для расчета на всех датасете."
   ]
  },
  {
   "cell_type": "code",
   "execution_count": 37,
   "id": "25c38b3c",
   "metadata": {},
   "outputs": [],
   "source": [
    "smm = movies_metadata.loc[(movies_metadata.year > 2000) | movies_metadata.tmdbId.isin(popular_df.tmdbId.to_list())]\\\n",
    "                        .sample(n=20000, random_state=42, replace=False, ignore_index=True)\n",
    "sl = links[links.tmdbId.isin(smm.tmdbId.tolist())]\n",
    "sc = credits[credits.tmdbId.isin(sl.tmdbId.tolist())]\n",
    "sk = keywords[keywords.tmdbId.isin(sl.tmdbId.tolist())]\n",
    "sr = data_train[data_train.movieId.isin(sl.movieId.tolist())]"
   ]
  },
  {
   "cell_type": "markdown",
   "id": "94710e54",
   "metadata": {},
   "source": [
    "### <a id=\"2.1\">Content Based Recommender</a>"
   ]
  },
  {
   "cell_type": "markdown",
   "id": "f1daf5f4",
   "metadata": {},
   "source": [
    "1. overview и tagline"
   ]
  },
  {
   "cell_type": "code",
   "execution_count": 38,
   "id": "85a97818",
   "metadata": {},
   "outputs": [],
   "source": [
    "smm['description'] = smm['overview'] + smm['tagline']\n",
    "smm['description'] = smm['description'].fillna('')"
   ]
  },
  {
   "cell_type": "code",
   "execution_count": 39,
   "id": "fb5f5efd",
   "metadata": {},
   "outputs": [],
   "source": [
    "tfidf = TfidfVectorizer(analyzer='word', \n",
    "                stop_words='english',\n",
    "                ngram_range=(1,2) # unigrams and bigrams\n",
    "               )\n",
    "description_matrix = tfidf.fit_transform(smm['description'])"
   ]
  },
  {
   "cell_type": "code",
   "execution_count": 40,
   "id": "89c3b55e",
   "metadata": {},
   "outputs": [
    {
     "data": {
      "text/plain": [
       "(20000, 244315)"
      ]
     },
     "execution_count": 40,
     "metadata": {},
     "output_type": "execute_result"
    }
   ],
   "source": [
    "description_matrix.shape"
   ]
  },
  {
   "cell_type": "markdown",
   "id": "39f68646",
   "metadata": {},
   "source": [
    "По умолчанию TfidfVectorizer использует l2 нормализацию, т.е. косинусное сходство между двумя векторами представляет собой их скалярное произведение. Поэтому можно использовать sklearn.linear_kernel вместо cosine_similarities, поскольку это намного быстрее."
   ]
  },
  {
   "cell_type": "code",
   "execution_count": 41,
   "id": "d6f4a07e",
   "metadata": {},
   "outputs": [],
   "source": [
    "description_sim = linear_kernel(description_matrix, description_matrix)"
   ]
  },
  {
   "cell_type": "markdown",
   "id": "8502146e",
   "metadata": {},
   "source": [
    "Теперь у нас есть матрица попарного косинусного сходства для всех фильмов в нашем наборе данных. Следующий шаг — написать функцию, которая возвращает N наиболее похожих фильмов на основе косинусного показателя сходства."
   ]
  },
  {
   "cell_type": "code",
   "execution_count": 42,
   "id": "6b697146",
   "metadata": {},
   "outputs": [],
   "source": [
    "tmdbIds = smm['tmdbId']\n",
    "indices = pd.Series(smm.index, index=smm['tmdbId'])"
   ]
  },
  {
   "cell_type": "code",
   "execution_count": 45,
   "id": "90537e4f",
   "metadata": {},
   "outputs": [],
   "source": [
    "def get_similar_item(tmdbId, tmdbIds, indices, cosine_sim, N):\n",
    "    idx = indices[tmdbId]\n",
    "    sim_scores = list(enumerate(cosine_sim[idx]))\n",
    "    sim_scores = sorted(sim_scores, key=lambda x: x[1], reverse=True)\n",
    "    sim_scores = sim_scores[1:N+1]\n",
    "    movie_indices = [i[0] for i in sim_scores]\n",
    "    score = [i[1] for i in sim_scores]\n",
    "    return pd.DataFrame({'tmdbId': tmdbIds.iloc[movie_indices], 'score':score})"
   ]
  },
  {
   "cell_type": "code",
   "execution_count": 44,
   "id": "26d5968a",
   "metadata": {},
   "outputs": [
    {
     "data": {
      "text/html": [
       "<div>\n",
       "<style scoped>\n",
       "    .dataframe tbody tr th:only-of-type {\n",
       "        vertical-align: middle;\n",
       "    }\n",
       "\n",
       "    .dataframe tbody tr th {\n",
       "        vertical-align: top;\n",
       "    }\n",
       "\n",
       "    .dataframe thead th {\n",
       "        text-align: right;\n",
       "    }\n",
       "</style>\n",
       "<table border=\"1\" class=\"dataframe\">\n",
       "  <thead>\n",
       "    <tr style=\"text-align: right;\">\n",
       "      <th></th>\n",
       "      <th>tmdbId</th>\n",
       "      <th>title</th>\n",
       "      <th>genre_name</th>\n",
       "      <th>collection_name</th>\n",
       "      <th>production_companies_name</th>\n",
       "      <th>release_date</th>\n",
       "      <th>score</th>\n",
       "    </tr>\n",
       "  </thead>\n",
       "  <tbody>\n",
       "    <tr>\n",
       "      <th>7</th>\n",
       "      <td>558</td>\n",
       "      <td>Spider-Man 2</td>\n",
       "      <td>[Action, Adventure, Fantasy]</td>\n",
       "      <td>Spider-Man Collection</td>\n",
       "      <td>['Marvel Enterprises', 'Laura Ziskin Productio...</td>\n",
       "      <td>2004-06-25</td>\n",
       "      <td>0.142006</td>\n",
       "    </tr>\n",
       "    <tr>\n",
       "      <th>3</th>\n",
       "      <td>634649</td>\n",
       "      <td>Spider-Man: No Way Home</td>\n",
       "      <td>[Action, Adventure, Science Fiction]</td>\n",
       "      <td>Spider-Man (Avengers) Collection</td>\n",
       "      <td>['Marvel Studios', 'Pascal Pictures', 'Columbi...</td>\n",
       "      <td>2021-12-15</td>\n",
       "      <td>0.125993</td>\n",
       "    </tr>\n",
       "    <tr>\n",
       "      <th>5</th>\n",
       "      <td>6488</td>\n",
       "      <td>Arachnophobia</td>\n",
       "      <td>[]</td>\n",
       "      <td>NaN</td>\n",
       "      <td>['Amblin Entertainment', 'Hollywood Pictures',...</td>\n",
       "      <td>1990-07-20</td>\n",
       "      <td>0.098224</td>\n",
       "    </tr>\n",
       "    <tr>\n",
       "      <th>8</th>\n",
       "      <td>3432</td>\n",
       "      <td>Mr. Brooks</td>\n",
       "      <td>[]</td>\n",
       "      <td>NaN</td>\n",
       "      <td>['Relativity Media', 'Tig Productions', 'Eden ...</td>\n",
       "      <td>2007-06-01</td>\n",
       "      <td>0.092701</td>\n",
       "    </tr>\n",
       "    <tr>\n",
       "      <th>0</th>\n",
       "      <td>961323</td>\n",
       "      <td>Nimona</td>\n",
       "      <td>[]</td>\n",
       "      <td>NaN</td>\n",
       "      <td>['Annapurna Pictures', 'DNEG']</td>\n",
       "      <td>2023-06-23</td>\n",
       "      <td>0.087427</td>\n",
       "    </tr>\n",
       "    <tr>\n",
       "      <th>1</th>\n",
       "      <td>104950</td>\n",
       "      <td>Holy Musical B@man!</td>\n",
       "      <td>[]</td>\n",
       "      <td>NaN</td>\n",
       "      <td>['Starkid Productions']</td>\n",
       "      <td>2012-03-22</td>\n",
       "      <td>0.064451</td>\n",
       "    </tr>\n",
       "    <tr>\n",
       "      <th>2</th>\n",
       "      <td>311585</td>\n",
       "      <td>Make Your Own Damn Movie!</td>\n",
       "      <td>[]</td>\n",
       "      <td>NaN</td>\n",
       "      <td>[]</td>\n",
       "      <td>2005-01-01</td>\n",
       "      <td>0.064224</td>\n",
       "    </tr>\n",
       "    <tr>\n",
       "      <th>4</th>\n",
       "      <td>18533</td>\n",
       "      <td>Bronson</td>\n",
       "      <td>[]</td>\n",
       "      <td>NaN</td>\n",
       "      <td>['Vertigo Films', 'Aramid Entertainment Fund',...</td>\n",
       "      <td>2008-10-09</td>\n",
       "      <td>0.061255</td>\n",
       "    </tr>\n",
       "    <tr>\n",
       "      <th>6</th>\n",
       "      <td>429617</td>\n",
       "      <td>Spider-Man: Far From Home</td>\n",
       "      <td>[Action, Adventure, Science Fiction]</td>\n",
       "      <td>Spider-Man (Avengers) Collection</td>\n",
       "      <td>['Marvel Studios', 'Pascal Pictures', 'Columbi...</td>\n",
       "      <td>2019-06-28</td>\n",
       "      <td>0.060859</td>\n",
       "    </tr>\n",
       "    <tr>\n",
       "      <th>9</th>\n",
       "      <td>50087</td>\n",
       "      <td>Pokémon: Zoroark - Master of Illusions</td>\n",
       "      <td>[Family, Animation, Adventure, Fantasy]</td>\n",
       "      <td>Pokémon: Diamond and Pearl Collection</td>\n",
       "      <td>['East Japan Marketing &amp; Communications', 'OLM...</td>\n",
       "      <td>2010-07-10</td>\n",
       "      <td>0.057697</td>\n",
       "    </tr>\n",
       "  </tbody>\n",
       "</table>\n",
       "</div>"
      ],
      "text/plain": [
       "   tmdbId                                   title  \\\n",
       "7     558                            Spider-Man 2   \n",
       "3  634649                 Spider-Man: No Way Home   \n",
       "5    6488                           Arachnophobia   \n",
       "8    3432                              Mr. Brooks   \n",
       "0  961323                                  Nimona   \n",
       "1  104950                     Holy Musical B@man!   \n",
       "2  311585               Make Your Own Damn Movie!   \n",
       "4   18533                                 Bronson   \n",
       "6  429617               Spider-Man: Far From Home   \n",
       "9   50087  Pokémon: Zoroark - Master of Illusions   \n",
       "\n",
       "                                genre_name  \\\n",
       "7             [Action, Adventure, Fantasy]   \n",
       "3     [Action, Adventure, Science Fiction]   \n",
       "5                                       []   \n",
       "8                                       []   \n",
       "0                                       []   \n",
       "1                                       []   \n",
       "2                                       []   \n",
       "4                                       []   \n",
       "6     [Action, Adventure, Science Fiction]   \n",
       "9  [Family, Animation, Adventure, Fantasy]   \n",
       "\n",
       "                         collection_name  \\\n",
       "7                  Spider-Man Collection   \n",
       "3       Spider-Man (Avengers) Collection   \n",
       "5                                    NaN   \n",
       "8                                    NaN   \n",
       "0                                    NaN   \n",
       "1                                    NaN   \n",
       "2                                    NaN   \n",
       "4                                    NaN   \n",
       "6       Spider-Man (Avengers) Collection   \n",
       "9  Pokémon: Diamond and Pearl Collection   \n",
       "\n",
       "                           production_companies_name release_date     score  \n",
       "7  ['Marvel Enterprises', 'Laura Ziskin Productio...   2004-06-25  0.142006  \n",
       "3  ['Marvel Studios', 'Pascal Pictures', 'Columbi...   2021-12-15  0.125993  \n",
       "5  ['Amblin Entertainment', 'Hollywood Pictures',...   1990-07-20  0.098224  \n",
       "8  ['Relativity Media', 'Tig Productions', 'Eden ...   2007-06-01  0.092701  \n",
       "0                     ['Annapurna Pictures', 'DNEG']   2023-06-23  0.087427  \n",
       "1                            ['Starkid Productions']   2012-03-22  0.064451  \n",
       "2                                                 []   2005-01-01  0.064224  \n",
       "4  ['Vertigo Films', 'Aramid Entertainment Fund',...   2008-10-09  0.061255  \n",
       "6  ['Marvel Studios', 'Pascal Pictures', 'Columbi...   2019-06-28  0.060859  \n",
       "9  ['East Japan Marketing & Communications', 'OLM...   2010-07-10  0.057697  "
      ]
     },
     "execution_count": 44,
     "metadata": {},
     "output_type": "execute_result"
    }
   ],
   "source": [
    "tmdbId = smm[smm.title=='Spider-Man 3']['tmdbId'].values[0]\n",
    "rec = get_similar_item(tmdbId, tmdbIds, indices, description_sim, 10)\n",
    "smm[['tmdbId','title', 'genre_name','collection_name', 'production_companies_name',\n",
    "     'release_date']].merge(rec[['tmdbId', 'score']], on='tmdbId').sort_values('score', ascending=False)"
   ]
  },
  {
   "cell_type": "markdown",
   "id": "6ac9162a",
   "metadata": {},
   "source": [
    "Алгоритм достаточно хорошо отработал. Он нашел другие фильмы про Человека паука, даже нашел фильм из той же франшизы. Но вот третий фильм про Арахнофобию - боязнь пауков, хоть и связан с пауками, но совсем не то, что могло бы понравиться любителям Человека паука."
   ]
  },
  {
   "cell_type": "markdown",
   "id": "b91f7acf",
   "metadata": {},
   "source": [
    "Фильмы принадлежат разным франшизам, в них играют разные актеры и их снимали разные киностудии. И все это имеет весомое значение в предпочтениях пользователей, а значит нужно понимать на сколько тот или иной параметр важен в поиске похожего фильма. Поэтому воспользуемся более информативными фичами, такими как жанр, франшиза, актеры, ключевые слова, директор и компания."
   ]
  },
  {
   "cell_type": "markdown",
   "id": "3a77c46d",
   "metadata": {},
   "source": [
    "2. Подключаем director, actors, keywords_name, production_companies_name, genre_name и collection_name"
   ]
  },
  {
   "cell_type": "code",
   "execution_count": 45,
   "id": "e9816022",
   "metadata": {},
   "outputs": [],
   "source": [
    "smm = smm.merge(sc[['tmdbId', 'director', 'actors']], on='tmdbId', how='left')\n",
    "smm = smm.merge(sk[['tmdbId', 'keywords_name']], on='tmdbId', how='left')"
   ]
  },
  {
   "cell_type": "code",
   "execution_count": 46,
   "id": "5526bed4",
   "metadata": {},
   "outputs": [],
   "source": [
    "smm['keywords_name'] = smm['keywords_name'].fillna('[]').apply(literal_eval)"
   ]
  },
  {
   "cell_type": "markdown",
   "id": "c18e55e6",
   "metadata": {},
   "source": [
    "Сделаем небольшой препроцессинг"
   ]
  },
  {
   "cell_type": "code",
   "execution_count": 47,
   "id": "1d0f054c",
   "metadata": {},
   "outputs": [],
   "source": [
    "s = smm.apply(lambda x: pd.Series(x['keywords_name']),axis=1).stack().reset_index(level=1, drop=True)\n",
    "s.name = 'keyword'"
   ]
  },
  {
   "cell_type": "code",
   "execution_count": 48,
   "id": "c93534ed",
   "metadata": {},
   "outputs": [
    {
     "data": {
      "text/plain": [
       "woman director            1540\n",
       "independent film           407\n",
       "murder                     394\n",
       "biography                  324\n",
       "based on novel or book     317\n",
       "                          ... \n",
       "ordination                   1\n",
       "postponed wedding            1\n",
       "warhead                      1\n",
       "self absorption              1\n",
       "mayoral election             1\n",
       "Name: keyword, Length: 14554, dtype: int64"
      ]
     },
     "execution_count": 48,
     "metadata": {},
     "output_type": "execute_result"
    }
   ],
   "source": [
    "s = s.value_counts()\n",
    "s"
   ]
  },
  {
   "cell_type": "markdown",
   "id": "45da45ac",
   "metadata": {},
   "source": [
    "Ключевые слова встречаются от одного до 1527 раз. Мы отфильтруем те, что встречаются единажды, так как они бесполезны в поиске схожих фильмов."
   ]
  },
  {
   "cell_type": "code",
   "execution_count": 49,
   "id": "b84d86f1",
   "metadata": {},
   "outputs": [],
   "source": [
    "s = s[s > 1]"
   ]
  },
  {
   "cell_type": "markdown",
   "id": "8d8fb8fa",
   "metadata": {},
   "source": [
    "Также мы нормализуем слова, с помощью метода SnowballStemmer, чтобы привести слова к их изначальной форме"
   ]
  },
  {
   "cell_type": "code",
   "execution_count": 50,
   "id": "3c12c206",
   "metadata": {},
   "outputs": [],
   "source": [
    "stemmer = SnowballStemmer('english')"
   ]
  },
  {
   "cell_type": "code",
   "execution_count": 51,
   "id": "f697b234",
   "metadata": {},
   "outputs": [],
   "source": [
    "def filter_keywords(x):\n",
    "    words = []\n",
    "    for i in x:\n",
    "        if i in s:\n",
    "            words.append(i)\n",
    "    return words"
   ]
  },
  {
   "cell_type": "code",
   "execution_count": 52,
   "id": "d44003fb",
   "metadata": {},
   "outputs": [],
   "source": [
    "smm['keywords_name'] = smm['keywords_name'].apply(filter_keywords)\n",
    "smm['keywords_name'] = smm['keywords_name'].apply(lambda x: [stemmer.stem(i) for i in x])"
   ]
  },
  {
   "cell_type": "markdown",
   "id": "18fb61ea",
   "metadata": {},
   "source": [
    "Фильтрация и веса:\n",
    "- возьмем только первых трех актеров и первую киностудию\n",
    "- чтобы вес директора был больше, чем одного актера, продублируем его дважды \n",
    "- согласно позиции жанра в списке, продублируем первый жанр трижды, второй дважды\n",
    "- коллекцию продублируем трижды"
   ]
  },
  {
   "cell_type": "code",
   "execution_count": 53,
   "id": "dd2840b4",
   "metadata": {},
   "outputs": [],
   "source": [
    "smm['soup'] = smm['keywords_name'].\\\n",
    "                apply(lambda x: [str.lower(i.replace(\" \", \"\")) for i in x]) + smm['actors'].fillna('[]').\\\n",
    "                apply(lambda x: [str.lower(i.replace(\" \", \"\")) for i in x[:3]]) + smm['director'].fillna('').astype('str').\\\n",
    "                apply(lambda x: str.lower(x.replace(\" \", \"\"))).\\\n",
    "                apply(lambda x: [x,x]) + smm['genre_name'].\\\n",
    "                apply(lambda x: x[:1] * 3 + x[1:2] * 2 + x[2:]) + smm['collection_name'].astype('str').\\\n",
    "                apply(lambda x: str.lower(x.replace(\" \", \"\"))).\\\n",
    "                apply(lambda x: [x,x,x]) + smm['production_companies_name'].\\\n",
    "                apply(literal_eval).apply(lambda x: [str.lower(i.replace(\" \", \"\")) for i in x[:1]])\n",
    "smm['soup'] = smm['soup'].apply(lambda x: ' '.join(x))"
   ]
  },
  {
   "cell_type": "code",
   "execution_count": 54,
   "id": "dcc3af59",
   "metadata": {},
   "outputs": [],
   "source": [
    "smm['soup'] = smm['description'] + ' ' + smm['soup']"
   ]
  },
  {
   "cell_type": "code",
   "execution_count": 55,
   "id": "db9e1fcb",
   "metadata": {},
   "outputs": [],
   "source": [
    "soup_matrix = tfidf.fit_transform(smm['soup'])"
   ]
  },
  {
   "cell_type": "code",
   "execution_count": 56,
   "id": "bddbcabe",
   "metadata": {},
   "outputs": [],
   "source": [
    "soup_sim = linear_kernel(soup_matrix, soup_matrix)"
   ]
  },
  {
   "cell_type": "code",
   "execution_count": 57,
   "id": "db9e9ec3",
   "metadata": {},
   "outputs": [
    {
     "data": {
      "text/html": [
       "<div>\n",
       "<style scoped>\n",
       "    .dataframe tbody tr th:only-of-type {\n",
       "        vertical-align: middle;\n",
       "    }\n",
       "\n",
       "    .dataframe tbody tr th {\n",
       "        vertical-align: top;\n",
       "    }\n",
       "\n",
       "    .dataframe thead th {\n",
       "        text-align: right;\n",
       "    }\n",
       "</style>\n",
       "<table border=\"1\" class=\"dataframe\">\n",
       "  <thead>\n",
       "    <tr style=\"text-align: right;\">\n",
       "      <th></th>\n",
       "      <th>tmdbId</th>\n",
       "      <th>title</th>\n",
       "      <th>genre_name</th>\n",
       "      <th>collection_name</th>\n",
       "      <th>actors</th>\n",
       "      <th>director</th>\n",
       "      <th>production_companies_name</th>\n",
       "      <th>year</th>\n",
       "      <th>score</th>\n",
       "    </tr>\n",
       "  </thead>\n",
       "  <tbody>\n",
       "    <tr>\n",
       "      <th>6</th>\n",
       "      <td>558</td>\n",
       "      <td>Spider-Man 2</td>\n",
       "      <td>[Action, Adventure, Fantasy]</td>\n",
       "      <td>Spider-Man Collection</td>\n",
       "      <td>[Tobey Maguire, Kirsten Dunst, James Franco, A...</td>\n",
       "      <td>Sam Raimi</td>\n",
       "      <td>['Marvel Enterprises', 'Laura Ziskin Productio...</td>\n",
       "      <td>2004</td>\n",
       "      <td>0.454549</td>\n",
       "    </tr>\n",
       "    <tr>\n",
       "      <th>0</th>\n",
       "      <td>634649</td>\n",
       "      <td>Spider-Man: No Way Home</td>\n",
       "      <td>[Action, Adventure, Science Fiction]</td>\n",
       "      <td>Spider-Man (Avengers) Collection</td>\n",
       "      <td>[Tom Holland, Zendaya, Benedict Cumberbatch, J...</td>\n",
       "      <td>Jon Watts</td>\n",
       "      <td>['Marvel Studios', 'Pascal Pictures', 'Columbi...</td>\n",
       "      <td>2021</td>\n",
       "      <td>0.194026</td>\n",
       "    </tr>\n",
       "    <tr>\n",
       "      <th>5</th>\n",
       "      <td>429617</td>\n",
       "      <td>Spider-Man: Far From Home</td>\n",
       "      <td>[Action, Adventure, Science Fiction]</td>\n",
       "      <td>Spider-Man (Avengers) Collection</td>\n",
       "      <td>[Tom Holland, Samuel L. Jackson, Jake Gyllenha...</td>\n",
       "      <td>Jon Watts</td>\n",
       "      <td>['Marvel Studios', 'Pascal Pictures', 'Columbi...</td>\n",
       "      <td>2019</td>\n",
       "      <td>0.177714</td>\n",
       "    </tr>\n",
       "    <tr>\n",
       "      <th>2</th>\n",
       "      <td>6488</td>\n",
       "      <td>Arachnophobia</td>\n",
       "      <td>[]</td>\n",
       "      <td>NaN</td>\n",
       "      <td>[Jeff Daniels, Harley Jane Kozak, Garette Ratl...</td>\n",
       "      <td>Frank Marshall</td>\n",
       "      <td>['Amblin Entertainment', 'Hollywood Pictures',...</td>\n",
       "      <td>1990</td>\n",
       "      <td>0.164025</td>\n",
       "    </tr>\n",
       "    <tr>\n",
       "      <th>4</th>\n",
       "      <td>513208</td>\n",
       "      <td>Itsy Bitsy</td>\n",
       "      <td>[]</td>\n",
       "      <td>NaN</td>\n",
       "      <td>[Bruce Davison, Denise Crosby, Elizabeth Rober...</td>\n",
       "      <td>Micah Gallo</td>\n",
       "      <td>['Strange Vision', 'Paradox Film Group', 'Haci...</td>\n",
       "      <td>2019</td>\n",
       "      <td>0.105538</td>\n",
       "    </tr>\n",
       "    <tr>\n",
       "      <th>3</th>\n",
       "      <td>666750</td>\n",
       "      <td>Dragonheart: Vengeance</td>\n",
       "      <td>[Fantasy, Action, Adventure]</td>\n",
       "      <td>DragonHeart Collection</td>\n",
       "      <td>[Joseph Millson, Jack Kane, Arturo Muselli, He...</td>\n",
       "      <td>Ivan Silvestrini</td>\n",
       "      <td>['Universal Pictures']</td>\n",
       "      <td>2020</td>\n",
       "      <td>0.088022</td>\n",
       "    </tr>\n",
       "    <tr>\n",
       "      <th>8</th>\n",
       "      <td>345166</td>\n",
       "      <td>Emmanuelle Through Time: Rod Steele 0014 &amp; Nak...</td>\n",
       "      <td>[Fantasy, Action, Comedy]</td>\n",
       "      <td>Emmanuelle Through Time Collection</td>\n",
       "      <td>[Allie Haze, Robert Donavan, Jason Sarcinelli,...</td>\n",
       "      <td>Rolfe Kanefsky</td>\n",
       "      <td>[]</td>\n",
       "      <td>2012</td>\n",
       "      <td>0.083352</td>\n",
       "    </tr>\n",
       "    <tr>\n",
       "      <th>1</th>\n",
       "      <td>14208</td>\n",
       "      <td>The Librarian: Return to King Solomon's Mines</td>\n",
       "      <td>[Fantasy, Action, Adventure]</td>\n",
       "      <td>The Librarian Collection</td>\n",
       "      <td>[Noah Wyle, Gabrielle Anwar, Bob Newhart, Jane...</td>\n",
       "      <td>Jonathan Frakes</td>\n",
       "      <td>['Turner Network Television', 'Electric Entert...</td>\n",
       "      <td>2006</td>\n",
       "      <td>0.078205</td>\n",
       "    </tr>\n",
       "    <tr>\n",
       "      <th>9</th>\n",
       "      <td>9986</td>\n",
       "      <td>Charlotte's Web</td>\n",
       "      <td>[]</td>\n",
       "      <td>NaN</td>\n",
       "      <td>[Julia Roberts, Steve Buscemi, John Cleese, Op...</td>\n",
       "      <td>Gary Winick</td>\n",
       "      <td>['Paramount', 'Kerner Entertainment Company', ...</td>\n",
       "      <td>2006</td>\n",
       "      <td>0.077772</td>\n",
       "    </tr>\n",
       "    <tr>\n",
       "      <th>7</th>\n",
       "      <td>960700</td>\n",
       "      <td>Fullmetal Alchemist: The Revenge of Scar</td>\n",
       "      <td>[Fantasy, Action, Adventure]</td>\n",
       "      <td>Fullmetal Alchemist (Live-Action) Collection</td>\n",
       "      <td>[Ryosuke Yamada, Atomu Mizuishi, Tsubasa Honda...</td>\n",
       "      <td>Fumihiko Sori</td>\n",
       "      <td>['Warner Bros. Japan', 'Oxybot']</td>\n",
       "      <td>2022</td>\n",
       "      <td>0.076290</td>\n",
       "    </tr>\n",
       "  </tbody>\n",
       "</table>\n",
       "</div>"
      ],
      "text/plain": [
       "   tmdbId                                              title  \\\n",
       "6     558                                       Spider-Man 2   \n",
       "0  634649                            Spider-Man: No Way Home   \n",
       "5  429617                          Spider-Man: Far From Home   \n",
       "2    6488                                      Arachnophobia   \n",
       "4  513208                                         Itsy Bitsy   \n",
       "3  666750                             Dragonheart: Vengeance   \n",
       "8  345166  Emmanuelle Through Time: Rod Steele 0014 & Nak...   \n",
       "1   14208      The Librarian: Return to King Solomon's Mines   \n",
       "9    9986                                    Charlotte's Web   \n",
       "7  960700           Fullmetal Alchemist: The Revenge of Scar   \n",
       "\n",
       "                             genre_name  \\\n",
       "6          [Action, Adventure, Fantasy]   \n",
       "0  [Action, Adventure, Science Fiction]   \n",
       "5  [Action, Adventure, Science Fiction]   \n",
       "2                                    []   \n",
       "4                                    []   \n",
       "3          [Fantasy, Action, Adventure]   \n",
       "8             [Fantasy, Action, Comedy]   \n",
       "1          [Fantasy, Action, Adventure]   \n",
       "9                                    []   \n",
       "7          [Fantasy, Action, Adventure]   \n",
       "\n",
       "                                collection_name  \\\n",
       "6                         Spider-Man Collection   \n",
       "0              Spider-Man (Avengers) Collection   \n",
       "5              Spider-Man (Avengers) Collection   \n",
       "2                                           NaN   \n",
       "4                                           NaN   \n",
       "3                        DragonHeart Collection   \n",
       "8            Emmanuelle Through Time Collection   \n",
       "1                      The Librarian Collection   \n",
       "9                                           NaN   \n",
       "7  Fullmetal Alchemist (Live-Action) Collection   \n",
       "\n",
       "                                              actors          director  \\\n",
       "6  [Tobey Maguire, Kirsten Dunst, James Franco, A...         Sam Raimi   \n",
       "0  [Tom Holland, Zendaya, Benedict Cumberbatch, J...         Jon Watts   \n",
       "5  [Tom Holland, Samuel L. Jackson, Jake Gyllenha...         Jon Watts   \n",
       "2  [Jeff Daniels, Harley Jane Kozak, Garette Ratl...    Frank Marshall   \n",
       "4  [Bruce Davison, Denise Crosby, Elizabeth Rober...       Micah Gallo   \n",
       "3  [Joseph Millson, Jack Kane, Arturo Muselli, He...  Ivan Silvestrini   \n",
       "8  [Allie Haze, Robert Donavan, Jason Sarcinelli,...    Rolfe Kanefsky   \n",
       "1  [Noah Wyle, Gabrielle Anwar, Bob Newhart, Jane...   Jonathan Frakes   \n",
       "9  [Julia Roberts, Steve Buscemi, John Cleese, Op...       Gary Winick   \n",
       "7  [Ryosuke Yamada, Atomu Mizuishi, Tsubasa Honda...     Fumihiko Sori   \n",
       "\n",
       "                           production_companies_name  year     score  \n",
       "6  ['Marvel Enterprises', 'Laura Ziskin Productio...  2004  0.454549  \n",
       "0  ['Marvel Studios', 'Pascal Pictures', 'Columbi...  2021  0.194026  \n",
       "5  ['Marvel Studios', 'Pascal Pictures', 'Columbi...  2019  0.177714  \n",
       "2  ['Amblin Entertainment', 'Hollywood Pictures',...  1990  0.164025  \n",
       "4  ['Strange Vision', 'Paradox Film Group', 'Haci...  2019  0.105538  \n",
       "3                             ['Universal Pictures']  2020  0.088022  \n",
       "8                                                 []  2012  0.083352  \n",
       "1  ['Turner Network Television', 'Electric Entert...  2006  0.078205  \n",
       "9  ['Paramount', 'Kerner Entertainment Company', ...  2006  0.077772  \n",
       "7                   ['Warner Bros. Japan', 'Oxybot']  2022  0.076290  "
      ]
     },
     "execution_count": 57,
     "metadata": {},
     "output_type": "execute_result"
    }
   ],
   "source": [
    "rec = get_similar_item(tmdbId, tmdbIds, indices, soup_sim, 10)\n",
    "smm[['tmdbId','title', 'genre_name','collection_name', 'actors', 'director','production_companies_name',\n",
    "     'year']].merge(rec[['tmdbId', 'score']], on='tmdbId').sort_values('score', ascending=False)"
   ]
  },
  {
   "cell_type": "markdown",
   "id": "0fb08d74",
   "metadata": {},
   "source": [
    "Алгоритм стал более уверен в связи между фильмами одной коллекции, вес = 0.45. Плюс в списке появились другие фильмы из жанра фэнтези. "
   ]
  },
  {
   "cell_type": "markdown",
   "id": "89e4263f",
   "metadata": {},
   "source": [
    "3. genome\n",
    "\n",
    "Есть еще один признак, через который можно определить взаимосвязь между фильмами - тэги. Так как информация емкая и весит мало, то можно произвести подчет по всему датасету."
   ]
  },
  {
   "cell_type": "code",
   "execution_count": 47,
   "id": "32961c06",
   "metadata": {},
   "outputs": [],
   "source": [
    "genome_scores = genome_scores.merge(genome_tags, on='tagId')\n",
    "genome_scores = genome_scores.merge(links[['movieId','tmdbId']], on='movieId')\n",
    "genome_scores = genome_scores.merge(movies_metadata[['title','tmdbId']], on='tmdbId')"
   ]
  },
  {
   "cell_type": "markdown",
   "id": "a58b2329",
   "metadata": {},
   "source": [
    "Создаем матрицу взаимоотношений тэга и фильма, где в ячейках вписываем показатель relevance"
   ]
  },
  {
   "cell_type": "code",
   "execution_count": 48,
   "id": "a4b1f434",
   "metadata": {},
   "outputs": [],
   "source": [
    "matrix_genome = pd.pivot_table(data=genome_scores,\n",
    "                values='relevance',\n",
    "               index = 'tmdbId',\n",
    "               columns ='tag'\n",
    "              )"
   ]
  },
  {
   "cell_type": "code",
   "execution_count": 49,
   "id": "f9fc19de",
   "metadata": {},
   "outputs": [],
   "source": [
    "genome_sim = cosine_similarity(matrix_genome, matrix_genome)"
   ]
  },
  {
   "cell_type": "code",
   "execution_count": 50,
   "id": "5a8ed03a",
   "metadata": {},
   "outputs": [],
   "source": [
    "a = matrix_genome.reset_index()\n",
    "tmdbIds_genome = a['tmdbId']\n",
    "indices_genome = pd.Series(a.index, index=a['tmdbId'])\n",
    "del a"
   ]
  },
  {
   "cell_type": "code",
   "execution_count": 62,
   "id": "eb0b8591",
   "metadata": {},
   "outputs": [
    {
     "data": {
      "text/html": [
       "<div>\n",
       "<style scoped>\n",
       "    .dataframe tbody tr th:only-of-type {\n",
       "        vertical-align: middle;\n",
       "    }\n",
       "\n",
       "    .dataframe tbody tr th {\n",
       "        vertical-align: top;\n",
       "    }\n",
       "\n",
       "    .dataframe thead th {\n",
       "        text-align: right;\n",
       "    }\n",
       "</style>\n",
       "<table border=\"1\" class=\"dataframe\">\n",
       "  <thead>\n",
       "    <tr style=\"text-align: right;\">\n",
       "      <th></th>\n",
       "      <th>tmdbId</th>\n",
       "      <th>title</th>\n",
       "      <th>genre_name</th>\n",
       "      <th>collection_name</th>\n",
       "      <th>production_companies_name</th>\n",
       "      <th>year</th>\n",
       "      <th>score</th>\n",
       "    </tr>\n",
       "  </thead>\n",
       "  <tbody>\n",
       "    <tr>\n",
       "      <th>13</th>\n",
       "      <td>102382</td>\n",
       "      <td>The Amazing Spider-Man 2</td>\n",
       "      <td>[Action, Adventure, Fantasy]</td>\n",
       "      <td>The Amazing Spider-Man Collection</td>\n",
       "      <td>['Marvel Entertainment', 'Columbia Pictures', ...</td>\n",
       "      <td>2014</td>\n",
       "      <td>0.942401</td>\n",
       "    </tr>\n",
       "    <tr>\n",
       "      <th>6</th>\n",
       "      <td>1452</td>\n",
       "      <td>Superman Returns</td>\n",
       "      <td>[Science Fiction, Action, Adventure]</td>\n",
       "      <td>Superman Collection</td>\n",
       "      <td>['DC Comics', 'Legendary Pictures', 'Bad Hat H...</td>\n",
       "      <td>2006</td>\n",
       "      <td>0.937537</td>\n",
       "    </tr>\n",
       "    <tr>\n",
       "      <th>4</th>\n",
       "      <td>9738</td>\n",
       "      <td>Fantastic Four</td>\n",
       "      <td>[Action, Adventure, Fantasy, Science Fiction]</td>\n",
       "      <td>Fantastic Four Collection</td>\n",
       "      <td>['Kumar Mobiliengesellschaft mbH &amp; Co. Projekt...</td>\n",
       "      <td>2005</td>\n",
       "      <td>0.935019</td>\n",
       "    </tr>\n",
       "    <tr>\n",
       "      <th>5</th>\n",
       "      <td>36668</td>\n",
       "      <td>X-Men: The Last Stand</td>\n",
       "      <td>[Adventure, Action, Science Fiction, Thriller]</td>\n",
       "      <td>X-Men Collection</td>\n",
       "      <td>[\"The Donners' Company\", '20th Century Fox']</td>\n",
       "      <td>2006</td>\n",
       "      <td>0.934384</td>\n",
       "    </tr>\n",
       "    <tr>\n",
       "      <th>12</th>\n",
       "      <td>1930</td>\n",
       "      <td>The Amazing Spider-Man</td>\n",
       "      <td>[Action, Adventure, Fantasy]</td>\n",
       "      <td>The Amazing Spider-Man Collection</td>\n",
       "      <td>['Marvel Entertainment', 'Laura Ziskin Product...</td>\n",
       "      <td>2012</td>\n",
       "      <td>0.933807</td>\n",
       "    </tr>\n",
       "    <tr>\n",
       "      <th>9</th>\n",
       "      <td>1724</td>\n",
       "      <td>The Incredible Hulk</td>\n",
       "      <td>[]</td>\n",
       "      <td>NaN</td>\n",
       "      <td>['Marvel Studios', 'Valhalla Motion Pictures']</td>\n",
       "      <td>2008</td>\n",
       "      <td>0.929044</td>\n",
       "    </tr>\n",
       "    <tr>\n",
       "      <th>3</th>\n",
       "      <td>558</td>\n",
       "      <td>Spider-Man 2</td>\n",
       "      <td>[Action, Adventure, Fantasy]</td>\n",
       "      <td>Spider-Man Collection</td>\n",
       "      <td>['Marvel Enterprises', 'Laura Ziskin Productio...</td>\n",
       "      <td>2004</td>\n",
       "      <td>0.929022</td>\n",
       "    </tr>\n",
       "    <tr>\n",
       "      <th>11</th>\n",
       "      <td>2080</td>\n",
       "      <td>X-Men Origins: Wolverine</td>\n",
       "      <td>[Adventure, Action, Thriller, Science Fiction]</td>\n",
       "      <td>The Wolverine Collection</td>\n",
       "      <td>[\"The Donners' Company\", 'Seed Productions', '...</td>\n",
       "      <td>2009</td>\n",
       "      <td>0.928197</td>\n",
       "    </tr>\n",
       "    <tr>\n",
       "      <th>1</th>\n",
       "      <td>9480</td>\n",
       "      <td>Daredevil</td>\n",
       "      <td>[]</td>\n",
       "      <td>NaN</td>\n",
       "      <td>['Marvel Enterprises', 'New Regency Pictures',...</td>\n",
       "      <td>2003</td>\n",
       "      <td>0.926527</td>\n",
       "    </tr>\n",
       "    <tr>\n",
       "      <th>8</th>\n",
       "      <td>1979</td>\n",
       "      <td>Fantastic Four: Rise of the Silver Surfer</td>\n",
       "      <td>[Adventure, Fantasy, Action, Thriller]</td>\n",
       "      <td>Fantastic Four Collection</td>\n",
       "      <td>['1492 Pictures', 'Bernd Eichinger Productions...</td>\n",
       "      <td>2007</td>\n",
       "      <td>0.924260</td>\n",
       "    </tr>\n",
       "    <tr>\n",
       "      <th>14</th>\n",
       "      <td>209112</td>\n",
       "      <td>Batman v Superman: Dawn of Justice</td>\n",
       "      <td>[Action, Adventure, Fantasy]</td>\n",
       "      <td>Man of Steel Collection</td>\n",
       "      <td>['Warner Bros. Pictures', 'RatPac Entertainmen...</td>\n",
       "      <td>2016</td>\n",
       "      <td>0.921970</td>\n",
       "    </tr>\n",
       "    <tr>\n",
       "      <th>7</th>\n",
       "      <td>1250</td>\n",
       "      <td>Ghost Rider</td>\n",
       "      <td>[Thriller, Action, Fantasy]</td>\n",
       "      <td>Ghost Rider Collection</td>\n",
       "      <td>['Crystal Sky Pictures', 'Relativity Media', '...</td>\n",
       "      <td>2007</td>\n",
       "      <td>0.913164</td>\n",
       "    </tr>\n",
       "    <tr>\n",
       "      <th>2</th>\n",
       "      <td>1927</td>\n",
       "      <td>Hulk</td>\n",
       "      <td>[]</td>\n",
       "      <td>NaN</td>\n",
       "      <td>['Marvel Enterprises', 'Universal Pictures', '...</td>\n",
       "      <td>2003</td>\n",
       "      <td>0.911358</td>\n",
       "    </tr>\n",
       "    <tr>\n",
       "      <th>0</th>\n",
       "      <td>557</td>\n",
       "      <td>Spider-Man</td>\n",
       "      <td>[Fantasy, Action]</td>\n",
       "      <td>Spider-Man Collection</td>\n",
       "      <td>['Marvel Enterprises', 'Laura Ziskin Productio...</td>\n",
       "      <td>2002</td>\n",
       "      <td>0.907625</td>\n",
       "    </tr>\n",
       "    <tr>\n",
       "      <th>10</th>\n",
       "      <td>8960</td>\n",
       "      <td>Hancock</td>\n",
       "      <td>[Fantasy, Action]</td>\n",
       "      <td>Hancock Collection</td>\n",
       "      <td>['GH Three', 'Columbia Pictures', 'Relativity ...</td>\n",
       "      <td>2008</td>\n",
       "      <td>0.901725</td>\n",
       "    </tr>\n",
       "  </tbody>\n",
       "</table>\n",
       "</div>"
      ],
      "text/plain": [
       "    tmdbId                                      title  \\\n",
       "13  102382                   The Amazing Spider-Man 2   \n",
       "6     1452                           Superman Returns   \n",
       "4     9738                             Fantastic Four   \n",
       "5    36668                      X-Men: The Last Stand   \n",
       "12    1930                     The Amazing Spider-Man   \n",
       "9     1724                        The Incredible Hulk   \n",
       "3      558                               Spider-Man 2   \n",
       "11    2080                   X-Men Origins: Wolverine   \n",
       "1     9480                                  Daredevil   \n",
       "8     1979  Fantastic Four: Rise of the Silver Surfer   \n",
       "14  209112         Batman v Superman: Dawn of Justice   \n",
       "7     1250                                Ghost Rider   \n",
       "2     1927                                       Hulk   \n",
       "0      557                                 Spider-Man   \n",
       "10    8960                                    Hancock   \n",
       "\n",
       "                                        genre_name  \\\n",
       "13                    [Action, Adventure, Fantasy]   \n",
       "6             [Science Fiction, Action, Adventure]   \n",
       "4    [Action, Adventure, Fantasy, Science Fiction]   \n",
       "5   [Adventure, Action, Science Fiction, Thriller]   \n",
       "12                    [Action, Adventure, Fantasy]   \n",
       "9                                               []   \n",
       "3                     [Action, Adventure, Fantasy]   \n",
       "11  [Adventure, Action, Thriller, Science Fiction]   \n",
       "1                                               []   \n",
       "8           [Adventure, Fantasy, Action, Thriller]   \n",
       "14                    [Action, Adventure, Fantasy]   \n",
       "7                      [Thriller, Action, Fantasy]   \n",
       "2                                               []   \n",
       "0                                [Fantasy, Action]   \n",
       "10                               [Fantasy, Action]   \n",
       "\n",
       "                      collection_name  \\\n",
       "13  The Amazing Spider-Man Collection   \n",
       "6                 Superman Collection   \n",
       "4           Fantastic Four Collection   \n",
       "5                    X-Men Collection   \n",
       "12  The Amazing Spider-Man Collection   \n",
       "9                                 NaN   \n",
       "3               Spider-Man Collection   \n",
       "11           The Wolverine Collection   \n",
       "1                                 NaN   \n",
       "8           Fantastic Four Collection   \n",
       "14            Man of Steel Collection   \n",
       "7              Ghost Rider Collection   \n",
       "2                                 NaN   \n",
       "0               Spider-Man Collection   \n",
       "10                 Hancock Collection   \n",
       "\n",
       "                            production_companies_name  year     score  \n",
       "13  ['Marvel Entertainment', 'Columbia Pictures', ...  2014  0.942401  \n",
       "6   ['DC Comics', 'Legendary Pictures', 'Bad Hat H...  2006  0.937537  \n",
       "4   ['Kumar Mobiliengesellschaft mbH & Co. Projekt...  2005  0.935019  \n",
       "5        [\"The Donners' Company\", '20th Century Fox']  2006  0.934384  \n",
       "12  ['Marvel Entertainment', 'Laura Ziskin Product...  2012  0.933807  \n",
       "9      ['Marvel Studios', 'Valhalla Motion Pictures']  2008  0.929044  \n",
       "3   ['Marvel Enterprises', 'Laura Ziskin Productio...  2004  0.929022  \n",
       "11  [\"The Donners' Company\", 'Seed Productions', '...  2009  0.928197  \n",
       "1   ['Marvel Enterprises', 'New Regency Pictures',...  2003  0.926527  \n",
       "8   ['1492 Pictures', 'Bernd Eichinger Productions...  2007  0.924260  \n",
       "14  ['Warner Bros. Pictures', 'RatPac Entertainmen...  2016  0.921970  \n",
       "7   ['Crystal Sky Pictures', 'Relativity Media', '...  2007  0.913164  \n",
       "2   ['Marvel Enterprises', 'Universal Pictures', '...  2003  0.911358  \n",
       "0   ['Marvel Enterprises', 'Laura Ziskin Productio...  2002  0.907625  \n",
       "10  ['GH Three', 'Columbia Pictures', 'Relativity ...  2008  0.901725  "
      ]
     },
     "execution_count": 62,
     "metadata": {},
     "output_type": "execute_result"
    }
   ],
   "source": [
    "rec = get_similar_item(tmdbId, tmdbIds_genome, indices_genome, genome_sim, 15)\n",
    "movies_metadata[['tmdbId','title', 'genre_name','collection_name','production_companies_name',\n",
    "     'year']].merge(rec[['tmdbId', 'score']], on='tmdbId').sort_values('score', ascending=False)"
   ]
  },
  {
   "cell_type": "markdown",
   "id": "50851137",
   "metadata": {},
   "source": [
    "Результат выглядит достаточно убедительно. Все фильмы из топ про супергероев, нет странных рекомендаций по типу Арахнофобия. \n",
    "\n",
    "Напишем функцию рекомендаций по наиболее похожим фильмам из просмотренных и получивших оценку выше 3.5. Такая фильтрация позволит отобрать фильмы согласно предпочтениям каждого пользователя."
   ]
  },
  {
   "cell_type": "code",
   "execution_count": 20,
   "id": "fad49c73",
   "metadata": {},
   "outputs": [
    {
     "data": {
      "text/html": [
       "<div>\n",
       "<style scoped>\n",
       "    .dataframe tbody tr th:only-of-type {\n",
       "        vertical-align: middle;\n",
       "    }\n",
       "\n",
       "    .dataframe tbody tr th {\n",
       "        vertical-align: top;\n",
       "    }\n",
       "\n",
       "    .dataframe thead th {\n",
       "        text-align: right;\n",
       "    }\n",
       "</style>\n",
       "<table border=\"1\" class=\"dataframe\">\n",
       "  <thead>\n",
       "    <tr style=\"text-align: right;\">\n",
       "      <th></th>\n",
       "      <th>userId</th>\n",
       "      <th>items</th>\n",
       "    </tr>\n",
       "  </thead>\n",
       "  <tbody>\n",
       "    <tr>\n",
       "      <th>0</th>\n",
       "      <td>1</td>\n",
       "      <td>[862, 197, 8839, 11, 13, 10895, 562, 31530, 18...</td>\n",
       "    </tr>\n",
       "    <tr>\n",
       "      <th>1</th>\n",
       "      <td>2</td>\n",
       "      <td>[862, 197, 13, 949, 4584, 8012, 9598, 687, 807...</td>\n",
       "    </tr>\n",
       "  </tbody>\n",
       "</table>\n",
       "</div>"
      ],
      "text/plain": [
       "   userId                                              items\n",
       "0       1  [862, 197, 8839, 11, 13, 10895, 562, 31530, 18...\n",
       "1       2  [862, 197, 13, 949, 4584, 8012, 9598, 687, 807..."
      ]
     },
     "execution_count": 20,
     "metadata": {},
     "output_type": "execute_result"
    }
   ],
   "source": [
    "users_data_train = data_train.loc[data_train.rating > 3.5].groupby('userId')['tmdbId'].unique().reset_index()\n",
    "users_data_train.columns = ['userId', 'items']\n",
    "users_data_train.head(2)"
   ]
  },
  {
   "cell_type": "code",
   "execution_count": 83,
   "id": "65af16e3",
   "metadata": {},
   "outputs": [],
   "source": [
    "def content_recommender(userId, tmdbIds, indices, cosine_sim, N):\n",
    "    recs = pd.DataFrame(columns=['tmdbId', 'score'])\n",
    "    if users_data_train[users_data_train.userId==userId].shape[0] != 0:\n",
    "        watched_list = users_data_train[users_data_train.userId==userId]['items'].values[0]\n",
    "        if len(watched_list) > 10:\n",
    "            rec_N = 2\n",
    "        elif len(watched_list) > 2:\n",
    "            rec_N = N // 2\n",
    "        else:\n",
    "            rec_N = N\n",
    "        for i in watched_list:\n",
    "            if i in indices.index:\n",
    "                recs = pd.concat([recs, get_similar_item(i, tmdbIds, indices, cosine_sim, rec_N)], ignore_index=True)\n",
    "                recs = recs.iloc[recs.sort_values('score').tmdbId.drop_duplicates().index]\n",
    "        recs['tmdbId'] = recs['tmdbId'].astype('int')\n",
    "        recs = recs.loc[~recs.tmdbId.isin(watched_list)]\n",
    "        return recs.sort_values('score', ascending=False).tmdbId.to_list()[:N]\n",
    "    else:\n",
    "        return []"
   ]
  },
  {
   "cell_type": "code",
   "execution_count": 84,
   "id": "5a7ccdac",
   "metadata": {},
   "outputs": [
    {
     "data": {
      "text/plain": [
       "[120, 1891, 1894, 12444, 11, 767, 395991, 330459, 76338, 1893]"
      ]
     },
     "execution_count": 84,
     "metadata": {},
     "output_type": "execute_result"
    }
   ],
   "source": [
    "content_recommender(22, tmdbIds_genome, indices_genome, genome_sim, 10)"
   ]
  },
  {
   "cell_type": "code",
   "execution_count": 85,
   "id": "1a480bdd",
   "metadata": {},
   "outputs": [
    {
     "name": "stdout",
     "output_type": "stream",
     "text": [
      "CPU times: total: 29min 29s\n",
      "Wall time: 29min 31s\n"
     ]
    }
   ],
   "source": [
    "%%time\n",
    "result['content_describtion_recommender'] = result.apply(lambda x: content_recommender(x[0], \n",
    "                                                                                       tmdbIds, indices, \n",
    "                                                                                       description_sim, 10), 1)"
   ]
  },
  {
   "cell_type": "code",
   "execution_count": 86,
   "id": "358beace",
   "metadata": {},
   "outputs": [
    {
     "name": "stdout",
     "output_type": "stream",
     "text": [
      "CPU times: total: 40min 54s\n",
      "Wall time: 40min 55s\n"
     ]
    }
   ],
   "source": [
    "%%time\n",
    "result['content_soup_recommender'] = result.apply(lambda x: content_recommender(x[0], \n",
    "                                                                                tmdbIds, indices, \n",
    "                                                                                soup_sim, 10), 1)"
   ]
  },
  {
   "cell_type": "code",
   "execution_count": 87,
   "id": "b51cf591",
   "metadata": {},
   "outputs": [
    {
     "name": "stdout",
     "output_type": "stream",
     "text": [
      "CPU times: total: 1h 42min 32s\n",
      "Wall time: 1h 42min 35s\n"
     ]
    }
   ],
   "source": [
    "%%time\n",
    "result['content_genome_recommender'] = result.apply(lambda x: content_recommender(x[0], \n",
    "                                                                                tmdbIds_genome, indices_genome, \n",
    "                                                                                genome_sim, 10), 1)"
   ]
  },
  {
   "cell_type": "code",
   "execution_count": 88,
   "id": "93f5eaba",
   "metadata": {},
   "outputs": [
    {
     "data": {
      "text/html": [
       "<div>\n",
       "<style scoped>\n",
       "    .dataframe tbody tr th:only-of-type {\n",
       "        vertical-align: middle;\n",
       "    }\n",
       "\n",
       "    .dataframe tbody tr th {\n",
       "        vertical-align: top;\n",
       "    }\n",
       "\n",
       "    .dataframe thead th {\n",
       "        text-align: right;\n",
       "    }\n",
       "</style>\n",
       "<table border=\"1\" class=\"dataframe\">\n",
       "  <thead>\n",
       "    <tr style=\"text-align: right;\">\n",
       "      <th></th>\n",
       "      <th>userId</th>\n",
       "      <th>actual</th>\n",
       "      <th>popular_recommendation</th>\n",
       "      <th>content_describtion_recommender</th>\n",
       "      <th>content_soup_recommender</th>\n",
       "      <th>content_genome_recommender</th>\n",
       "      <th>content_genome_recommender_improved</th>\n",
       "    </tr>\n",
       "  </thead>\n",
       "  <tbody>\n",
       "    <tr>\n",
       "      <th>0</th>\n",
       "      <td>22</td>\n",
       "      <td>[11, 562, 1891, 603, 120, 2048, 1572, 241, 207...</td>\n",
       "      <td>[278, 496243, 155, 157336, 372058, 122, 129, 2...</td>\n",
       "      <td>[352186, 60463, 335984, 607, 441829, 2048, 497...</td>\n",
       "      <td>[36658, 161, 275442, 607, 119450, 673, 274479,...</td>\n",
       "      <td>[120, 1891, 1894, 12444, 11, 767, 395991, 3304...</td>\n",
       "      <td>[496243, 157336, 27205, 324857, 769, 1891, 687...</td>\n",
       "    </tr>\n",
       "    <tr>\n",
       "      <th>1</th>\n",
       "      <td>33</td>\n",
       "      <td>[103, 500, 10315, 10243]</td>\n",
       "      <td>[278, 496243, 155, 157336, 372058, 122, 129, 2...</td>\n",
       "      <td>[458156, 249164, 71325, 433499, 9294, 761116, ...</td>\n",
       "      <td>[222715, 240, 603692, 458156, 844, 242, 843, 8...</td>\n",
       "      <td>[426426, 240, 674324, 359940, 423, 823754, 438...</td>\n",
       "      <td>[680, 550, 240, 637, 807, 423, 475557, 4935, 4...</td>\n",
       "    </tr>\n",
       "  </tbody>\n",
       "</table>\n",
       "</div>"
      ],
      "text/plain": [
       "   userId                                             actual  \\\n",
       "0      22  [11, 562, 1891, 603, 120, 2048, 1572, 241, 207...   \n",
       "1      33                           [103, 500, 10315, 10243]   \n",
       "\n",
       "                              popular_recommendation  \\\n",
       "0  [278, 496243, 155, 157336, 372058, 122, 129, 2...   \n",
       "1  [278, 496243, 155, 157336, 372058, 122, 129, 2...   \n",
       "\n",
       "                     content_describtion_recommender  \\\n",
       "0  [352186, 60463, 335984, 607, 441829, 2048, 497...   \n",
       "1  [458156, 249164, 71325, 433499, 9294, 761116, ...   \n",
       "\n",
       "                            content_soup_recommender  \\\n",
       "0  [36658, 161, 275442, 607, 119450, 673, 274479,...   \n",
       "1  [222715, 240, 603692, 458156, 844, 242, 843, 8...   \n",
       "\n",
       "                          content_genome_recommender  \\\n",
       "0  [120, 1891, 1894, 12444, 11, 767, 395991, 3304...   \n",
       "1  [426426, 240, 674324, 359940, 423, 823754, 438...   \n",
       "\n",
       "                 content_genome_recommender_improved  \n",
       "0  [496243, 157336, 27205, 324857, 769, 1891, 687...  \n",
       "1  [680, 550, 240, 637, 807, 423, 475557, 4935, 4...  "
      ]
     },
     "execution_count": 88,
     "metadata": {},
     "output_type": "execute_result"
    }
   ],
   "source": [
    "result.head(2)"
   ]
  },
  {
   "cell_type": "code",
   "execution_count": 89,
   "id": "ab023ea4",
   "metadata": {},
   "outputs": [],
   "source": [
    "metrics.loc['content_describtion_recommender'] = [result.apply(lambda x: precision_at_k(x[3], x[1], 10), 1).mean(),\n",
    "                                              result.loc[~result.userId.isin(cold_users)].apply(lambda x: precision_at_k(x[3], x[1], 10), 1).mean(),\n",
    "                                              result.loc[result.userId.isin(cold_users)].apply(lambda x: precision_at_k(x[3], x[1], 10), 1).mean()]\n",
    "metrics.loc['content_soup_recommender'] = [result.apply(lambda x: precision_at_k(x[4], x[1], 10), 1).mean(),\n",
    "                                       result.loc[~result.userId.isin(cold_users)].apply(lambda x: precision_at_k(x[4], x[1], 10), 1).mean(),\n",
    "                                       result.loc[result.userId.isin(cold_users)].apply(lambda x: precision_at_k(x[4], x[1], 10), 1).mean()]\n",
    "metrics.loc['content_genome_recommender'] = [result.apply(lambda x: precision_at_k(x[5], x[1], 10), 1).mean(),\n",
    "                                         result.loc[~result.userId.isin(cold_users)].apply(lambda x: precision_at_k(x[5], x[1], 10), 1).mean(),\n",
    "                                         result.loc[result.userId.isin(cold_users)].apply(lambda x: precision_at_k(x[5], x[1], 10), 1).mean()]"
   ]
  },
  {
   "cell_type": "code",
   "execution_count": 26,
   "id": "0ab6881c",
   "metadata": {},
   "outputs": [
    {
     "data": {
      "text/html": [
       "<div>\n",
       "<style scoped>\n",
       "    .dataframe tbody tr th:only-of-type {\n",
       "        vertical-align: middle;\n",
       "    }\n",
       "\n",
       "    .dataframe tbody tr th {\n",
       "        vertical-align: top;\n",
       "    }\n",
       "\n",
       "    .dataframe thead th {\n",
       "        text-align: right;\n",
       "    }\n",
       "</style>\n",
       "<table border=\"1\" class=\"dataframe\">\n",
       "  <thead>\n",
       "    <tr style=\"text-align: right;\">\n",
       "      <th></th>\n",
       "      <th>full_precision</th>\n",
       "      <th>warm_precision</th>\n",
       "      <th>cold_precision</th>\n",
       "    </tr>\n",
       "  </thead>\n",
       "  <tbody>\n",
       "    <tr>\n",
       "      <th>popular_recommender</th>\n",
       "      <td>0.090204</td>\n",
       "      <td>0.017540</td>\n",
       "      <td>0.271012</td>\n",
       "    </tr>\n",
       "    <tr>\n",
       "      <th>content_describtion_recommender</th>\n",
       "      <td>0.005014</td>\n",
       "      <td>0.007029</td>\n",
       "      <td>0.000000</td>\n",
       "    </tr>\n",
       "    <tr>\n",
       "      <th>content_soup_recommender</th>\n",
       "      <td>0.009655</td>\n",
       "      <td>0.013535</td>\n",
       "      <td>0.000000</td>\n",
       "    </tr>\n",
       "    <tr>\n",
       "      <th>content_genome_recommender</th>\n",
       "      <td>0.019762</td>\n",
       "      <td>0.027704</td>\n",
       "      <td>0.000000</td>\n",
       "    </tr>\n",
       "  </tbody>\n",
       "</table>\n",
       "</div>"
      ],
      "text/plain": [
       "                                 full_precision  warm_precision  \\\n",
       "popular_recommender                    0.090204        0.017540   \n",
       "content_describtion_recommender        0.005014        0.007029   \n",
       "content_soup_recommender               0.009655        0.013535   \n",
       "content_genome_recommender             0.019762        0.027704   \n",
       "\n",
       "                                 cold_precision  \n",
       "popular_recommender                    0.271012  \n",
       "content_describtion_recommender        0.000000  \n",
       "content_soup_recommender               0.000000  \n",
       "content_genome_recommender             0.000000  "
      ]
     },
     "execution_count": 26,
     "metadata": {},
     "output_type": "execute_result"
    }
   ],
   "source": [
    "metrics"
   ]
  },
  {
   "cell_type": "markdown",
   "id": "511f9e43",
   "metadata": {},
   "source": [
    "Возможно можно улучшить работу контентных алгоритмов, воспользовавшись формулой взвешивания.\n",
    "\n",
    "Сначала мы получим топ 3*N схожих фильмов, найдем их в списке самых популярных, усредним коэффициенты схожести и популярности и выведем топ N"
   ]
  },
  {
   "cell_type": "code",
   "execution_count": 91,
   "id": "d7ed693a",
   "metadata": {},
   "outputs": [],
   "source": [
    "def get_similar_item_improved(tmdbId,tmdbIds, indices, cosine_sim, N):\n",
    "    idx = indices[tmdbId]\n",
    "    sim_scores = list(enumerate(cosine_sim[idx]))\n",
    "    sim_scores = sorted(sim_scores, key=lambda x: x[1], reverse=True)\n",
    "    sim_scores = sim_scores[1:3*N]\n",
    "    movie_indices = [i[0] for i in sim_scores]\n",
    "    score = [i[1] for i in sim_scores]\n",
    "    result = pd.DataFrame({'tmdbId': tmdbIds.iloc[movie_indices], 'score_similar':score})\n",
    "    \n",
    "    movie_tmdbIds = tmdbIds.iloc[movie_indices]\n",
    "    result = result.merge(popular_df, on='tmdbId',how='left')\n",
    "    \n",
    "    result['score'] = result.apply(lambda x : (x['imdb_weight_impr'] + x['score_similar'])/2, 1)\n",
    "    result = result.sort_values('score', ascending=False)\n",
    "    result['tmdbId'] = result['tmdbId'].astype('int')\n",
    "    return result[['tmdbId', 'score']].head(N)"
   ]
  },
  {
   "cell_type": "code",
   "execution_count": 92,
   "id": "f1fddd6c",
   "metadata": {},
   "outputs": [
    {
     "data": {
      "text/html": [
       "<div>\n",
       "<style scoped>\n",
       "    .dataframe tbody tr th:only-of-type {\n",
       "        vertical-align: middle;\n",
       "    }\n",
       "\n",
       "    .dataframe tbody tr th {\n",
       "        vertical-align: top;\n",
       "    }\n",
       "\n",
       "    .dataframe thead th {\n",
       "        text-align: right;\n",
       "    }\n",
       "</style>\n",
       "<table border=\"1\" class=\"dataframe\">\n",
       "  <thead>\n",
       "    <tr style=\"text-align: right;\">\n",
       "      <th></th>\n",
       "      <th>tmdbId</th>\n",
       "      <th>score</th>\n",
       "    </tr>\n",
       "  </thead>\n",
       "  <tbody>\n",
       "    <tr>\n",
       "      <th>28</th>\n",
       "      <td>120</td>\n",
       "      <td>5.002845</td>\n",
       "    </tr>\n",
       "    <tr>\n",
       "      <th>27</th>\n",
       "      <td>121</td>\n",
       "      <td>4.995937</td>\n",
       "    </tr>\n",
       "    <tr>\n",
       "      <th>11</th>\n",
       "      <td>315162</td>\n",
       "      <td>4.911410</td>\n",
       "    </tr>\n",
       "    <tr>\n",
       "      <th>18</th>\n",
       "      <td>527774</td>\n",
       "      <td>4.733094</td>\n",
       "    </tr>\n",
       "    <tr>\n",
       "      <th>20</th>\n",
       "      <td>502356</td>\n",
       "      <td>4.690530</td>\n",
       "    </tr>\n",
       "    <tr>\n",
       "      <th>6</th>\n",
       "      <td>85</td>\n",
       "      <td>4.680624</td>\n",
       "    </tr>\n",
       "    <tr>\n",
       "      <th>16</th>\n",
       "      <td>808</td>\n",
       "      <td>4.664852</td>\n",
       "    </tr>\n",
       "    <tr>\n",
       "      <th>22</th>\n",
       "      <td>166428</td>\n",
       "      <td>4.658531</td>\n",
       "    </tr>\n",
       "    <tr>\n",
       "      <th>14</th>\n",
       "      <td>89</td>\n",
       "      <td>4.648847</td>\n",
       "    </tr>\n",
       "    <tr>\n",
       "      <th>24</th>\n",
       "      <td>508439</td>\n",
       "      <td>4.643940</td>\n",
       "    </tr>\n",
       "  </tbody>\n",
       "</table>\n",
       "</div>"
      ],
      "text/plain": [
       "    tmdbId     score\n",
       "28     120  5.002845\n",
       "27     121  4.995937\n",
       "11  315162  4.911410\n",
       "18  527774  4.733094\n",
       "20  502356  4.690530\n",
       "6       85  4.680624\n",
       "16     808  4.664852\n",
       "22  166428  4.658531\n",
       "14      89  4.648847\n",
       "24  508439  4.643940"
      ]
     },
     "execution_count": 92,
     "metadata": {},
     "output_type": "execute_result"
    }
   ],
   "source": [
    "get_similar_item_improved(22 ,tmdbIds_genome, indices_genome, genome_sim, 10)"
   ]
  },
  {
   "cell_type": "code",
   "execution_count": 93,
   "id": "18d8f379",
   "metadata": {},
   "outputs": [],
   "source": [
    "def content_recommender_improved(userId, tmdbIds, indices, cosine_sim, N):\n",
    "    recs = pd.DataFrame(columns=['tmdbId', 'score'])\n",
    "    if users_data_train[users_data_train.userId==userId].shape[0] != 0:\n",
    "        watched_list = users_data_train[users_data_train.userId==userId]['items'].values[0]\n",
    "        if len(watched_list) > 10:\n",
    "            rec_N = 2\n",
    "        elif len(watched_list) > 2:\n",
    "            rec_N = N // 2\n",
    "        else:\n",
    "            rec_N = N\n",
    "        for i in watched_list:\n",
    "            if i in indices.index:\n",
    "                recs = pd.concat([recs, get_similar_item_improved(i, tmdbIds, indices, cosine_sim, rec_N)], ignore_index=True)\n",
    "                recs = recs.iloc[recs.sort_values('score').tmdbId.drop_duplicates().index]\n",
    "        recs['tmdbId'] = recs['tmdbId'].astype('int')\n",
    "        recs = recs.loc[~recs.tmdbId.isin(watched_list)]\n",
    "        return recs.sort_values('score', ascending=False).tmdbId.to_list()[:N]\n",
    "    else:\n",
    "        return []"
   ]
  },
  {
   "cell_type": "code",
   "execution_count": 94,
   "id": "462db23f",
   "metadata": {},
   "outputs": [
    {
     "data": {
      "text/plain": [
       "[496243, 157336, 120, 324857, 769, 475557, 1891, 68718, 490132, 274]"
      ]
     },
     "execution_count": 94,
     "metadata": {},
     "output_type": "execute_result"
    }
   ],
   "source": [
    "content_recommender_improved(22, tmdbIds_genome, indices_genome, genome_sim, 10)"
   ]
  },
  {
   "cell_type": "code",
   "execution_count": 95,
   "id": "c8ea2ad3",
   "metadata": {},
   "outputs": [
    {
     "name": "stdout",
     "output_type": "stream",
     "text": [
      "CPU times: total: 2h 29min 46s\n",
      "Wall time: 2h 29min 49s\n"
     ]
    }
   ],
   "source": [
    "%%time\n",
    "result['content_genome_recommender_improved'] = result.apply(lambda x: content_recommender_improved(x[0], \n",
    "                                                                                tmdbIds_genome, indices_genome, \n",
    "                                                                                genome_sim, 10), 1)"
   ]
  },
  {
   "cell_type": "code",
   "execution_count": 96,
   "id": "04504be6",
   "metadata": {
    "scrolled": true
   },
   "outputs": [
    {
     "data": {
      "text/html": [
       "<div>\n",
       "<style scoped>\n",
       "    .dataframe tbody tr th:only-of-type {\n",
       "        vertical-align: middle;\n",
       "    }\n",
       "\n",
       "    .dataframe tbody tr th {\n",
       "        vertical-align: top;\n",
       "    }\n",
       "\n",
       "    .dataframe thead th {\n",
       "        text-align: right;\n",
       "    }\n",
       "</style>\n",
       "<table border=\"1\" class=\"dataframe\">\n",
       "  <thead>\n",
       "    <tr style=\"text-align: right;\">\n",
       "      <th></th>\n",
       "      <th>full_precision</th>\n",
       "      <th>warm_precision</th>\n",
       "      <th>cold_precision</th>\n",
       "    </tr>\n",
       "  </thead>\n",
       "  <tbody>\n",
       "    <tr>\n",
       "      <th>popular_recommender</th>\n",
       "      <td>0.090204</td>\n",
       "      <td>0.017540</td>\n",
       "      <td>0.271012</td>\n",
       "    </tr>\n",
       "    <tr>\n",
       "      <th>content_describtion_recommender</th>\n",
       "      <td>0.005014</td>\n",
       "      <td>0.007029</td>\n",
       "      <td>0.000000</td>\n",
       "    </tr>\n",
       "    <tr>\n",
       "      <th>content_soup_recommender</th>\n",
       "      <td>0.009655</td>\n",
       "      <td>0.013535</td>\n",
       "      <td>0.000000</td>\n",
       "    </tr>\n",
       "    <tr>\n",
       "      <th>content_genome_recommender</th>\n",
       "      <td>0.019762</td>\n",
       "      <td>0.027704</td>\n",
       "      <td>0.000000</td>\n",
       "    </tr>\n",
       "    <tr>\n",
       "      <th>content_genome_recommender_improved</th>\n",
       "      <td>0.025958</td>\n",
       "      <td>0.036391</td>\n",
       "      <td>0.000000</td>\n",
       "    </tr>\n",
       "  </tbody>\n",
       "</table>\n",
       "</div>"
      ],
      "text/plain": [
       "                                     full_precision  warm_precision  \\\n",
       "popular_recommender                        0.090204        0.017540   \n",
       "content_describtion_recommender            0.005014        0.007029   \n",
       "content_soup_recommender                   0.009655        0.013535   \n",
       "content_genome_recommender                 0.019762        0.027704   \n",
       "content_genome_recommender_improved        0.025958        0.036391   \n",
       "\n",
       "                                     cold_precision  \n",
       "popular_recommender                        0.271012  \n",
       "content_describtion_recommender            0.000000  \n",
       "content_soup_recommender                   0.000000  \n",
       "content_genome_recommender                 0.000000  \n",
       "content_genome_recommender_improved        0.000000  "
      ]
     },
     "execution_count": 96,
     "metadata": {},
     "output_type": "execute_result"
    }
   ],
   "source": [
    "metrics.loc['content_genome_recommender_improved'] = [result.apply(lambda x: precision_at_k(x[6], x[1], 10), 1).mean(),\n",
    "                                                  result.loc[~result.userId.isin(cold_users)].apply(lambda x: precision_at_k(x[6], x[1], 10), 1).mean(),\n",
    "                                                  result.loc[result.userId.isin(cold_users)].apply(lambda x: precision_at_k(x[6], x[1], 10), 1).mean()]\n",
    "metrics"
   ]
  },
  {
   "cell_type": "markdown",
   "id": "6731c673",
   "metadata": {},
   "source": [
    "Точность алгоритма увеличилась на 0.6% на всем тесте и на 0.9% на темплых пользователях. \n",
    "\n",
    "По итогу content_genome_recommender_improved дал лучшие показатели точности"
   ]
  },
  {
   "cell_type": "markdown",
   "id": "f8ec41d2",
   "metadata": {},
   "source": [
    "Так как контентные алгоритмы не могут работать с “холодными пользователями”, то на них применим popular recommender и получим следующий результат"
   ]
  },
  {
   "cell_type": "code",
   "execution_count": 97,
   "id": "ea57b6ef",
   "metadata": {},
   "outputs": [],
   "source": [
    "def content_popular_recommender(userId, tmdbIds, indices, cosine_sim, N):\n",
    "    recs = pd.DataFrame(columns=['tmdbId', 'score'])\n",
    "    if users_data_train[users_data_train.userId==userId].shape[0] != 0:\n",
    "        watched_list = users_data_train[users_data_train.userId==userId]['items'].values[0]\n",
    "        for i in watched_list:\n",
    "            if i in indices.index:\n",
    "                recs = pd.concat([recs, get_similar_item_improved(i, tmdbIds, indices, cosine_sim, 1)], ignore_index=True)\n",
    "                recs = recs.iloc[recs.sort_values('score').tmdbId.drop_duplicates().index]\n",
    "        recs['tmdbId'] = recs['tmdbId'].astype('int')\n",
    "        recs = recs.loc[~recs.tmdbId.isin(watched_list)]\n",
    "        recommendations = recs.sort_values('score', ascending=False).tmdbId.to_list()\n",
    "        if len(recommendations) < N:\n",
    "            recommendations.extend(weighted_popular_recommender(userId, N-len(recommendations)))\n",
    "        return recommendations[:N]\n",
    "    else:\n",
    "        return weighted_popular_recommender(userId, N)"
   ]
  },
  {
   "cell_type": "code",
   "execution_count": 98,
   "id": "4126c082",
   "metadata": {},
   "outputs": [
    {
     "name": "stdout",
     "output_type": "stream",
     "text": [
      "CPU times: total: 2h 25min 9s\n",
      "Wall time: 2h 25min 11s\n"
     ]
    }
   ],
   "source": [
    "%%time\n",
    "result['content_genome_popular_recommender'] = result.apply(lambda x: content_popular_recommender(x[0], \n",
    "                                                                                tmdbIds_genome, indices_genome, \n",
    "                                                                                genome_sim, 10), 1)"
   ]
  },
  {
   "cell_type": "code",
   "execution_count": 99,
   "id": "b80fc619",
   "metadata": {
    "scrolled": true
   },
   "outputs": [
    {
     "data": {
      "text/html": [
       "<div>\n",
       "<style scoped>\n",
       "    .dataframe tbody tr th:only-of-type {\n",
       "        vertical-align: middle;\n",
       "    }\n",
       "\n",
       "    .dataframe tbody tr th {\n",
       "        vertical-align: top;\n",
       "    }\n",
       "\n",
       "    .dataframe thead th {\n",
       "        text-align: right;\n",
       "    }\n",
       "</style>\n",
       "<table border=\"1\" class=\"dataframe\">\n",
       "  <thead>\n",
       "    <tr style=\"text-align: right;\">\n",
       "      <th></th>\n",
       "      <th>full_precision</th>\n",
       "      <th>warm_precision</th>\n",
       "      <th>cold_precision</th>\n",
       "    </tr>\n",
       "  </thead>\n",
       "  <tbody>\n",
       "    <tr>\n",
       "      <th>popular_recommender</th>\n",
       "      <td>0.090204</td>\n",
       "      <td>0.017540</td>\n",
       "      <td>0.271012</td>\n",
       "    </tr>\n",
       "    <tr>\n",
       "      <th>content_describtion_recommender</th>\n",
       "      <td>0.005014</td>\n",
       "      <td>0.007029</td>\n",
       "      <td>0.000000</td>\n",
       "    </tr>\n",
       "    <tr>\n",
       "      <th>content_soup_recommender</th>\n",
       "      <td>0.009655</td>\n",
       "      <td>0.013535</td>\n",
       "      <td>0.000000</td>\n",
       "    </tr>\n",
       "    <tr>\n",
       "      <th>content_genome_recommender</th>\n",
       "      <td>0.019762</td>\n",
       "      <td>0.027704</td>\n",
       "      <td>0.000000</td>\n",
       "    </tr>\n",
       "    <tr>\n",
       "      <th>content_genome_recommender_improved</th>\n",
       "      <td>0.025958</td>\n",
       "      <td>0.036391</td>\n",
       "      <td>0.000000</td>\n",
       "    </tr>\n",
       "    <tr>\n",
       "      <th>content_genome_popular_recommender</th>\n",
       "      <td>0.104898</td>\n",
       "      <td>0.038139</td>\n",
       "      <td>0.271012</td>\n",
       "    </tr>\n",
       "  </tbody>\n",
       "</table>\n",
       "</div>"
      ],
      "text/plain": [
       "                                     full_precision  warm_precision  \\\n",
       "popular_recommender                        0.090204        0.017540   \n",
       "content_describtion_recommender            0.005014        0.007029   \n",
       "content_soup_recommender                   0.009655        0.013535   \n",
       "content_genome_recommender                 0.019762        0.027704   \n",
       "content_genome_recommender_improved        0.025958        0.036391   \n",
       "content_genome_popular_recommender         0.104898        0.038139   \n",
       "\n",
       "                                     cold_precision  \n",
       "popular_recommender                        0.271012  \n",
       "content_describtion_recommender            0.000000  \n",
       "content_soup_recommender                   0.000000  \n",
       "content_genome_recommender                 0.000000  \n",
       "content_genome_recommender_improved        0.000000  \n",
       "content_genome_popular_recommender         0.271012  "
      ]
     },
     "execution_count": 99,
     "metadata": {},
     "output_type": "execute_result"
    }
   ],
   "source": [
    "metrics.loc['content_genome_popular_recommender'] = [result.apply(lambda x: precision_at_k(x.content_genome_popular_recommender, x[1], 10), 1).mean(),\n",
    "                                                     result.loc[~result.userId.isin(cold_users)].apply(lambda x: precision_at_k(x.content_genome_popular_recommender, x[1], 10), 1).mean(),\n",
    "                                                     result.loc[result.userId.isin(cold_users)].apply(lambda x: precision_at_k(x.content_genome_popular_recommender, x[1], 10), 1).mean()]\n",
    "metrics"
   ]
  },
  {
   "cell_type": "markdown",
   "id": "9428bbe2",
   "metadata": {},
   "source": [
    "Результат стал гораздо лучше (на 8% на тесте и на 0.2% для теплых пользователей)"
   ]
  },
  {
   "cell_type": "markdown",
   "id": "7f573e08",
   "metadata": {},
   "source": [
    "### <a id=\"2.2\"> User-based recommender</a>"
   ]
  },
  {
   "cell_type": "markdown",
   "id": "8bb873de",
   "metadata": {},
   "source": [
    "Построим алгоритм, который работает на основе схожести предпочтений пользователей. Если один пользователь поставил трем фильмам высшую оценку, а другой пользователь поставил высшую оченку двум из этих фильмов, то есть вероятность, что ему понравится и третий фильм.\n",
    "\n",
    "Сначала посмотрим сколько оценок заработал каждый из фильмов"
   ]
  },
  {
   "cell_type": "code",
   "execution_count": 100,
   "id": "fe8d024d",
   "metadata": {},
   "outputs": [
    {
     "data": {
      "text/plain": [
       "278       121752\n",
       "603       106552\n",
       "550        85759\n",
       "329        82861\n",
       "862        76603\n",
       "           ...  \n",
       "280127         1\n",
       "333657         1\n",
       "103903         1\n",
       "537050         1\n",
       "354148         1\n",
       "Name: tmdbId, Length: 19418, dtype: int64"
      ]
     },
     "execution_count": 100,
     "metadata": {},
     "output_type": "execute_result"
    }
   ],
   "source": [
    "values_pd = sr[\"tmdbId\"].value_counts() \n",
    "values_pd"
   ]
  },
  {
   "cell_type": "markdown",
   "id": "37183df9",
   "metadata": {},
   "source": [
    "Фильмы, которым поставили менее 100 оценок посчитаем за редкие. Я не буду их включать в алгоритм"
   ]
  },
  {
   "cell_type": "code",
   "execution_count": 101,
   "id": "8ba7e95d",
   "metadata": {},
   "outputs": [
    {
     "data": {
      "text/plain": [
       "3.5837156303149422"
      ]
     },
     "execution_count": 101,
     "metadata": {},
     "output_type": "execute_result"
    }
   ],
   "source": [
    "sr.rating = sr.rating.apply(clean_numeric)\n",
    "sr.rating.mean()"
   ]
  },
  {
   "cell_type": "code",
   "execution_count": 102,
   "id": "e0c66998",
   "metadata": {},
   "outputs": [],
   "source": [
    "rare_movies = values_pd[values_pd < 100].index\n",
    "df = sr[~sr[\"tmdbId\"].isin(rare_movies)]"
   ]
  },
  {
   "cell_type": "markdown",
   "id": "347414be",
   "metadata": {},
   "source": [
    "Приводим датафрейм к нужному формату"
   ]
  },
  {
   "cell_type": "code",
   "execution_count": 103,
   "id": "1155e646",
   "metadata": {},
   "outputs": [],
   "source": [
    "df = df[['userId', 'rating', 'tmdbId']]"
   ]
  },
  {
   "cell_type": "code",
   "execution_count": 104,
   "id": "9a801cc4",
   "metadata": {},
   "outputs": [],
   "source": [
    "df.rating = df.rating.astype('float64')\n",
    "df.userId = df.userId.astype('int64')\n",
    "df.tmdbId = df.tmdbId.astype('int64')"
   ]
  },
  {
   "cell_type": "markdown",
   "id": "02e5521e",
   "metadata": {},
   "source": [
    "Создаем матрицу"
   ]
  },
  {
   "cell_type": "code",
   "execution_count": 105,
   "id": "138e720a",
   "metadata": {},
   "outputs": [],
   "source": [
    "user_tmbdId_matrix = df.groupby([\"userId\",\"tmdbId\"])[\"rating\"].mean().unstack()"
   ]
  },
  {
   "cell_type": "code",
   "execution_count": 106,
   "id": "e0cd1766",
   "metadata": {},
   "outputs": [
    {
     "data": {
      "text/plain": [
       "(318286, 2884)"
      ]
     },
     "execution_count": 106,
     "metadata": {},
     "output_type": "execute_result"
    }
   ],
   "source": [
    "user_tmbdId_matrix.shape"
   ]
  },
  {
   "cell_type": "markdown",
   "id": "7abe23a3",
   "metadata": {},
   "source": [
    "Сначала посмотрим логику алгоритма на рандомном пользователе"
   ]
  },
  {
   "cell_type": "code",
   "execution_count": 107,
   "id": "0715ccda",
   "metadata": {},
   "outputs": [
    {
     "data": {
      "text/plain": [
       "214196"
      ]
     },
     "execution_count": 107,
     "metadata": {},
     "output_type": "execute_result"
    }
   ],
   "source": [
    "sample_guy = user_tmbdId_matrix.sample(1,random_state=30).index[0]\n",
    "sample_guy"
   ]
  },
  {
   "cell_type": "code",
   "execution_count": 108,
   "id": "e5c33253",
   "metadata": {},
   "outputs": [
    {
     "data": {
      "text/html": [
       "<div>\n",
       "<style scoped>\n",
       "    .dataframe tbody tr th:only-of-type {\n",
       "        vertical-align: middle;\n",
       "    }\n",
       "\n",
       "    .dataframe tbody tr th {\n",
       "        vertical-align: top;\n",
       "    }\n",
       "\n",
       "    .dataframe thead th {\n",
       "        text-align: right;\n",
       "    }\n",
       "</style>\n",
       "<table border=\"1\" class=\"dataframe\">\n",
       "  <thead>\n",
       "    <tr style=\"text-align: right;\">\n",
       "      <th>tmdbId</th>\n",
       "      <th>5</th>\n",
       "      <th>12</th>\n",
       "      <th>14</th>\n",
       "      <th>18</th>\n",
       "      <th>24</th>\n",
       "      <th>27</th>\n",
       "      <th>33</th>\n",
       "      <th>38</th>\n",
       "      <th>67</th>\n",
       "      <th>69</th>\n",
       "      <th>...</th>\n",
       "      <th>807196</th>\n",
       "      <th>819876</th>\n",
       "      <th>862965</th>\n",
       "      <th>866413</th>\n",
       "      <th>869626</th>\n",
       "      <th>882598</th>\n",
       "      <th>894205</th>\n",
       "      <th>899112</th>\n",
       "      <th>937278</th>\n",
       "      <th>949423</th>\n",
       "    </tr>\n",
       "    <tr>\n",
       "      <th>userId</th>\n",
       "      <th></th>\n",
       "      <th></th>\n",
       "      <th></th>\n",
       "      <th></th>\n",
       "      <th></th>\n",
       "      <th></th>\n",
       "      <th></th>\n",
       "      <th></th>\n",
       "      <th></th>\n",
       "      <th></th>\n",
       "      <th></th>\n",
       "      <th></th>\n",
       "      <th></th>\n",
       "      <th></th>\n",
       "      <th></th>\n",
       "      <th></th>\n",
       "      <th></th>\n",
       "      <th></th>\n",
       "      <th></th>\n",
       "      <th></th>\n",
       "      <th></th>\n",
       "    </tr>\n",
       "  </thead>\n",
       "  <tbody>\n",
       "    <tr>\n",
       "      <th>214196</th>\n",
       "      <td>NaN</td>\n",
       "      <td>NaN</td>\n",
       "      <td>NaN</td>\n",
       "      <td>NaN</td>\n",
       "      <td>NaN</td>\n",
       "      <td>NaN</td>\n",
       "      <td>NaN</td>\n",
       "      <td>NaN</td>\n",
       "      <td>NaN</td>\n",
       "      <td>NaN</td>\n",
       "      <td>...</td>\n",
       "      <td>NaN</td>\n",
       "      <td>NaN</td>\n",
       "      <td>NaN</td>\n",
       "      <td>NaN</td>\n",
       "      <td>NaN</td>\n",
       "      <td>NaN</td>\n",
       "      <td>NaN</td>\n",
       "      <td>NaN</td>\n",
       "      <td>NaN</td>\n",
       "      <td>NaN</td>\n",
       "    </tr>\n",
       "  </tbody>\n",
       "</table>\n",
       "<p>1 rows × 2884 columns</p>\n",
       "</div>"
      ],
      "text/plain": [
       "tmdbId  5       12      14      18      24      27      33      38      \\\n",
       "userId                                                                   \n",
       "214196     NaN     NaN     NaN     NaN     NaN     NaN     NaN     NaN   \n",
       "\n",
       "tmdbId  67      69      ...  807196  819876  862965  866413  869626  882598  \\\n",
       "userId                  ...                                                   \n",
       "214196     NaN     NaN  ...     NaN     NaN     NaN     NaN     NaN     NaN   \n",
       "\n",
       "tmdbId  894205  899112  937278  949423  \n",
       "userId                                  \n",
       "214196     NaN     NaN     NaN     NaN  \n",
       "\n",
       "[1 rows x 2884 columns]"
      ]
     },
     "execution_count": 108,
     "metadata": {},
     "output_type": "execute_result"
    }
   ],
   "source": [
    "random_user_df = user_tmbdId_matrix.loc[user_tmbdId_matrix.index == sample_guy]\n",
    "random_user_df"
   ]
  },
  {
   "cell_type": "code",
   "execution_count": 109,
   "id": "0e700755",
   "metadata": {},
   "outputs": [
    {
     "data": {
      "text/plain": [
       "22"
      ]
     },
     "execution_count": 109,
     "metadata": {},
     "output_type": "execute_result"
    }
   ],
   "source": [
    "movies_watched = random_user_df.dropna(axis=1).columns.tolist() #  те фильмы, которые посмотрел пользователь\n",
    "len(movies_watched)"
   ]
  },
  {
   "cell_type": "code",
   "execution_count": 110,
   "id": "e4ae9a89",
   "metadata": {},
   "outputs": [],
   "source": [
    "movies_watched_df = user_tmbdId_matrix[movies_watched] # колонки фильмов"
   ]
  },
  {
   "cell_type": "code",
   "execution_count": 111,
   "id": "c1ead18b",
   "metadata": {},
   "outputs": [],
   "source": [
    "user_movie_count = movies_watched_df.notnull().sum(axis=1) # сколько из просмотренных фильмов, просмотрели другие пол-ли"
   ]
  },
  {
   "cell_type": "code",
   "execution_count": 112,
   "id": "19567796",
   "metadata": {},
   "outputs": [
    {
     "data": {
      "text/plain": [
       "22"
      ]
     },
     "execution_count": 112,
     "metadata": {},
     "output_type": "execute_result"
    }
   ],
   "source": [
    "user_movie_count.max() # есть те, кто просмотрели все фильмы"
   ]
  },
  {
   "cell_type": "markdown",
   "id": "82ee66be",
   "metadata": {},
   "source": [
    "Найдем тем пользователей, которые посмотрели хотя бы 80% из фильмов"
   ]
  },
  {
   "cell_type": "code",
   "execution_count": 113,
   "id": "c97cb177",
   "metadata": {},
   "outputs": [
    {
     "data": {
      "text/plain": [
       "Int64Index([   897,   1917,   2327,   4127,   5283,   6386,   7010,   7155,\n",
       "              8558,   8774,\n",
       "            ...\n",
       "            317947, 318296, 318475, 319046, 319924, 321032, 324914, 327439,\n",
       "            329594, 330842],\n",
       "           dtype='int64', name='userId', length=384)"
      ]
     },
     "execution_count": 113,
     "metadata": {},
     "output_type": "execute_result"
    }
   ],
   "source": [
    "users_same_movies = user_movie_count[user_movie_count > (len(movies_watched) * 0.8)].index\n",
    "users_same_movies"
   ]
  },
  {
   "cell_type": "code",
   "execution_count": 114,
   "id": "84c1366c",
   "metadata": {},
   "outputs": [],
   "source": [
    "filted_df = movies_watched_df[movies_watched_df.index.isin(users_same_movies)]"
   ]
  },
  {
   "cell_type": "markdown",
   "id": "df478344",
   "metadata": {},
   "source": [
    "Посчитаем корреляцию между пользователями"
   ]
  },
  {
   "cell_type": "code",
   "execution_count": 115,
   "id": "500380a2",
   "metadata": {},
   "outputs": [],
   "source": [
    "corr_df = filted_df.T.corr().unstack().drop_duplicates()"
   ]
  },
  {
   "cell_type": "code",
   "execution_count": 116,
   "id": "ff0edfc7",
   "metadata": {},
   "outputs": [
    {
     "data": {
      "text/plain": [
       "userId\n",
       "295694    0.746960\n",
       "310438    0.688422\n",
       "296547    0.634497\n",
       "309284    0.597806\n",
       "240023    0.582425\n",
       "312288    0.576570\n",
       "293779    0.575886\n",
       "314721    0.568432\n",
       "283685    0.564769\n",
       "224971    0.544949\n",
       "318296    0.540210\n",
       "215551    0.524618\n",
       "311829    0.491449\n",
       "302776    0.469530\n",
       "298775    0.468805\n",
       "dtype: float64"
      ]
     },
     "execution_count": 116,
     "metadata": {},
     "output_type": "execute_result"
    }
   ],
   "source": [
    "corr_df[sample_guy][corr_df[sample_guy] > 0.10].sort_values(ascending=False)[:15]"
   ]
  },
  {
   "cell_type": "markdown",
   "id": "e3582f60",
   "metadata": {},
   "source": [
    "Посмотрим у с какими пользователями корреляция с нашим рандомным человеком превышает 30%"
   ]
  },
  {
   "cell_type": "code",
   "execution_count": 117,
   "id": "32ac7842",
   "metadata": {},
   "outputs": [
    {
     "data": {
      "text/html": [
       "<div>\n",
       "<style scoped>\n",
       "    .dataframe tbody tr th:only-of-type {\n",
       "        vertical-align: middle;\n",
       "    }\n",
       "\n",
       "    .dataframe tbody tr th {\n",
       "        vertical-align: top;\n",
       "    }\n",
       "\n",
       "    .dataframe thead th {\n",
       "        text-align: right;\n",
       "    }\n",
       "</style>\n",
       "<table border=\"1\" class=\"dataframe\">\n",
       "  <thead>\n",
       "    <tr style=\"text-align: right;\">\n",
       "      <th></th>\n",
       "      <th>corr</th>\n",
       "    </tr>\n",
       "    <tr>\n",
       "      <th>userId</th>\n",
       "      <th></th>\n",
       "    </tr>\n",
       "  </thead>\n",
       "  <tbody>\n",
       "    <tr>\n",
       "      <th>295694</th>\n",
       "      <td>0.746960</td>\n",
       "    </tr>\n",
       "    <tr>\n",
       "      <th>310438</th>\n",
       "      <td>0.688422</td>\n",
       "    </tr>\n",
       "    <tr>\n",
       "      <th>296547</th>\n",
       "      <td>0.634497</td>\n",
       "    </tr>\n",
       "    <tr>\n",
       "      <th>309284</th>\n",
       "      <td>0.597806</td>\n",
       "    </tr>\n",
       "    <tr>\n",
       "      <th>240023</th>\n",
       "      <td>0.582425</td>\n",
       "    </tr>\n",
       "    <tr>\n",
       "      <th>312288</th>\n",
       "      <td>0.576570</td>\n",
       "    </tr>\n",
       "    <tr>\n",
       "      <th>293779</th>\n",
       "      <td>0.575886</td>\n",
       "    </tr>\n",
       "    <tr>\n",
       "      <th>314721</th>\n",
       "      <td>0.568432</td>\n",
       "    </tr>\n",
       "    <tr>\n",
       "      <th>283685</th>\n",
       "      <td>0.564769</td>\n",
       "    </tr>\n",
       "    <tr>\n",
       "      <th>224971</th>\n",
       "      <td>0.544949</td>\n",
       "    </tr>\n",
       "    <tr>\n",
       "      <th>318296</th>\n",
       "      <td>0.540210</td>\n",
       "    </tr>\n",
       "    <tr>\n",
       "      <th>215551</th>\n",
       "      <td>0.524618</td>\n",
       "    </tr>\n",
       "    <tr>\n",
       "      <th>311829</th>\n",
       "      <td>0.491449</td>\n",
       "    </tr>\n",
       "    <tr>\n",
       "      <th>302776</th>\n",
       "      <td>0.469530</td>\n",
       "    </tr>\n",
       "    <tr>\n",
       "      <th>298775</th>\n",
       "      <td>0.468805</td>\n",
       "    </tr>\n",
       "  </tbody>\n",
       "</table>\n",
       "</div>"
      ],
      "text/plain": [
       "            corr\n",
       "userId          \n",
       "295694  0.746960\n",
       "310438  0.688422\n",
       "296547  0.634497\n",
       "309284  0.597806\n",
       "240023  0.582425\n",
       "312288  0.576570\n",
       "293779  0.575886\n",
       "314721  0.568432\n",
       "283685  0.564769\n",
       "224971  0.544949\n",
       "318296  0.540210\n",
       "215551  0.524618\n",
       "311829  0.491449\n",
       "302776  0.469530\n",
       "298775  0.468805"
      ]
     },
     "execution_count": 117,
     "metadata": {},
     "output_type": "execute_result"
    }
   ],
   "source": [
    "top_users = pd.DataFrame(corr_df[sample_guy][corr_df[sample_guy] > 0.10].sort_values(ascending=False)[:15], columns=[\"corr\"])\n",
    "top_users"
   ]
  },
  {
   "cell_type": "markdown",
   "id": "47e3774d",
   "metadata": {},
   "source": [
    "Создадим датасет с этими юзерами и их оценками"
   ]
  },
  {
   "cell_type": "code",
   "execution_count": 118,
   "id": "82d53a80",
   "metadata": {},
   "outputs": [
    {
     "data": {
      "text/html": [
       "<div>\n",
       "<style scoped>\n",
       "    .dataframe tbody tr th:only-of-type {\n",
       "        vertical-align: middle;\n",
       "    }\n",
       "\n",
       "    .dataframe tbody tr th {\n",
       "        vertical-align: top;\n",
       "    }\n",
       "\n",
       "    .dataframe thead th {\n",
       "        text-align: right;\n",
       "    }\n",
       "</style>\n",
       "<table border=\"1\" class=\"dataframe\">\n",
       "  <thead>\n",
       "    <tr style=\"text-align: right;\">\n",
       "      <th></th>\n",
       "      <th>userId</th>\n",
       "      <th>corr</th>\n",
       "      <th>tmdbId</th>\n",
       "      <th>rating</th>\n",
       "    </tr>\n",
       "  </thead>\n",
       "  <tbody>\n",
       "    <tr>\n",
       "      <th>0</th>\n",
       "      <td>295694</td>\n",
       "      <td>0.746960</td>\n",
       "      <td>862</td>\n",
       "      <td>4.0</td>\n",
       "    </tr>\n",
       "    <tr>\n",
       "      <th>1</th>\n",
       "      <td>295694</td>\n",
       "      <td>0.746960</td>\n",
       "      <td>197</td>\n",
       "      <td>5.0</td>\n",
       "    </tr>\n",
       "    <tr>\n",
       "      <th>2</th>\n",
       "      <td>295694</td>\n",
       "      <td>0.746960</td>\n",
       "      <td>11</td>\n",
       "      <td>4.5</td>\n",
       "    </tr>\n",
       "    <tr>\n",
       "      <th>3</th>\n",
       "      <td>295694</td>\n",
       "      <td>0.746960</td>\n",
       "      <td>13</td>\n",
       "      <td>5.0</td>\n",
       "    </tr>\n",
       "    <tr>\n",
       "      <th>4</th>\n",
       "      <td>295694</td>\n",
       "      <td>0.746960</td>\n",
       "      <td>10449</td>\n",
       "      <td>3.5</td>\n",
       "    </tr>\n",
       "    <tr>\n",
       "      <th>...</th>\n",
       "      <td>...</td>\n",
       "      <td>...</td>\n",
       "      <td>...</td>\n",
       "      <td>...</td>\n",
       "    </tr>\n",
       "    <tr>\n",
       "      <th>34102</th>\n",
       "      <td>298775</td>\n",
       "      <td>0.468805</td>\n",
       "      <td>321989</td>\n",
       "      <td>3.0</td>\n",
       "    </tr>\n",
       "    <tr>\n",
       "      <th>34103</th>\n",
       "      <td>298775</td>\n",
       "      <td>0.468805</td>\n",
       "      <td>721857</td>\n",
       "      <td>3.5</td>\n",
       "    </tr>\n",
       "    <tr>\n",
       "      <th>34104</th>\n",
       "      <td>298775</td>\n",
       "      <td>0.468805</td>\n",
       "      <td>545330</td>\n",
       "      <td>3.5</td>\n",
       "    </tr>\n",
       "    <tr>\n",
       "      <th>34105</th>\n",
       "      <td>298775</td>\n",
       "      <td>0.468805</td>\n",
       "      <td>537946</td>\n",
       "      <td>3.5</td>\n",
       "    </tr>\n",
       "    <tr>\n",
       "      <th>34106</th>\n",
       "      <td>298775</td>\n",
       "      <td>0.468805</td>\n",
       "      <td>643419</td>\n",
       "      <td>3.5</td>\n",
       "    </tr>\n",
       "  </tbody>\n",
       "</table>\n",
       "<p>34107 rows × 4 columns</p>\n",
       "</div>"
      ],
      "text/plain": [
       "       userId      corr  tmdbId  rating\n",
       "0      295694  0.746960     862     4.0\n",
       "1      295694  0.746960     197     5.0\n",
       "2      295694  0.746960      11     4.5\n",
       "3      295694  0.746960      13     5.0\n",
       "4      295694  0.746960   10449     3.5\n",
       "...       ...       ...     ...     ...\n",
       "34102  298775  0.468805  321989     3.0\n",
       "34103  298775  0.468805  721857     3.5\n",
       "34104  298775  0.468805  545330     3.5\n",
       "34105  298775  0.468805  537946     3.5\n",
       "34106  298775  0.468805  643419     3.5\n",
       "\n",
       "[34107 rows x 4 columns]"
      ]
     },
     "execution_count": 118,
     "metadata": {},
     "output_type": "execute_result"
    }
   ],
   "source": [
    "top_users_ratings = pd.merge(top_users, ratings[[\"userId\", \"tmdbId\", \"rating\"]], how='inner', on=\"userId\")\n",
    "\n",
    "top_users_ratings"
   ]
  },
  {
   "cell_type": "markdown",
   "id": "59a2dab4",
   "metadata": {},
   "source": [
    "Взвесим их оценки с помощью коэффициента схожести и выведем топ 10"
   ]
  },
  {
   "cell_type": "code",
   "execution_count": 119,
   "id": "74f7e69c",
   "metadata": {},
   "outputs": [],
   "source": [
    "top_users_ratings['weighted_rating'] = top_users_ratings['corr'] * top_users_ratings['rating']"
   ]
  },
  {
   "cell_type": "code",
   "execution_count": 120,
   "id": "86797912",
   "metadata": {},
   "outputs": [
    {
     "data": {
      "text/html": [
       "<div>\n",
       "<style scoped>\n",
       "    .dataframe tbody tr th:only-of-type {\n",
       "        vertical-align: middle;\n",
       "    }\n",
       "\n",
       "    .dataframe tbody tr th {\n",
       "        vertical-align: top;\n",
       "    }\n",
       "\n",
       "    .dataframe thead th {\n",
       "        text-align: right;\n",
       "    }\n",
       "</style>\n",
       "<table border=\"1\" class=\"dataframe\">\n",
       "  <thead>\n",
       "    <tr style=\"text-align: right;\">\n",
       "      <th></th>\n",
       "      <th>weighted_rating</th>\n",
       "    </tr>\n",
       "    <tr>\n",
       "      <th>tmdbId</th>\n",
       "      <th></th>\n",
       "    </tr>\n",
       "  </thead>\n",
       "  <tbody>\n",
       "    <tr>\n",
       "      <th>3</th>\n",
       "      <td>1.268993</td>\n",
       "    </tr>\n",
       "    <tr>\n",
       "      <th>5</th>\n",
       "      <td>1.597190</td>\n",
       "    </tr>\n",
       "    <tr>\n",
       "      <th>6</th>\n",
       "      <td>2.190369</td>\n",
       "    </tr>\n",
       "    <tr>\n",
       "      <th>11</th>\n",
       "      <td>2.311569</td>\n",
       "    </tr>\n",
       "    <tr>\n",
       "      <th>12</th>\n",
       "      <td>2.337883</td>\n",
       "    </tr>\n",
       "    <tr>\n",
       "      <th>...</th>\n",
       "      <td>...</td>\n",
       "    </tr>\n",
       "    <tr>\n",
       "      <th>1077280</th>\n",
       "      <td>2.017993</td>\n",
       "    </tr>\n",
       "    <tr>\n",
       "      <th>1077814</th>\n",
       "      <td>1.729709</td>\n",
       "    </tr>\n",
       "    <tr>\n",
       "      <th>1087040</th>\n",
       "      <td>2.017993</td>\n",
       "    </tr>\n",
       "    <tr>\n",
       "      <th>1139984</th>\n",
       "      <td>1.729709</td>\n",
       "    </tr>\n",
       "    <tr>\n",
       "      <th>1143747</th>\n",
       "      <td>2.017993</td>\n",
       "    </tr>\n",
       "  </tbody>\n",
       "</table>\n",
       "<p>12474 rows × 1 columns</p>\n",
       "</div>"
      ],
      "text/plain": [
       "         weighted_rating\n",
       "tmdbId                  \n",
       "3               1.268993\n",
       "5               1.597190\n",
       "6               2.190369\n",
       "11              2.311569\n",
       "12              2.337883\n",
       "...                  ...\n",
       "1077280         2.017993\n",
       "1077814         1.729709\n",
       "1087040         2.017993\n",
       "1139984         1.729709\n",
       "1143747         2.017993\n",
       "\n",
       "[12474 rows x 1 columns]"
      ]
     },
     "execution_count": 120,
     "metadata": {},
     "output_type": "execute_result"
    }
   ],
   "source": [
    "recommendation_df = top_users_ratings.pivot_table(values=\"weighted_rating\", index=\"tmdbId\", aggfunc=\"mean\")\n",
    "recommendation_df"
   ]
  },
  {
   "cell_type": "code",
   "execution_count": 121,
   "id": "03e66d49",
   "metadata": {},
   "outputs": [
    {
     "data": {
      "text/html": [
       "<div>\n",
       "<style scoped>\n",
       "    .dataframe tbody tr th:only-of-type {\n",
       "        vertical-align: middle;\n",
       "    }\n",
       "\n",
       "    .dataframe tbody tr th {\n",
       "        vertical-align: top;\n",
       "    }\n",
       "\n",
       "    .dataframe thead th {\n",
       "        text-align: right;\n",
       "    }\n",
       "</style>\n",
       "<table border=\"1\" class=\"dataframe\">\n",
       "  <thead>\n",
       "    <tr style=\"text-align: right;\">\n",
       "      <th></th>\n",
       "      <th>weighted_rating</th>\n",
       "    </tr>\n",
       "    <tr>\n",
       "      <th>tmdbId</th>\n",
       "      <th></th>\n",
       "    </tr>\n",
       "  </thead>\n",
       "  <tbody>\n",
       "    <tr>\n",
       "      <th>378064</th>\n",
       "      <td>3.442109</td>\n",
       "    </tr>\n",
       "    <tr>\n",
       "      <th>10228</th>\n",
       "      <td>3.442109</td>\n",
       "    </tr>\n",
       "    <tr>\n",
       "      <th>20996</th>\n",
       "      <td>3.361320</td>\n",
       "    </tr>\n",
       "    <tr>\n",
       "      <th>756688</th>\n",
       "      <td>3.361320</td>\n",
       "    </tr>\n",
       "    <tr>\n",
       "      <th>11304</th>\n",
       "      <td>3.361320</td>\n",
       "    </tr>\n",
       "    <tr>\n",
       "      <th>23495</th>\n",
       "      <td>3.361320</td>\n",
       "    </tr>\n",
       "    <tr>\n",
       "      <th>158</th>\n",
       "      <td>3.172483</td>\n",
       "    </tr>\n",
       "    <tr>\n",
       "      <th>20873</th>\n",
       "      <td>3.172483</td>\n",
       "    </tr>\n",
       "    <tr>\n",
       "      <th>20993</th>\n",
       "      <td>3.172483</td>\n",
       "    </tr>\n",
       "    <tr>\n",
       "      <th>20878</th>\n",
       "      <td>3.172483</td>\n",
       "    </tr>\n",
       "  </tbody>\n",
       "</table>\n",
       "</div>"
      ],
      "text/plain": [
       "        weighted_rating\n",
       "tmdbId                 \n",
       "378064         3.442109\n",
       "10228          3.442109\n",
       "20996          3.361320\n",
       "756688         3.361320\n",
       "11304          3.361320\n",
       "23495          3.361320\n",
       "158            3.172483\n",
       "20873          3.172483\n",
       "20993          3.172483\n",
       "20878          3.172483"
      ]
     },
     "execution_count": 121,
     "metadata": {},
     "output_type": "execute_result"
    }
   ],
   "source": [
    "recommendation_df.sort_values(\"weighted_rating\" , ascending=False).head(10)"
   ]
  },
  {
   "cell_type": "code",
   "execution_count": 122,
   "id": "4bd41238",
   "metadata": {},
   "outputs": [],
   "source": [
    "def user_based_recommender(userId, N):\n",
    "    try:\n",
    "        if user_tmbdId_matrix.loc[user_tmbdId_matrix.index == userId].shape[0] == 0:\n",
    "            return weighted_popular_recommender(userId, N)\n",
    "        watched_list = user_tmbdId_matrix.loc[user_tmbdId_matrix.index == userId].dropna(axis=1).columns.tolist()\n",
    "        watched_df = user_tmbdId_matrix[watched_list]\n",
    "        user_movie_count = watched_df.notnull().sum(axis=1)\n",
    "        users_same_movies = user_movie_count[user_movie_count > (len(watched_list) * 0.8)].index\n",
    "        if len(users_same_movies) == 0:\n",
    "            return weighted_popular_recommender(userId, N)\n",
    "        filted_df = watched_df[watched_df.index.isin(users_same_movies)]\n",
    "        corr_df = filted_df.T.corr().unstack().drop_duplicates()\n",
    "        top_users = pd.DataFrame(corr_df[userId][corr_df[userId] > 0.1].sort_values(ascending=False)[:15], columns=[\"corr\"])\n",
    "        top_users_ratings = pd.merge(top_users, ratings[[\"userId\", \"tmdbId\", \"rating\"]], how='inner', on=\"userId\")\n",
    "        top_users_ratings['weighted_rating'] = top_users_ratings['corr'] * top_users_ratings['rating']\n",
    "        recommendation_df = top_users_ratings.pivot_table(values=\"weighted_rating\", index=\"tmdbId\", aggfunc=\"mean\")\n",
    "        return recommendation_df.sort_values(\"weighted_rating\" , ascending=False).head(N).index.to_list()\n",
    "    except Exception as e:\n",
    "        print(e)\n",
    "        return []"
   ]
  },
  {
   "cell_type": "code",
   "execution_count": 123,
   "id": "332ba5b1",
   "metadata": {},
   "outputs": [
    {
     "data": {
      "text/plain": [
       "[378064, 10228, 20996, 756688, 11304, 23495, 158, 20873, 20993, 20878]"
      ]
     },
     "execution_count": 123,
     "metadata": {},
     "output_type": "execute_result"
    }
   ],
   "source": [
    "user_based_recommender(sample_guy, 10)"
   ]
  },
  {
   "cell_type": "markdown",
   "id": "c291bbe7",
   "metadata": {},
   "source": [
    "К сожалению, ресурсов машины не хватает для того, чтобы расчитать рекомендации для всех в датасете."
   ]
  },
  {
   "cell_type": "markdown",
   "id": "d8e07012",
   "metadata": {},
   "source": [
    "### <a id=\"2.3\">Model-Based Recommender System</a>"
   ]
  },
  {
   "cell_type": "markdown",
   "id": "2d966d0f",
   "metadata": {},
   "source": [
    "С помощью алгоритмов выше мы рекомендовали фильмы, которые могут понравиться пользователям, но есть возможность спрогнозировать оценку пользователей к каждому фильму. И сделаем мы это с помощью модели SVD."
   ]
  },
  {
   "cell_type": "code",
   "execution_count": 13,
   "id": "df5987f7",
   "metadata": {},
   "outputs": [],
   "source": [
    "reader = Reader(rating_scale=(0.5, 5))"
   ]
  },
  {
   "cell_type": "code",
   "execution_count": 14,
   "id": "6b8d157b",
   "metadata": {},
   "outputs": [],
   "source": [
    "data = Dataset.load_from_df(data_train[['userId', 'tmdbId', 'rating']], reader)"
   ]
  },
  {
   "cell_type": "code",
   "execution_count": 15,
   "id": "7dac9a6a",
   "metadata": {},
   "outputs": [],
   "source": [
    "trainset, testset = train_test_split(data, test_size=.25)\n",
    "svd_model = SVD(random_state=42)\n",
    "svd_model.fit(trainset)\n",
    "predictions = svd_model.test(testset)"
   ]
  },
  {
   "cell_type": "code",
   "execution_count": 16,
   "id": "6ac728cc",
   "metadata": {},
   "outputs": [
    {
     "name": "stdout",
     "output_type": "stream",
     "text": [
      "RMSE: 0.7896\n"
     ]
    },
    {
     "data": {
      "text/plain": [
       "0.7895724129978947"
      ]
     },
     "execution_count": 16,
     "metadata": {},
     "output_type": "execute_result"
    }
   ],
   "source": [
    "accuracy.rmse(predictions)"
   ]
  },
  {
   "cell_type": "markdown",
   "id": "98136252",
   "metadata": {},
   "source": [
    "Ошибка RMSE составляет 0.7896, чтобы понять насколько это критично, посмотрим на пример"
   ]
  },
  {
   "cell_type": "code",
   "execution_count": 56,
   "id": "c3cb3b7b",
   "metadata": {},
   "outputs": [
    {
     "name": "stdout",
     "output_type": "stream",
     "text": [
      "user: 318248     item: 1832       r_ui = None   est = 3.95   {'was_impossible': False}\n",
      "user: 318248     item: 4247       r_ui = None   est = 3.52   {'was_impossible': False}\n"
     ]
    },
    {
     "data": {
      "text/plain": [
       "Prediction(uid=318248, iid=4247, r_ui=None, est=3.5232360100754208, details={'was_impossible': False})"
      ]
     },
     "execution_count": 56,
     "metadata": {},
     "output_type": "execute_result"
    }
   ],
   "source": [
    "svd_model.predict(uid=318248, iid=1832, verbose=True)\n",
    "svd_model.predict(uid=318248, iid=4247, verbose=True)"
   ]
  },
  {
   "cell_type": "code",
   "execution_count": 57,
   "id": "c39fad35",
   "metadata": {},
   "outputs": [
    {
     "data": {
      "text/html": [
       "<div>\n",
       "<style scoped>\n",
       "    .dataframe tbody tr th:only-of-type {\n",
       "        vertical-align: middle;\n",
       "    }\n",
       "\n",
       "    .dataframe tbody tr th {\n",
       "        vertical-align: top;\n",
       "    }\n",
       "\n",
       "    .dataframe thead th {\n",
       "        text-align: right;\n",
       "    }\n",
       "</style>\n",
       "<table border=\"1\" class=\"dataframe\">\n",
       "  <thead>\n",
       "    <tr style=\"text-align: right;\">\n",
       "      <th></th>\n",
       "      <th>userId</th>\n",
       "      <th>movieId</th>\n",
       "      <th>rating</th>\n",
       "      <th>timestamp</th>\n",
       "      <th>tmdbId</th>\n",
       "    </tr>\n",
       "  </thead>\n",
       "  <tbody>\n",
       "    <tr>\n",
       "      <th>15029319</th>\n",
       "      <td>318248</td>\n",
       "      <td>3052</td>\n",
       "      <td>4.5</td>\n",
       "      <td>2005-03-07 08:46:01</td>\n",
       "      <td>1832</td>\n",
       "    </tr>\n",
       "    <tr>\n",
       "      <th>16217305</th>\n",
       "      <td>318248</td>\n",
       "      <td>3785</td>\n",
       "      <td>3.5</td>\n",
       "      <td>2005-03-07 09:00:03</td>\n",
       "      <td>4247</td>\n",
       "    </tr>\n",
       "  </tbody>\n",
       "</table>\n",
       "</div>"
      ],
      "text/plain": [
       "          userId  movieId  rating           timestamp  tmdbId\n",
       "15029319  318248     3052     4.5 2005-03-07 08:46:01    1832\n",
       "16217305  318248     3785     3.5 2005-03-07 09:00:03    4247"
      ]
     },
     "execution_count": 57,
     "metadata": {},
     "output_type": "execute_result"
    }
   ],
   "source": [
    "data_train[(data_train[\"userId\"] == 318248) & (data_train['tmdbId'].isin([4247, 1832]))]"
   ]
  },
  {
   "cell_type": "markdown",
   "id": "386b1268",
   "metadata": {},
   "source": [
    "Видно, что реальная оценка, которую поставил пользователь, и предсказанная отличаются. В первом примере алгоритм ошибся на 0.55, а во втором всего на 0.02. На рекомендации это не сильно повлияет, если более подходящий под предпочтения фильм получал больше, чем менее предпочтительный."
   ]
  },
  {
   "cell_type": "code",
   "execution_count": 35,
   "id": "18d65e01",
   "metadata": {},
   "outputs": [],
   "source": [
    "def svd_recommender(user_id, N):\n",
    "    didnt_watch = list(set(data_train[\"tmdbId\"].unique()) - set(data_train.loc[data_train['userId']==user_id,'tmdbId'].to_list()))\n",
    "    temp_dict={}\n",
    "    \n",
    "    for i in didnt_watch:\n",
    "        \n",
    "        temp_dict[i] = svd_model.predict(uid=user_id, iid=i)[3]\n",
    "     \n",
    "    suggestions = pd.DataFrame(temp_dict.items(),columns=[\"tmdbId\",'possible_rate']).sort_values(by=\"possible_rate\", ascending=False).head(N)\n",
    "    \n",
    "    return suggestions.tmdbId.to_list()"
   ]
  },
  {
   "cell_type": "code",
   "execution_count": 36,
   "id": "f3f33c40",
   "metadata": {},
   "outputs": [],
   "source": [
    "result['svd_recommender'] = result.apply(lambda x: svd_recommender(x.userId, 10), 1)"
   ]
  },
  {
   "cell_type": "code",
   "execution_count": 39,
   "id": "c3d1d355",
   "metadata": {},
   "outputs": [
    {
     "data": {
      "text/html": [
       "<div>\n",
       "<style scoped>\n",
       "    .dataframe tbody tr th:only-of-type {\n",
       "        vertical-align: middle;\n",
       "    }\n",
       "\n",
       "    .dataframe tbody tr th {\n",
       "        vertical-align: top;\n",
       "    }\n",
       "\n",
       "    .dataframe thead th {\n",
       "        text-align: right;\n",
       "    }\n",
       "</style>\n",
       "<table border=\"1\" class=\"dataframe\">\n",
       "  <thead>\n",
       "    <tr style=\"text-align: right;\">\n",
       "      <th></th>\n",
       "      <th>full_precision</th>\n",
       "      <th>warm_precision</th>\n",
       "      <th>cold_precision</th>\n",
       "    </tr>\n",
       "  </thead>\n",
       "  <tbody>\n",
       "    <tr>\n",
       "      <th>popular_recommender</th>\n",
       "      <td>0.090204</td>\n",
       "      <td>0.017540</td>\n",
       "      <td>0.271012</td>\n",
       "    </tr>\n",
       "    <tr>\n",
       "      <th>content_describtion_recommender</th>\n",
       "      <td>0.005014</td>\n",
       "      <td>0.007029</td>\n",
       "      <td>0.000000</td>\n",
       "    </tr>\n",
       "    <tr>\n",
       "      <th>content_soup_recommender</th>\n",
       "      <td>0.009655</td>\n",
       "      <td>0.013535</td>\n",
       "      <td>0.000000</td>\n",
       "    </tr>\n",
       "    <tr>\n",
       "      <th>content_genome_recommender</th>\n",
       "      <td>0.019762</td>\n",
       "      <td>0.027704</td>\n",
       "      <td>0.000000</td>\n",
       "    </tr>\n",
       "    <tr>\n",
       "      <th>content_genome_recommender_improved</th>\n",
       "      <td>0.033660</td>\n",
       "      <td>0.009860</td>\n",
       "      <td>0.092881</td>\n",
       "    </tr>\n",
       "    <tr>\n",
       "      <th>content_genome_popular_recommender</th>\n",
       "      <td>0.104898</td>\n",
       "      <td>0.038139</td>\n",
       "      <td>0.271012</td>\n",
       "    </tr>\n",
       "    <tr>\n",
       "      <th>svd_recommender</th>\n",
       "      <td>0.053018</td>\n",
       "      <td>0.018223</td>\n",
       "      <td>0.139595</td>\n",
       "    </tr>\n",
       "  </tbody>\n",
       "</table>\n",
       "</div>"
      ],
      "text/plain": [
       "                                     full_precision  warm_precision  \\\n",
       "popular_recommender                        0.090204        0.017540   \n",
       "content_describtion_recommender            0.005014        0.007029   \n",
       "content_soup_recommender                   0.009655        0.013535   \n",
       "content_genome_recommender                 0.019762        0.027704   \n",
       "content_genome_recommender_improved        0.033660        0.009860   \n",
       "content_genome_popular_recommender         0.104898        0.038139   \n",
       "svd_recommender                            0.053018        0.018223   \n",
       "\n",
       "                                     cold_precision  \n",
       "popular_recommender                        0.271012  \n",
       "content_describtion_recommender            0.000000  \n",
       "content_soup_recommender                   0.000000  \n",
       "content_genome_recommender                 0.000000  \n",
       "content_genome_recommender_improved        0.092881  \n",
       "content_genome_popular_recommender         0.271012  \n",
       "svd_recommender                            0.139595  "
      ]
     },
     "execution_count": 39,
     "metadata": {},
     "output_type": "execute_result"
    }
   ],
   "source": [
    "metrics.loc['svd_recommender'] = [result.apply(lambda x: precision_at_k(x.svd_recommender, x[1], 10), 1).mean(),\n",
    "                                  result.loc[~result.userId.isin(cold_users)].apply(lambda x: precision_at_k(x.svd_recommender, x[1], 10), 1).mean(),\n",
    "                                  result.loc[result.userId.isin(cold_users)].apply(lambda x: precision_at_k(x.svd_recommender, x[1], 10), 1).mean()]\n",
    "metrics"
   ]
  },
  {
   "cell_type": "markdown",
   "id": "a637f227",
   "metadata": {},
   "source": [
    "Посчитаем точность R2 и MSE"
   ]
  },
  {
   "cell_type": "code",
   "execution_count": 40,
   "id": "6a2a6735",
   "metadata": {},
   "outputs": [],
   "source": [
    "data_test['predict'] = data_test.apply(lambda x: svd_model.predict(uid=x.userId, iid=x.tmdbId, verbose=False)[3], 1)"
   ]
  },
  {
   "cell_type": "code",
   "execution_count": 41,
   "id": "2017fe7e",
   "metadata": {},
   "outputs": [
    {
     "data": {
      "text/plain": [
       "0.20766001720362315"
      ]
     },
     "execution_count": 41,
     "metadata": {},
     "output_type": "execute_result"
    }
   ],
   "source": [
    "r2_score(data_test.rating.tolist(), data_test.predict.to_list())"
   ]
  },
  {
   "cell_type": "code",
   "execution_count": 42,
   "id": "b8ee6208",
   "metadata": {},
   "outputs": [
    {
     "data": {
      "text/plain": [
       "0.9139608207386182"
      ]
     },
     "execution_count": 42,
     "metadata": {},
     "output_type": "execute_result"
    }
   ],
   "source": [
    "mean_squared_error(data_test.rating.tolist(), data_test.predict.to_list())"
   ]
  },
  {
   "cell_type": "markdown",
   "id": "685dff11",
   "metadata": {},
   "source": [
    "Можно выбрать более специфичный сцинарий применения и немного видоизменить алгоритм. Когда определенный пользователь смотрит фильм, то на странице внизу можно отобразить схожие фильмы с просматриваемым и проранжировать их с точки зрения предсказанной оценки. "
   ]
  },
  {
   "cell_type": "code",
   "execution_count": 43,
   "id": "a064cbee",
   "metadata": {},
   "outputs": [],
   "source": [
    "def svd_genome(userId, tmdbId, N):\n",
    "    similar_movies = get_similar_item(tmdbId, tmdbIds_genome, indices_genome, genome_sim, N*4)\n",
    "    similar_movies['tmdbId'] = similar_movies['tmdbId'].astype('int')\n",
    "    similar_movies['rating'] = similar_movies.apply(lambda x: svd_model.predict(userId, x['tmdbId'])[3], 1)\n",
    "    similar_movies['final_score'] = similar_movies['rating'] * similar_movies['score']\n",
    "    similar_movies = similar_movies.sort_values('final_score', ascending=False)\n",
    "    return similar_movies[['tmdbId', 'final_score']].head(N)"
   ]
  },
  {
   "cell_type": "code",
   "execution_count": 51,
   "id": "419acab1",
   "metadata": {},
   "outputs": [
    {
     "data": {
      "text/html": [
       "<div>\n",
       "<style scoped>\n",
       "    .dataframe tbody tr th:only-of-type {\n",
       "        vertical-align: middle;\n",
       "    }\n",
       "\n",
       "    .dataframe tbody tr th {\n",
       "        vertical-align: top;\n",
       "    }\n",
       "\n",
       "    .dataframe thead th {\n",
       "        text-align: right;\n",
       "    }\n",
       "</style>\n",
       "<table border=\"1\" class=\"dataframe\">\n",
       "  <thead>\n",
       "    <tr style=\"text-align: right;\">\n",
       "      <th></th>\n",
       "      <th>tmdbId</th>\n",
       "      <th>final_score</th>\n",
       "    </tr>\n",
       "  </thead>\n",
       "  <tbody>\n",
       "    <tr>\n",
       "      <th>48</th>\n",
       "      <td>85</td>\n",
       "      <td>3.806568</td>\n",
       "    </tr>\n",
       "    <tr>\n",
       "      <th>50</th>\n",
       "      <td>87</td>\n",
       "      <td>3.684315</td>\n",
       "    </tr>\n",
       "  </tbody>\n",
       "</table>\n",
       "</div>"
      ],
      "text/plain": [
       "    tmdbId  final_score\n",
       "48      85     3.806568\n",
       "50      87     3.684315"
      ]
     },
     "execution_count": 51,
     "metadata": {},
     "output_type": "execute_result"
    }
   ],
   "source": [
    "svd_genome(12, 89, 2)"
   ]
  },
  {
   "cell_type": "code",
   "execution_count": 52,
   "id": "143daa96",
   "metadata": {},
   "outputs": [],
   "source": [
    "def svd_genome_recommender(userId, N):\n",
    "    recs = pd.DataFrame(columns=['tmdbId', 'final_score'])\n",
    "    if users_data_train[users_data_train.userId==userId].shape[0] != 0:\n",
    "        watched_list = users_data_train[users_data_train.userId==userId]['items'].values[0]\n",
    "        for i in watched_list:\n",
    "            if i in indices_genome.index:\n",
    "                recs = pd.concat([recs, svd_genome(userId, i, 1)], ignore_index=True)\n",
    "                recs = recs.iloc[recs.sort_values('final_score').tmdbId.drop_duplicates().index]\n",
    "        recs['tmdbId'] = recs['tmdbId'].astype('int')\n",
    "        recs = recs.loc[~recs.tmdbId.isin(watched_list)]\n",
    "        recommendations = recs.sort_values('final_score', ascending=False).tmdbId.to_list()\n",
    "        if len(recommendations) < N:\n",
    "            recommendations.extend(svd_recommender(userId, N))\n",
    "        return recommendations[:N]\n",
    "    else:\n",
    "        return svd_recommender(userId, N)"
   ]
  },
  {
   "cell_type": "code",
   "execution_count": 53,
   "id": "3f7b0e2a",
   "metadata": {},
   "outputs": [
    {
     "data": {
      "text/plain": [
       "[1422, 9631]"
      ]
     },
     "execution_count": 53,
     "metadata": {},
     "output_type": "execute_result"
    }
   ],
   "source": [
    "svd_genome_recommender(12, 2)"
   ]
  },
  {
   "cell_type": "code",
   "execution_count": 54,
   "id": "97917a8c",
   "metadata": {},
   "outputs": [],
   "source": [
    "result['svd_genome_recommender'] = result.apply(lambda x: svd_genome_recommender(x.userId, 10), 1)"
   ]
  },
  {
   "cell_type": "code",
   "execution_count": 55,
   "id": "fa27e954",
   "metadata": {},
   "outputs": [
    {
     "data": {
      "text/html": [
       "<div>\n",
       "<style scoped>\n",
       "    .dataframe tbody tr th:only-of-type {\n",
       "        vertical-align: middle;\n",
       "    }\n",
       "\n",
       "    .dataframe tbody tr th {\n",
       "        vertical-align: top;\n",
       "    }\n",
       "\n",
       "    .dataframe thead th {\n",
       "        text-align: right;\n",
       "    }\n",
       "</style>\n",
       "<table border=\"1\" class=\"dataframe\">\n",
       "  <thead>\n",
       "    <tr style=\"text-align: right;\">\n",
       "      <th></th>\n",
       "      <th>full_precision</th>\n",
       "      <th>warm_precision</th>\n",
       "      <th>cold_precision</th>\n",
       "    </tr>\n",
       "  </thead>\n",
       "  <tbody>\n",
       "    <tr>\n",
       "      <th>popular_recommender</th>\n",
       "      <td>0.090204</td>\n",
       "      <td>0.017540</td>\n",
       "      <td>0.271012</td>\n",
       "    </tr>\n",
       "    <tr>\n",
       "      <th>content_describtion_recommender</th>\n",
       "      <td>0.005014</td>\n",
       "      <td>0.007029</td>\n",
       "      <td>0.000000</td>\n",
       "    </tr>\n",
       "    <tr>\n",
       "      <th>content_soup_recommender</th>\n",
       "      <td>0.009655</td>\n",
       "      <td>0.013535</td>\n",
       "      <td>0.000000</td>\n",
       "    </tr>\n",
       "    <tr>\n",
       "      <th>content_genome_recommender</th>\n",
       "      <td>0.019762</td>\n",
       "      <td>0.027704</td>\n",
       "      <td>0.000000</td>\n",
       "    </tr>\n",
       "    <tr>\n",
       "      <th>content_genome_recommender_improved</th>\n",
       "      <td>0.033660</td>\n",
       "      <td>0.009860</td>\n",
       "      <td>0.092881</td>\n",
       "    </tr>\n",
       "    <tr>\n",
       "      <th>content_genome_popular_recommender</th>\n",
       "      <td>0.104898</td>\n",
       "      <td>0.038139</td>\n",
       "      <td>0.271012</td>\n",
       "    </tr>\n",
       "    <tr>\n",
       "      <th>svd_recommender</th>\n",
       "      <td>0.053018</td>\n",
       "      <td>0.018223</td>\n",
       "      <td>0.139595</td>\n",
       "    </tr>\n",
       "    <tr>\n",
       "      <th>svd_genome_recommender</th>\n",
       "      <td>0.061722</td>\n",
       "      <td>0.030426</td>\n",
       "      <td>0.139595</td>\n",
       "    </tr>\n",
       "  </tbody>\n",
       "</table>\n",
       "</div>"
      ],
      "text/plain": [
       "                                     full_precision  warm_precision  \\\n",
       "popular_recommender                        0.090204        0.017540   \n",
       "content_describtion_recommender            0.005014        0.007029   \n",
       "content_soup_recommender                   0.009655        0.013535   \n",
       "content_genome_recommender                 0.019762        0.027704   \n",
       "content_genome_recommender_improved        0.033660        0.009860   \n",
       "content_genome_popular_recommender         0.104898        0.038139   \n",
       "svd_recommender                            0.053018        0.018223   \n",
       "svd_genome_recommender                     0.061722        0.030426   \n",
       "\n",
       "                                     cold_precision  \n",
       "popular_recommender                        0.271012  \n",
       "content_describtion_recommender            0.000000  \n",
       "content_soup_recommender                   0.000000  \n",
       "content_genome_recommender                 0.000000  \n",
       "content_genome_recommender_improved        0.092881  \n",
       "content_genome_popular_recommender         0.271012  \n",
       "svd_recommender                            0.139595  \n",
       "svd_genome_recommender                     0.139595  "
      ]
     },
     "execution_count": 55,
     "metadata": {},
     "output_type": "execute_result"
    }
   ],
   "source": [
    "metrics.loc['svd_genome_recommender'] = [result.apply(lambda x: precision_at_k(x.svd_genome_recommender, x[1], 10), 1).mean(),\n",
    "                                         result.loc[~result.userId.isin(cold_users)].apply(lambda x: precision_at_k(x.svd_genome_recommender, x[1], 10), 1).mean(),\n",
    "                                         result.loc[result.userId.isin(cold_users)].apply(lambda x: precision_at_k(x.svd_genome_recommender, x[1], 10), 1).mean()]\n",
    "metrics"
   ]
  },
  {
   "cell_type": "markdown",
   "id": "c758f3d3",
   "metadata": {},
   "source": [
    "Мы видим, что точность рекомендаций улучшилась на \"теплых\" пользователях"
   ]
  },
  {
   "cell_type": "markdown",
   "id": "52e9981f",
   "metadata": {},
   "source": [
    "### <a id=\"3\">Сравнение моделей</a>"
   ]
  },
  {
   "cell_type": "code",
   "execution_count": 58,
   "id": "0ac36c02",
   "metadata": {},
   "outputs": [
    {
     "data": {
      "text/html": [
       "<div>\n",
       "<style scoped>\n",
       "    .dataframe tbody tr th:only-of-type {\n",
       "        vertical-align: middle;\n",
       "    }\n",
       "\n",
       "    .dataframe tbody tr th {\n",
       "        vertical-align: top;\n",
       "    }\n",
       "\n",
       "    .dataframe thead th {\n",
       "        text-align: right;\n",
       "    }\n",
       "</style>\n",
       "<table border=\"1\" class=\"dataframe\">\n",
       "  <thead>\n",
       "    <tr style=\"text-align: right;\">\n",
       "      <th></th>\n",
       "      <th>full_precision</th>\n",
       "      <th>warm_precision</th>\n",
       "      <th>cold_precision</th>\n",
       "    </tr>\n",
       "  </thead>\n",
       "  <tbody>\n",
       "    <tr>\n",
       "      <th>popular_recommender</th>\n",
       "      <td>0.090204</td>\n",
       "      <td>0.017540</td>\n",
       "      <td>0.271012</td>\n",
       "    </tr>\n",
       "    <tr>\n",
       "      <th>content_describtion_recommender</th>\n",
       "      <td>0.005014</td>\n",
       "      <td>0.007029</td>\n",
       "      <td>0.000000</td>\n",
       "    </tr>\n",
       "    <tr>\n",
       "      <th>content_soup_recommender</th>\n",
       "      <td>0.009655</td>\n",
       "      <td>0.013535</td>\n",
       "      <td>0.000000</td>\n",
       "    </tr>\n",
       "    <tr>\n",
       "      <th>content_genome_recommender</th>\n",
       "      <td>0.019762</td>\n",
       "      <td>0.027704</td>\n",
       "      <td>0.000000</td>\n",
       "    </tr>\n",
       "    <tr>\n",
       "      <th>content_genome_recommender_improved</th>\n",
       "      <td>0.033660</td>\n",
       "      <td>0.009860</td>\n",
       "      <td>0.092881</td>\n",
       "    </tr>\n",
       "    <tr>\n",
       "      <th>content_genome_popular_recommender</th>\n",
       "      <td>0.104898</td>\n",
       "      <td>0.038139</td>\n",
       "      <td>0.271012</td>\n",
       "    </tr>\n",
       "    <tr>\n",
       "      <th>svd_recommender</th>\n",
       "      <td>0.053018</td>\n",
       "      <td>0.018223</td>\n",
       "      <td>0.139595</td>\n",
       "    </tr>\n",
       "    <tr>\n",
       "      <th>svd_genome_recommender</th>\n",
       "      <td>0.061722</td>\n",
       "      <td>0.030426</td>\n",
       "      <td>0.139595</td>\n",
       "    </tr>\n",
       "  </tbody>\n",
       "</table>\n",
       "</div>"
      ],
      "text/plain": [
       "                                     full_precision  warm_precision  \\\n",
       "popular_recommender                        0.090204        0.017540   \n",
       "content_describtion_recommender            0.005014        0.007029   \n",
       "content_soup_recommender                   0.009655        0.013535   \n",
       "content_genome_recommender                 0.019762        0.027704   \n",
       "content_genome_recommender_improved        0.033660        0.009860   \n",
       "content_genome_popular_recommender         0.104898        0.038139   \n",
       "svd_recommender                            0.053018        0.018223   \n",
       "svd_genome_recommender                     0.061722        0.030426   \n",
       "\n",
       "                                     cold_precision  \n",
       "popular_recommender                        0.271012  \n",
       "content_describtion_recommender            0.000000  \n",
       "content_soup_recommender                   0.000000  \n",
       "content_genome_recommender                 0.000000  \n",
       "content_genome_recommender_improved        0.092881  \n",
       "content_genome_popular_recommender         0.271012  \n",
       "svd_recommender                            0.139595  \n",
       "svd_genome_recommender                     0.139595  "
      ]
     },
     "execution_count": 58,
     "metadata": {},
     "output_type": "execute_result"
    }
   ],
   "source": [
    "metrics"
   ]
  },
  {
   "cell_type": "markdown",
   "id": "b39f4ffb",
   "metadata": {},
   "source": [
    "Я составила 8 разных рекомендательных систем. Из них для (content_genome_popular_recommender и svd_genome_recommender) являются гибридными, то есть вклячают логику друх разных алгоритмов.\n",
    "\n",
    "Лучше всего на общем датасете показал алгоритм **content_genome_popular_recommender**.\n",
    "\n",
    "С холодным стартом лучше всего справляется **popular_recommender**. Можно предположить, что новые пользователи предпочитают сначала закрыть общие потребности, то есть посмотреть популярные фильмы, которые любимы большинством. А потом уже смотреть фильмы, которые отражают индивидуальные предпочтения.\n",
    "\n",
    "С \"теплыми\" пользователями лучше показал себя **content_genome_popular_recommender** и **svd_genome_recommender**. "
   ]
  },
  {
   "cell_type": "markdown",
   "id": "9528ce0c",
   "metadata": {},
   "source": [
    "Дальнейшим шагом будет проверка рекомендательных систем на А/В тесте, где будет оцениваться их эффективность и положительный эффект. Если ресурсы позволяют, то можно проверить каждый из алгоритмов. Но если они ограничены, то можно проверить только те алгоритмы, которые получили больший показатель точности: **content_genome_popular_recommender, popular_recommender и svd_genome_recommender.**"
   ]
  },
  {
   "cell_type": "markdown",
   "id": "67fd1d83",
   "metadata": {},
   "source": [
    "##### Сохраняем данные и модель"
   ]
  },
  {
   "cell_type": "code",
   "execution_count": 79,
   "id": "725bd26c",
   "metadata": {},
   "outputs": [],
   "source": [
    "popular_df.to_csv(\"final_data/popular_df.csv\", index=False)\n",
    "metrics.to_csv(\"final_data/metrics.csv\")"
   ]
  },
  {
   "cell_type": "code",
   "execution_count": 80,
   "id": "a6e5aa38",
   "metadata": {},
   "outputs": [],
   "source": [
    "with open(\"final_data/svd_model.pkl\", \"wb\") as f:\n",
    "    pickle.dump(svd_model, f)"
   ]
  }
 ],
 "metadata": {
  "kernelspec": {
   "display_name": "Python 3 (ipykernel)",
   "language": "python",
   "name": "python3"
  },
  "language_info": {
   "codemirror_mode": {
    "name": "ipython",
    "version": 3
   },
   "file_extension": ".py",
   "mimetype": "text/x-python",
   "name": "python",
   "nbconvert_exporter": "python",
   "pygments_lexer": "ipython3",
   "version": "3.10.9"
  }
 },
 "nbformat": 4,
 "nbformat_minor": 5
}
